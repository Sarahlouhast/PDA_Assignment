{
 "cells": [
  {
   "cell_type": "markdown",
   "id": "95cf407c",
   "metadata": {},
   "source": [
    "# Programming for Data Analysis Project 1"
   ]
  },
  {
   "cell_type": "markdown",
   "id": "a64080fe",
   "metadata": {},
   "source": [
    "## Introduction\n",
    "\n",
    "The aim of this project is to create a data set by simulating a real-world phenomenon of your choosing.\n",
    "Rather than collect data related to the phenomenon model and synthesise such data using Python, numpy.random package.\n",
    "\n",
    "• Choose a real-world phenomenon that can be measured and for which you could collect at least one-hundred data points across at least four different variables.\n",
    "\n",
    "• Investigate the types of variables involved, their likely distributions, and their relationships with each other.\n",
    "\n",
    "• Synthesise/simulate a data set as closely matching their properties as possible.\n",
    "\n",
    "• Detail your research and implement the simulation in a Jupyter notebook – the data set itself can simply be displayed in an output cell within the notebook.\n"
   ]
  },
  {
   "cell_type": "markdown",
   "id": "94e14079",
   "metadata": {},
   "source": [
    "## Chosen real-world phenomenon - Homelessness in Ireland\n",
    "\n",
    "I have chosen homelessness in Ireland as my topic for this project. \n",
    "\n",
    "I will create a dataset of 200 people across 4 variables: Region, Adult age, Adult Gender, Accomodation Type. \n",
    "\n",
    "With the latest homelessness figures released in Ocotober 2023 and seeing the record numbers, with homelessness a major problem in Ireland, a continually worsening sitation, I decided to look into this further and base my research on this. \n",
    "\n",
    "The official homelessness statistics are published on a monthly basis and refer to the number of homeless persons accommodated in emergency accommodation funded and overseen by housing authorities during a specific count week, typically the last full week of the month. The reports are produced through the Pathway Accommodation & Support System (PASS), collated on a regional basis and compiled and published by the Department, which has been in place since 2014 and this data another frightening figure is that children now represent more than one-third of those in emergency accommodation, some of which are babies and will be experiencing their chirstmas homeless is available on www.data.gov.ie\n",
    "\n",
    "The first thing I noted was that these do not actually reflect the true homeless figures. \n",
    "\n",
    "This data identifies the number of people utilising State-funded emergency homeless accommodation on a regional and county basis in the last week of every month. It does not reflect the full picture, it does not account for people in accommodation not funded by the State, those that are in ‘own-door’ temporary accommodation, domestic violence refuges, in overcrowded accommodation, those couch surfing, asylum seekers, people who are sleeping rough, and the very many who are ‘hidden homeless’ and staying with family or friends in insecure housing, ‘the forgotten homeless'.\n",
    "\n",
    "A further rise in homelessness is not inevitable and a combination of immediate and long-term targeted measures need to be introduced now if we are to stop homeless from rising further and if we are to deliver on our European commitment of ending long-term homelessness by 2030. While the government work towards eradicating Homelessness by 2030, it is difficult to see how this can be achieved without knowning the full picture, with many, such as Sinn Féin TD Eoin Ó Broin, calling for the independent monitoring of homeless figures to understand the ‘true level’."
   ]
  },
  {
   "cell_type": "markdown",
   "id": "af42e982",
   "metadata": {},
   "source": [
    "![image](https://housingireland.ie/wp-content/uploads/2018/08/Homeless.jpg)"
   ]
  },
  {
   "cell_type": "markdown",
   "id": "82851e59",
   "metadata": {},
   "source": [
    "The below shows the homeless figures ranging from 2016 to date. It highlights the trends across the number of people in emergency accomodation, the number of adults male/female, families, children, gives an age breakdown and shows the numbers those accessing different types of state accomodation.\n",
    "\n",
    "The different types of accomodation include \n",
    "PEA - Private Emergency Accommodation: include hotels, B&Bs and other residential facilities that \n",
    "are used on an emergency basis. Supports are provided to services users on a visiting supports \n",
    "basis.\n",
    "STA - Supported Temporary Accommodation: accommodation, including family hubs, hostels, with \n",
    "onsite professional support.\n",
    "TEA - Temporary Emergency Accommodation: emergency accommodation with no (or minimal) \n",
    "support"
   ]
  },
  {
   "cell_type": "markdown",
   "id": "aa0412bf",
   "metadata": {},
   "source": [
    "![image](./Data/total-number-of-people-in-emergency-homeless-accommodation-in-ireland.png)"
   ]
  },
  {
   "cell_type": "markdown",
   "id": "fad38518",
   "metadata": {},
   "source": [
    "![image](./Data/adult-women-and-men-living-in-emergency-homeless-accommodation.png)"
   ]
  },
  {
   "cell_type": "markdown",
   "id": "b3b5fc9e",
   "metadata": {},
   "source": [
    "![image](./Data/number-of-families-in-emergency-homeless-accommodation.png)"
   ]
  },
  {
   "cell_type": "markdown",
   "id": "937cdd60",
   "metadata": {},
   "source": [
    "![image](./Data/adults-and-children-living-in-emergency-homeless-accommodation-in-ireland.png)"
   ]
  },
  {
   "cell_type": "markdown",
   "id": "b42fb38b",
   "metadata": {},
   "source": [
    "![image](./Data/age-breakdown-of-adults-living-in-emergency-homeless-accommodation.png)"
   ]
  },
  {
   "cell_type": "markdown",
   "id": "0615f2f8",
   "metadata": {},
   "source": [
    "![image](./Data/number-of-people-accessing-different-emergency-homeless-accommodation-types.png)"
   ]
  },
  {
   "cell_type": "markdown",
   "id": "3f98ac50",
   "metadata": {},
   "source": [
    "## Looking at the recently published figures\n",
    "\n",
    "Overall from the latest figures released, October 2023, there is a total of 13179 people homeless, a record figure for the nation, an increase of 16%, 1782 people, from the previous October 2022 figures.\n",
    "\n",
    "One frightening figure is that the number of children now represent more than one-third of those in emergency accommodation, 3991 children, some of which are babies and will be experiencing their first chirstmas homeless. \n",
    "\n",
    "#### Details of adults accessing local authority managed emergency accommodation during the week of 23–29 October 2023 show\n",
    "\n",
    "* 9,188 Adult \n",
    "* 6,000 (65%) single adults  \n",
    "* 5,683 (62%) males \n",
    "* 3,505 (38%) females\n",
    "\n",
    "#### Region\n",
    "\n",
    "The highest volume of Adults in emergency accommodation are in the Dublin region 6, 653 (72%).\n",
    "\n",
    "#### Age \n",
    "\n",
    "Below is a breakdown across the age categories\n",
    " \n",
    "* Ages 18-24 1,557 (17%)\n",
    "* Ages 25-44 4,850 (53%)\n",
    "* Ages 45-64 2591 (28%)\n",
    "* Ages 65+   190 (2%)\n",
    "\n",
    "From recent census publications the average age of a homeless person was 30.5 years compared to the higher 37.4 average age for the general population. This fails in line with the latest figures showing the category of ages 25-44 as the highest for homelessness, with the next highest group at ages 45-64, and then followed closely by ages 18-24.\n",
    "\n",
    "#### Across the accomation types\n",
    "* PEA - Private Emergency Accommodation 5,600 \n",
    "* STA - Supported Temporary Accommodation 3,438\n",
    "* TEA - Temporary Emergency Accommodation 158\n",
    "* Other 9\n",
    "\n",
    "Other aspects that can be considered are \n",
    "\n",
    "#### Citizenship\n",
    "* Irish 5187 (56%)\n",
    "* EEA/UK 2,105 (23%)\n",
    "* Non-EEA 1,896 (21%)\n",
    "\n",
    "\n",
    "#### Families \n",
    "* Total Families 1,939\n",
    "* Total of Adults in Families 3188\n",
    "* Total families of which single parent families 1,107\n",
    "* Total child dependants 3,99"
   ]
  },
  {
   "cell_type": "markdown",
   "id": "03105a3f",
   "metadata": {},
   "source": [
    "## Investigation into the types of variables involved, their likely distributions, and their relationships with each other.\n",
    "\n",
    "#### The variables I have chosen are as follows:\n",
    "\n",
    "* Region (Categorical : Location, Dublin / Elsewhere)\n",
    "* Adults (Continuous: 18 - 80 )\n",
    "* Adult Gender ( Categorical: Male / Female )\n",
    "* Accomodation Type ( Categorical: PEA, STA, TEA, Other)\n",
    "\n",
    "#### The below represent each for the Accomodation Type:\n",
    "\n",
    "* PEA - Private Emergency Accommodation: include hotels, B&Bs and other residential facilities that are used on an emergency basis. Supports are provided to services users on a visiting supports basis.\n",
    "* STA - Supported Temporary Accommodation: accommodation, including family hubs, hostels, with onsite professional support.\n",
    "* TEA - Temporary Emergency Accommodation: emergency accommodation with no (or minimal) support"
   ]
  },
  {
   "cell_type": "markdown",
   "id": "9f68fc39",
   "metadata": {},
   "source": [
    "## Importing libraries \n",
    "\n",
    "To get started I will import the necessary libraries.\n",
    "\n",
    "It is necessary to import pandas to allow for data analysis and manipulation. Import numpy to work with numerical data, arrays. Import matplotlib for use in creating static, animated, and interactive visualizations in python, pyplot is imported as a submodule of the matplotlib library and is used to visualize diagrams/visual data/plots. Seaborn is similar to matplotlib but gives a variety of visualization patterns which can be used in the analysis and is useful for plotting visual relationship between data. \n",
    "\n",
    "I will also set a seed for a consistent result and to ensure reproducibility in the simulations. This will ensure the same code and environment, the random numbers generated will be identical across different runs."
   ]
  },
  {
   "cell_type": "markdown",
   "id": "9a22e189",
   "metadata": {},
   "source": [
    "**It is important to run the below cell first as it loads up the various libraries required and used to generate the data.**\n",
    "\n",
    "**If you see errors further down the notebook, return to this cell.**"
   ]
  },
  {
   "cell_type": "code",
   "execution_count": 1,
   "id": "0037010c",
   "metadata": {},
   "outputs": [],
   "source": [
    "# Importing libraries\n",
    "import pandas as pd\n",
    "import numpy as np\n",
    "import matplotlib.pyplot as plt\n",
    "import seaborn as sns\n",
    "\n",
    "# Set the seed for consistent result\n",
    "np.random.seed(0)"
   ]
  },
  {
   "cell_type": "markdown",
   "id": "ba7f683b",
   "metadata": {},
   "source": [
    "## Region Variable (Categorical : Location, Dublin / Elsewhere)"
   ]
  },
  {
   "cell_type": "markdown",
   "id": "69988edd",
   "metadata": {},
   "source": [
    "The first variable I will look at is the region variable. For the region variable I have chosen to split the data in two regions - Dublin and Elsewhere. This is a cateogircal variable with two options. From my research and the most recent homelessness report October 2023, the latest figures show 72% in Dublin and the rest of the country combined is 28%, no other area is in anyway near as high or close to the capital figures. \n",
    "\n",
    "Dublin consistently has the highest figures, with an upward trend. This suggests a significant concentration of homeless adults in Dublin compared to other regions.\n",
    "\n",
    "I had considered using a triangular distribution for this variable. This is often used when there is a known relationship between the variable data but when there is relatively little data available to conduct a full statistical analysis. It is often used in simulations when there is very little known about the data-generating process and is often referred to as a “lack of knowledge” distribution. The triangular distribution is an ideal distribution when the only data on hand are the maximum and minimum values, and the most likely outcome. However, I found that the random.choice distribution would be a better fit from my research, this allowed me to control the probabilities.\n"
   ]
  },
  {
   "cell_type": "code",
   "execution_count": 2,
   "id": "7c41894d",
   "metadata": {},
   "outputs": [
    {
     "data": {
      "image/png": "[encoded data removed]",
      "text/plain": [
       "<Figure size 640x480 with 1 Axes>"
      ]
     },
     "metadata": {},
     "output_type": "display_data"
    }
   ],
   "source": [
    "# Set the seed for consistent result\n",
    "np.random.seed(0)\n",
    "\n",
    "# Simulate data for 200 individuals with 72% for Dublin and 28% for Elsewhere\n",
    "region = np.random.choice(['Dublin', 'Elsewhere'], size=200, p=[0.72, 0.28])\n",
    "\n",
    "# Visualize the distribution of Region\n",
    "plt.hist(region, edgecolor='black', alpha=0.7)\n",
    "plt.xlabel('Region')\n",
    "plt.ylabel('Count')\n",
    "plt.title('Simulated Distribution of Region')\n",
    "plt.show()"
   ]
  },
  {
   "cell_type": "markdown",
   "id": "24aedf7f",
   "metadata": {},
   "source": [
    "## Adult Age Variable (Continuous: 18 - 80 Age Group )"
   ]
  },
  {
   "cell_type": "markdown",
   "id": "6267a531",
   "metadata": {},
   "source": [
    "The next variable I will investigate and simulate is the the Adult Age Group. The age variable is a continuous numerical variable.\n",
    "\n",
    "In this case it is divided into age categories based on the research and data available.\n",
    "\n",
    "October 2023 published homelessness figures grouped by age are as follows:\n",
    "\n",
    "* Ages 18-24 1,557 (17%) \n",
    "* Ages 25-44 4,850 (53%) \n",
    "* Ages 45-64 2591 (28%) \n",
    "* Ages 65+ 190 (2%)\n",
    "\n",
    "Like the region variable, there is one continuous high trend and this is in the age category between 25 -44yrs. This seems to be a constant age group where the majority of homeless adults fall into. These figures match recent census publications with the average age of a homeless person at 30.5 years, falling within the highest age category. \n",
    "\n",
    "I have chosen to use to range the age from 18-80. At first I chose to use a uniform distribution to create the data as this allowed me to set both the lower and upper ranges for the age group, which I broke down further into smaller groups for the age range. From the below you will see this does not accurately reflect the observed distribution of homelessness across different age groups. \n",
    "\n",
    "From research I have varying percentages across different age categories and I will use the random.choice function with the weights parameter which will allow me to simulate the data by assigning different probabilities to each category."
   ]
  },
  {
   "cell_type": "code",
   "execution_count": 3,
   "id": "e2e68319",
   "metadata": {},
   "outputs": [
    {
     "data": {
      "text/plain": [
       "array([52., 62., 55., 52., 44., 58., 45., 73., 78., 42., 67., 51., 53.,\n",
       "       75., 22., 23., 19., 70., 66., 72., 79., 68., 47., 66., 25., 58.,\n",
       "       27., 77., 50., 44., 34., 66., 46., 53., 19., 56., 56., 56., 77.,\n",
       "       60., 40., 45., 61., 22., 59., 60., 31., 26., 38., 41., 53., 45.,\n",
       "       79., 24., 31., 28., 58., 34., 47., 33., 28., 25., 59., 27., 30.,\n",
       "       41., 69., 24., 70., 24., 79., 47., 79., 56., 64., 20., 36., 25.,\n",
       "       36., 25., 38., 44., 22., 61., 53., 34., 50., 24., 54., 76., 38.,\n",
       "       59., 26., 62., 36., 29., 54., 19., 69., 18., 60., 35., 64., 78.,\n",
       "       33., 54., 55., 53., 32., 77., 46., 70., 61., 36., 68., 43., 73.,\n",
       "       54., 73., 61., 63., 49., 77., 58., 44., 56., 19., 37., 59., 36.,\n",
       "       56., 45., 26., 36., 53., 55., 54., 58., 58., 45., 74., 41., 45.,\n",
       "       73., 68., 62., 24., 75., 62., 80., 27., 72., 28., 56., 26., 71.,\n",
       "       68., 53., 43., 22., 61., 46., 63., 72., 78., 71., 19., 40., 63.,\n",
       "       29., 50., 21., 30., 19., 67., 32., 39., 76., 62., 20., 28., 57.,\n",
       "       54., 33., 76., 56., 51., 55., 63., 37., 43., 31., 30., 77., 64.,\n",
       "       48., 32., 34., 22., 45.])"
      ]
     },
     "execution_count": 3,
     "metadata": {},
     "output_type": "execute_result"
    }
   ],
   "source": [
    "# Set the seed for consistent result\n",
    "np.random.seed(0)\n",
    "\n",
    "# Uniform distribution \n",
    "age = np.random.uniform(18,80,200)# Adults aged beween 18 -80  yrs old\n",
    "age.round()"
   ]
  },
  {
   "cell_type": "code",
   "execution_count": 4,
   "id": "149feff2",
   "metadata": {},
   "outputs": [
    {
     "data": {
      "text/plain": [
       "200"
      ]
     },
     "execution_count": 4,
     "metadata": {},
     "output_type": "execute_result"
    }
   ],
   "source": [
    "len(age)"
   ]
  },
  {
   "cell_type": "code",
   "execution_count": 5,
   "id": "494426aa",
   "metadata": {},
   "outputs": [
    {
     "data": {
      "text/plain": [
       "49.02714347011869"
      ]
     },
     "execution_count": 5,
     "metadata": {},
     "output_type": "execute_result"
    }
   ],
   "source": [
    "np.mean(age)"
   ]
  },
  {
   "cell_type": "code",
   "execution_count": 6,
   "id": "aab93956",
   "metadata": {},
   "outputs": [
    {
     "data": {
      "text/plain": [
       "51.49599556667751"
      ]
     },
     "execution_count": 6,
     "metadata": {},
     "output_type": "execute_result"
    }
   ],
   "source": [
    "np.median(age)"
   ]
  },
  {
   "cell_type": "code",
   "execution_count": 7,
   "id": "9329bef7",
   "metadata": {},
   "outputs": [
    {
     "data": {
      "image/png": "[encoded data removed]",
      "text/plain": [
       "<Figure size 640x480 with 1 Axes>"
      ]
     },
     "metadata": {},
     "output_type": "display_data"
    }
   ],
   "source": [
    "x = np.random.randint(18,80,200)\n",
    "plt.hist(x)\n",
    "plt.ylabel('Homeless Adults')\n",
    "plt.xlabel('Age')\n",
    "plt.title('Homelessness Report October 2023')\n",
    "plt.show()"
   ]
  },
  {
   "cell_type": "code",
   "execution_count": 8,
   "id": "f86ddfae",
   "metadata": {},
   "outputs": [
    {
     "data": {
      "text/plain": [
       "array([21., 22., 22., 21., 21., 22., 21., 23., 24., 20., 23., 21., 21.,\n",
       "       24., 18., 19., 18., 23., 23., 23., 24., 23., 21., 23., 19., 22.,\n",
       "       19., 24., 21., 20., 20., 23., 21., 21., 18., 22., 22., 22., 24.,\n",
       "       22., 20., 21., 22., 18., 22., 22., 19., 19., 20., 20., 36., 33.,\n",
       "       44., 27., 29., 28., 37., 30., 34., 30., 28., 27., 37., 28., 29.,\n",
       "       32., 41., 27., 41., 27., 44., 34., 44., 36., 39., 26., 30., 27.,\n",
       "       31., 27., 31., 33., 26., 38., 36., 30., 35., 27., 36., 43., 31.,\n",
       "       38., 28., 39., 30., 28., 36., 25., 41., 25., 58., 50., 59., 63.,\n",
       "       50., 56., 56., 56., 49., 63., 53., 61., 58., 51., 60., 53., 62.,\n",
       "       56., 62., 58., 59., 55., 63., 57., 53., 57., 45., 51., 58., 51.,\n",
       "       57., 53., 48., 51., 56., 56., 56., 57., 57., 53., 62., 52., 53.,\n",
       "       62., 60., 58., 47., 62., 59., 64., 67., 78., 67., 74., 67., 78.,\n",
       "       77., 74., 71., 66., 75., 72., 76., 78., 80., 78., 65., 70., 76.,\n",
       "       68., 73., 66., 68., 65., 77., 68., 70., 79., 76., 65., 67., 74.,\n",
       "       74., 69., 79., 74., 73., 74., 76., 70., 71., 68., 68., 79., 76.,\n",
       "       72., 68., 69., 66., 72.])"
      ]
     },
     "execution_count": 8,
     "metadata": {},
     "output_type": "execute_result"
    }
   ],
   "source": [
    "# Set the seed for consistent result\n",
    "np.random.seed(0)\n",
    "\n",
    "# Uniform distribution split by age groups\n",
    "GP1 = np.random.uniform(18,24,50)# Group 1 (18-24yrs)\n",
    "GP2 = np.random.uniform(25,44,50)# Group 2 (25-44yrs)\n",
    "GP3 = np.random.uniform(45,64,50)# Group 3(45-64yrs)\n",
    "GP4 = np.random.uniform(65,80,50)# Group 4(65-80yrs)\n",
    "GP = np.concatenate((GP1,GP2,GP3,GP4))\n",
    "GP.round()"
   ]
  },
  {
   "cell_type": "code",
   "execution_count": 9,
   "id": "508cca82",
   "metadata": {},
   "outputs": [
    {
     "data": {
      "text/plain": [
       "200"
      ]
     },
     "execution_count": 9,
     "metadata": {},
     "output_type": "execute_result"
    }
   ],
   "source": [
    "len(GP)"
   ]
  },
  {
   "cell_type": "code",
   "execution_count": 10,
   "id": "8cd0af6e",
   "metadata": {},
   "outputs": [
    {
     "data": {
      "text/plain": [
       "45.53902325132873"
      ]
     },
     "execution_count": 10,
     "metadata": {},
     "output_type": "execute_result"
    }
   ],
   "source": [
    "np.mean(GP)"
   ]
  },
  {
   "cell_type": "code",
   "execution_count": 11,
   "id": "7d6a5a31",
   "metadata": {},
   "outputs": [
    {
     "data": {
      "image/png": "[encoded data removed]",
      "text/plain": [
       "<Figure size 640x480 with 1 Axes>"
      ]
     },
     "metadata": {},
     "output_type": "display_data"
    }
   ],
   "source": [
    "plt.hist([GP1,GP2,GP3,GP4], label=['18-24yrs','25-44yrs','45-64yrs','65-80yrs'])\n",
    "plt.legend()\n",
    "plt.ylabel('Homeless Adults')\n",
    "plt.xlabel('Age Groups')\n",
    "plt.title('Homelessness Report October 2023')\n",
    "\n",
    "plt.show()"
   ]
  },
  {
   "cell_type": "markdown",
   "id": "bb2607d4",
   "metadata": {},
   "source": [
    "From plotting the two different selections for age, the second selection split by age groups gives a better spread of the ages. It does show Group 1, 2 as the largest age groups whereas the first plot shows large groupings also in the age category 65-80 yrs old. The mean age is much higher using these distributions. \n",
    "\n",
    "I decided to use the randon.choice to better fit my data, using the weighted distribution to better capture the characteristics of my data. And from this I can see the mean age is much closer to the average age from the most recent census results. "
   ]
  },
  {
   "cell_type": "code",
   "execution_count": 12,
   "id": "452647b1",
   "metadata": {},
   "outputs": [
    {
     "data": {
      "image/png": "[encoded data removed]",
      "text/plain": [
       "<Figure size 640x480 with 1 Axes>"
      ]
     },
     "metadata": {},
     "output_type": "display_data"
    }
   ],
   "source": [
    "# Set the seed for consistent result\n",
    "np.random.seed(0)\n",
    "\n",
    "# Define age categories and their percentages\n",
    "age_categories = ['18-24', '25-44', '45-64', '65-80']\n",
    "age_percentages = [0.17, 0.53, 0.28, 0.02]  # Corresponding to 17%, 53%, 28%, 2%\n",
    "\n",
    "# Number of simulations\n",
    "num_simulations = 200  \n",
    "\n",
    "# Simulate age distribution using np.random.choice\n",
    "age_data = np.random.choice(age_categories, size=num_simulations, p=age_percentages)\n",
    "\n",
    "# Count occurrences of each age category\n",
    "age_counts = {category: np.sum(age_data == category) for category in age_categories}\n",
    "\n",
    "# Plot bar chart for simulated age data\n",
    "plt.bar(age_counts.keys(), age_counts.values(), color='skyblue', edgecolor='black', alpha=0.7)\n",
    "plt.xlabel('Age Groups')\n",
    "plt.ylabel('Homeless Adults')\n",
    "plt.title('Homelessness Report October 2023')\n",
    "plt.show()\n"
   ]
  },
  {
   "cell_type": "code",
   "execution_count": 13,
   "id": "adff8baf",
   "metadata": {},
   "outputs": [
    {
     "name": "stdout",
     "output_type": "stream",
     "text": [
      "Mean Age (Simulated): 29\n"
     ]
    }
   ],
   "source": [
    "# Calculate the mean age directly from category labels\n",
    "mean_age_simulated = np.mean([int(category.split('-')[0]) for category in age_data])\n",
    "\n",
    "# Round the mean age to the nearest whole number\n",
    "rounded_mean_age_simulated = round(mean_age_simulated)\n",
    "\n",
    "print(f\"Mean Age (Simulated): {rounded_mean_age_simulated}\")"
   ]
  },
  {
   "cell_type": "markdown",
   "id": "9bb01ce8",
   "metadata": {},
   "source": [
    "Based on the above the random.choice is a better fit for the data simulation in this case."
   ]
  },
  {
   "cell_type": "markdown",
   "id": "e5973e6a",
   "metadata": {},
   "source": [
    "## Adult Gender Variable ( Categorical: Male / Female )"
   ]
  },
  {
   "cell_type": "markdown",
   "id": "d6dc015d",
   "metadata": {},
   "source": [
    "The next variable is gender, which is a categorical, nominal variable, having two categories (male and female) with no intrinsic ordering to the categories.\n",
    "\n",
    "I have used np.random.choice to generate the data on gender, giving a 40%, 60% female/male breakdown as per the October 2023 Homelessness report. This function generates a random sample from a given one dimensional array, the parameters entered being gender, size of output, and specified probabilities associated with each entry of gender, i.e. 60% male, 40% female, these control the distribution of the simulated data."
   ]
  },
  {
   "cell_type": "code",
   "execution_count": 14,
   "id": "6245d1e8",
   "metadata": {},
   "outputs": [
    {
     "data": {
      "image/png": "[encoded data removed]",
      "text/plain": [
       "<Figure size 640x480 with 1 Axes>"
      ]
     },
     "metadata": {},
     "output_type": "display_data"
    }
   ],
   "source": [
    "# Set the seed for consistent result\n",
    "np.random.seed(0)\n",
    "\n",
    "# Simulate gender with a split of 60% Male and 40% Female\n",
    "gender_data = np.random.choice([1, 2], size=200, p=[0.6, 0.4])\n",
    "\n",
    "# Plot histogram for simulated gender data\n",
    "plt.hist(gender_data)\n",
    "plt.ylabel('Homeless Adults')\n",
    "plt.xlabel('Gender, Male = 1, Female = 2')\n",
    "plt.title('Homelessness Report October 2023')\n",
    "plt.show()"
   ]
  },
  {
   "cell_type": "markdown",
   "id": "fe989b6c",
   "metadata": {},
   "source": [
    "## Accomodation Type ( Categorical: PEA, STA, TEA, Other)"
   ]
  },
  {
   "cell_type": "markdown",
   "id": "36fae820",
   "metadata": {},
   "source": [
    "The final variable I will look at is the accomodation type. \n",
    "\n",
    "The below represent each for the Accomodation Type:\n",
    "\n",
    "* PEA - Private Emergency Accommodation: include hotels, B&Bs and other residential facilities that are used on an emergency basis. Supports are provided to services users on a visiting supports basis.\n",
    "\n",
    "* STA - Supported Temporary Accommodation: accommodation, including family hubs, hostels, with onsite professional support.\n",
    "\n",
    "* TEA - Temporary Emergency Accommodation: emergency accommodation with no (or minimal) support\n",
    "\n",
    "* Other\n",
    "\n",
    "I have split the accomodation types into 4 categories and I have used random.choice to simulate the distribution of accommodation types based on the specified probabilities from my research, showing Private Emergency Accommodation as the largest group. "
   ]
  },
  {
   "cell_type": "code",
   "execution_count": 15,
   "id": "33eb656b",
   "metadata": {},
   "outputs": [
    {
     "data": {
      "image/png": "[encoded data removed]",
      "text/plain": [
       "<Figure size 800x600 with 1 Axes>"
      ]
     },
     "metadata": {},
     "output_type": "display_data"
    }
   ],
   "source": [
    "# Set the seed for consistent result\n",
    "np.random.seed(0)\n",
    "\n",
    "# Define accommodation categories and their percentages\n",
    "accommodation_categories = ['PTA', 'STA', 'TEA', 'Other']\n",
    "accommodation_percentages = [17, 53, 28, 2] \n",
    "\n",
    "# Number of simulations\n",
    "num_simulations = 200 \n",
    "\n",
    "# Simulate accommodation type distribution using numpy.random.choice\n",
    "simulated_data = np.random.choice(accommodation_categories, size=num_simulations, p=np.array(accommodation_percentages) / 100)\n",
    "\n",
    "# Plot bar chart for simulated data\n",
    "plt.figure(figsize=(8, 6)) \n",
    "\n",
    "# Use explicit bins to align with category labels\n",
    "bins = np.arange(len(accommodation_categories) + 1) - 0.5\n",
    "\n",
    "plt.hist(simulated_data, bins=bins, align='mid', edgecolor='black', alpha=0.7)\n",
    "\n",
    "# Include percentages in the bars\n",
    "for i, percentage in enumerate(accommodation_percentages):\n",
    "    plt.text(i, percentage + 2, f'{percentage}%', ha='center')\n",
    "\n",
    "plt.xlabel('Accommodation Types')\n",
    "plt.ylabel('Count')\n",
    "plt.title('Simulated Distribution of Accommodation Types')\n",
    "plt.xticks(range(len(accommodation_categories)), accommodation_categories, rotation=45)  # Set x-axis ticks and labels for readability\n",
    "plt.show()\n"
   ]
  },
  {
   "cell_type": "markdown",
   "id": "0aa6c659",
   "metadata": {},
   "source": [
    "## Simulation\n",
    "\n",
    "The different variables and their distributions were discussed above. I will now combine these into a dataframe.\n",
    "The data simulates the variables Age, Gender, Region, and Accommodation Type all relating to the Homelessness Status and are match for the dataset Honelessnesss figures October 2023."
   ]
  },
  {
   "cell_type": "code",
   "execution_count": 16,
   "id": "960e9975",
   "metadata": {},
   "outputs": [
    {
     "name": "stdout",
     "output_type": "stream",
     "text": [
      "     Region    Age  Gender Accommodation_Type\n",
      "0    Dublin  25-44       1                STA\n",
      "1    Dublin  25-44       2                STA\n",
      "2    Dublin  25-44       1                STA\n",
      "3    Dublin  25-44       2                PTA\n",
      "4    Dublin  18-24       2                STA\n",
      "..      ...    ...     ...                ...\n",
      "195  Dublin  45-64       2                TEA\n",
      "196  Dublin  25-44       1                STA\n",
      "197  Dublin  25-44       1                STA\n",
      "198  Dublin  18-24       1                STA\n",
      "199  Dublin  25-44       2                STA\n",
      "\n",
      "[200 rows x 4 columns]\n"
     ]
    }
   ],
   "source": [
    "# Set the seed for consistent result\n",
    "np.random.seed(0)\n",
    "\n",
    "# Simulate data for 200 individuals with 72% for Dublin and 28% for Elsewhere\n",
    "region = np.random.choice(['Dublin', 'Elsewhere'], size=200, p=[0.72, 0.28])\n",
    "\n",
    "# Define age categories and their percentages\n",
    "age_categories = ['18-24', '25-44', '45-64', '65-80']\n",
    "age_percentages = [0.17, 0.53, 0.28, 0.02]  # Corresponding to 17%, 53%, 28%, 2%\n",
    "\n",
    "# Number of simulations\n",
    "num_simulations = 200  \n",
    "\n",
    "# Simulate age distribution using np.random.choice\n",
    "age_data = np.random.choice(age_categories, size=num_simulations, p=age_percentages)\n",
    "\n",
    "# Simulate gender with a split of 60% Male and 40% Female\n",
    "gender_data = np.random.choice([1, 2], size=200, p=[0.6, 0.4])\n",
    "\n",
    "# Define accommodation categories and their percentages\n",
    "accommodation_categories = ['PTA', 'STA', 'TEA', 'Other']\n",
    "accommodation_percentages = [17, 53, 28, 2] \n",
    "\n",
    "# Number of simulations\n",
    "num_simulations = 200 \n",
    "\n",
    "# Simulate accommodation type distribution using numpy.random.choice\n",
    "simulated_data = np.random.choice(accommodation_categories, size=num_simulations, p=np.array(accommodation_percentages) / 100)\n",
    "\n",
    "# Create a DataFrame\n",
    "df = pd.DataFrame({\n",
    "    'Region': region,\n",
    "    'Age': age_data,\n",
    "    'Gender': gender_data,\n",
    "    'Accommodation_Type': simulated_data\n",
    "})\n",
    "\n",
    "# Display the DataFrame\n",
    "print(df)\n"
   ]
  },
  {
   "cell_type": "markdown",
   "id": "ec47a7fc",
   "metadata": {},
   "source": [
    "Now I must convert the numerical values with their corresponding string values in the DataFrame, I will do this with the replace method."
   ]
  },
  {
   "cell_type": "code",
   "execution_count": 17,
   "id": "77c8d685",
   "metadata": {},
   "outputs": [
    {
     "name": "stdout",
     "output_type": "stream",
     "text": [
      "     Region    Age  Gender Accommodation_Type\n",
      "0    Dublin  25-44    Male                STA\n",
      "1    Dublin  25-44  Female                STA\n",
      "2    Dublin  25-44    Male                STA\n",
      "3    Dublin  25-44  Female                PTA\n",
      "4    Dublin  18-24  Female                STA\n",
      "..      ...    ...     ...                ...\n",
      "195  Dublin  45-64  Female                TEA\n",
      "196  Dublin  25-44    Male                STA\n",
      "197  Dublin  25-44    Male                STA\n",
      "198  Dublin  18-24    Male                STA\n",
      "199  Dublin  25-44  Female                STA\n",
      "\n",
      "[200 rows x 4 columns]\n"
     ]
    }
   ],
   "source": [
    "# Convert Accommodation Type from numbers into string values\n",
    "df['Accommodation_Type'].replace({1: 'PEA', 2: 'STA', 3: 'TEA', 4: 'Other'}, inplace=True)\n",
    "\n",
    "# Convert Gender type values into strings\n",
    "df['Gender'].replace({1: 'Male', 2: 'Female'}, inplace=True)\n",
    "\n",
    "# Display the updated DataFrame\n",
    "print(df)"
   ]
  },
  {
   "cell_type": "markdown",
   "id": "0f136f80",
   "metadata": {},
   "source": [
    "To review the set using the below I can check the counts of specific columns and filter and select certain columns, rows in the dataset."
   ]
  },
  {
   "cell_type": "code",
   "execution_count": 18,
   "id": "f08666bd",
   "metadata": {},
   "outputs": [
    {
     "data": {
      "text/plain": [
       "Male      119\n",
       "Female     81\n",
       "Name: Gender, dtype: int64"
      ]
     },
     "execution_count": 18,
     "metadata": {},
     "output_type": "execute_result"
    }
   ],
   "source": [
    "# Count of specific columns\n",
    "df['Gender'].value_counts()"
   ]
  },
  {
   "cell_type": "code",
   "execution_count": 19,
   "id": "412a6b5a",
   "metadata": {},
   "outputs": [
    {
     "data": {
      "text/html": [
       "<div>\n",
       "<style scoped>\n",
       "    .dataframe tbody tr th:only-of-type {\n",
       "        vertical-align: middle;\n",
       "    }\n",
       "\n",
       "    .dataframe tbody tr th {\n",
       "        vertical-align: top;\n",
       "    }\n",
       "\n",
       "    .dataframe thead th {\n",
       "        text-align: right;\n",
       "    }\n",
       "</style>\n",
       "<table border=\"1\" class=\"dataframe\">\n",
       "  <thead>\n",
       "    <tr style=\"text-align: right;\">\n",
       "      <th></th>\n",
       "      <th>Gender</th>\n",
       "      <th>Age</th>\n",
       "    </tr>\n",
       "  </thead>\n",
       "  <tbody>\n",
       "    <tr>\n",
       "      <th>0</th>\n",
       "      <td>Male</td>\n",
       "      <td>25-44</td>\n",
       "    </tr>\n",
       "    <tr>\n",
       "      <th>1</th>\n",
       "      <td>Female</td>\n",
       "      <td>25-44</td>\n",
       "    </tr>\n",
       "    <tr>\n",
       "      <th>2</th>\n",
       "      <td>Male</td>\n",
       "      <td>25-44</td>\n",
       "    </tr>\n",
       "    <tr>\n",
       "      <th>3</th>\n",
       "      <td>Female</td>\n",
       "      <td>25-44</td>\n",
       "    </tr>\n",
       "    <tr>\n",
       "      <th>4</th>\n",
       "      <td>Female</td>\n",
       "      <td>18-24</td>\n",
       "    </tr>\n",
       "    <tr>\n",
       "      <th>...</th>\n",
       "      <td>...</td>\n",
       "      <td>...</td>\n",
       "    </tr>\n",
       "    <tr>\n",
       "      <th>195</th>\n",
       "      <td>Female</td>\n",
       "      <td>45-64</td>\n",
       "    </tr>\n",
       "    <tr>\n",
       "      <th>196</th>\n",
       "      <td>Male</td>\n",
       "      <td>25-44</td>\n",
       "    </tr>\n",
       "    <tr>\n",
       "      <th>197</th>\n",
       "      <td>Male</td>\n",
       "      <td>25-44</td>\n",
       "    </tr>\n",
       "    <tr>\n",
       "      <th>198</th>\n",
       "      <td>Male</td>\n",
       "      <td>18-24</td>\n",
       "    </tr>\n",
       "    <tr>\n",
       "      <th>199</th>\n",
       "      <td>Female</td>\n",
       "      <td>25-44</td>\n",
       "    </tr>\n",
       "  </tbody>\n",
       "</table>\n",
       "<p>200 rows × 2 columns</p>\n",
       "</div>"
      ],
      "text/plain": [
       "     Gender    Age\n",
       "0      Male  25-44\n",
       "1    Female  25-44\n",
       "2      Male  25-44\n",
       "3    Female  25-44\n",
       "4    Female  18-24\n",
       "..      ...    ...\n",
       "195  Female  45-64\n",
       "196    Male  25-44\n",
       "197    Male  25-44\n",
       "198    Male  18-24\n",
       "199  Female  25-44\n",
       "\n",
       "[200 rows x 2 columns]"
      ]
     },
     "execution_count": 19,
     "metadata": {},
     "output_type": "execute_result"
    }
   ],
   "source": [
    "# Filter by specific columns\n",
    "df[['Gender','Age']]"
   ]
  },
  {
   "cell_type": "code",
   "execution_count": 20,
   "id": "1a7bd8d6",
   "metadata": {},
   "outputs": [
    {
     "data": {
      "text/html": [
       "<div>\n",
       "<style scoped>\n",
       "    .dataframe tbody tr th:only-of-type {\n",
       "        vertical-align: middle;\n",
       "    }\n",
       "\n",
       "    .dataframe tbody tr th {\n",
       "        vertical-align: top;\n",
       "    }\n",
       "\n",
       "    .dataframe thead th {\n",
       "        text-align: right;\n",
       "    }\n",
       "</style>\n",
       "<table border=\"1\" class=\"dataframe\">\n",
       "  <thead>\n",
       "    <tr style=\"text-align: right;\">\n",
       "      <th></th>\n",
       "      <th>Region</th>\n",
       "      <th>Age</th>\n",
       "      <th>Gender</th>\n",
       "      <th>Accommodation_Type</th>\n",
       "    </tr>\n",
       "  </thead>\n",
       "  <tbody>\n",
       "    <tr>\n",
       "      <th>0</th>\n",
       "      <td>Dublin</td>\n",
       "      <td>25-44</td>\n",
       "      <td>Male</td>\n",
       "      <td>STA</td>\n",
       "    </tr>\n",
       "    <tr>\n",
       "      <th>1</th>\n",
       "      <td>Dublin</td>\n",
       "      <td>25-44</td>\n",
       "      <td>Female</td>\n",
       "      <td>STA</td>\n",
       "    </tr>\n",
       "    <tr>\n",
       "      <th>2</th>\n",
       "      <td>Dublin</td>\n",
       "      <td>25-44</td>\n",
       "      <td>Male</td>\n",
       "      <td>STA</td>\n",
       "    </tr>\n",
       "    <tr>\n",
       "      <th>3</th>\n",
       "      <td>Dublin</td>\n",
       "      <td>25-44</td>\n",
       "      <td>Female</td>\n",
       "      <td>PTA</td>\n",
       "    </tr>\n",
       "    <tr>\n",
       "      <th>4</th>\n",
       "      <td>Dublin</td>\n",
       "      <td>18-24</td>\n",
       "      <td>Female</td>\n",
       "      <td>STA</td>\n",
       "    </tr>\n",
       "  </tbody>\n",
       "</table>\n",
       "</div>"
      ],
      "text/plain": [
       "   Region    Age  Gender Accommodation_Type\n",
       "0  Dublin  25-44    Male                STA\n",
       "1  Dublin  25-44  Female                STA\n",
       "2  Dublin  25-44    Male                STA\n",
       "3  Dublin  25-44  Female                PTA\n",
       "4  Dublin  18-24  Female                STA"
      ]
     },
     "execution_count": 20,
     "metadata": {},
     "output_type": "execute_result"
    }
   ],
   "source": [
    "# First five Rows\n",
    "df[0:5]"
   ]
  },
  {
   "cell_type": "code",
   "execution_count": 21,
   "id": "574c0083",
   "metadata": {},
   "outputs": [
    {
     "data": {
      "text/html": [
       "<div>\n",
       "<style scoped>\n",
       "    .dataframe tbody tr th:only-of-type {\n",
       "        vertical-align: middle;\n",
       "    }\n",
       "\n",
       "    .dataframe tbody tr th {\n",
       "        vertical-align: top;\n",
       "    }\n",
       "\n",
       "    .dataframe thead th {\n",
       "        text-align: right;\n",
       "    }\n",
       "</style>\n",
       "<table border=\"1\" class=\"dataframe\">\n",
       "  <thead>\n",
       "    <tr style=\"text-align: right;\">\n",
       "      <th></th>\n",
       "      <th>Gender</th>\n",
       "      <th>Age</th>\n",
       "    </tr>\n",
       "  </thead>\n",
       "  <tbody>\n",
       "    <tr>\n",
       "      <th>0</th>\n",
       "      <td>Male</td>\n",
       "      <td>25-44</td>\n",
       "    </tr>\n",
       "    <tr>\n",
       "      <th>1</th>\n",
       "      <td>Female</td>\n",
       "      <td>25-44</td>\n",
       "    </tr>\n",
       "    <tr>\n",
       "      <th>2</th>\n",
       "      <td>Male</td>\n",
       "      <td>25-44</td>\n",
       "    </tr>\n",
       "    <tr>\n",
       "      <th>3</th>\n",
       "      <td>Female</td>\n",
       "      <td>25-44</td>\n",
       "    </tr>\n",
       "    <tr>\n",
       "      <th>4</th>\n",
       "      <td>Female</td>\n",
       "      <td>18-24</td>\n",
       "    </tr>\n",
       "  </tbody>\n",
       "</table>\n",
       "</div>"
      ],
      "text/plain": [
       "   Gender    Age\n",
       "0    Male  25-44\n",
       "1  Female  25-44\n",
       "2    Male  25-44\n",
       "3  Female  25-44\n",
       "4  Female  18-24"
      ]
     },
     "execution_count": 21,
     "metadata": {},
     "output_type": "execute_result"
    }
   ],
   "source": [
    "# First Five Rows with just Gender & Age\n",
    "df[['Gender','Age']][0:5]"
   ]
  },
  {
   "cell_type": "code",
   "execution_count": 22,
   "id": "249dd7fb",
   "metadata": {},
   "outputs": [
    {
     "data": {
      "text/html": [
       "<div>\n",
       "<style scoped>\n",
       "    .dataframe tbody tr th:only-of-type {\n",
       "        vertical-align: middle;\n",
       "    }\n",
       "\n",
       "    .dataframe tbody tr th {\n",
       "        vertical-align: top;\n",
       "    }\n",
       "\n",
       "    .dataframe thead th {\n",
       "        text-align: right;\n",
       "    }\n",
       "</style>\n",
       "<table border=\"1\" class=\"dataframe\">\n",
       "  <thead>\n",
       "    <tr style=\"text-align: right;\">\n",
       "      <th></th>\n",
       "      <th>Gender</th>\n",
       "      <th>Age</th>\n",
       "    </tr>\n",
       "  </thead>\n",
       "  <tbody>\n",
       "    <tr>\n",
       "      <th>0</th>\n",
       "      <td>Male</td>\n",
       "      <td>25-44</td>\n",
       "    </tr>\n",
       "    <tr>\n",
       "      <th>1</th>\n",
       "      <td>Female</td>\n",
       "      <td>25-44</td>\n",
       "    </tr>\n",
       "    <tr>\n",
       "      <th>2</th>\n",
       "      <td>Male</td>\n",
       "      <td>25-44</td>\n",
       "    </tr>\n",
       "    <tr>\n",
       "      <th>3</th>\n",
       "      <td>Female</td>\n",
       "      <td>25-44</td>\n",
       "    </tr>\n",
       "    <tr>\n",
       "      <th>4</th>\n",
       "      <td>Female</td>\n",
       "      <td>18-24</td>\n",
       "    </tr>\n",
       "    <tr>\n",
       "      <th>5</th>\n",
       "      <td>Male</td>\n",
       "      <td>18-24</td>\n",
       "    </tr>\n",
       "  </tbody>\n",
       "</table>\n",
       "</div>"
      ],
      "text/plain": [
       "   Gender    Age\n",
       "0    Male  25-44\n",
       "1  Female  25-44\n",
       "2    Male  25-44\n",
       "3  Female  25-44\n",
       "4  Female  18-24\n",
       "5    Male  18-24"
      ]
     },
     "execution_count": 22,
     "metadata": {},
     "output_type": "execute_result"
    }
   ],
   "source": [
    "df.loc[0:5, ['Gender', 'Age']]"
   ]
  },
  {
   "cell_type": "code",
   "execution_count": 23,
   "id": "f716f8b1",
   "metadata": {},
   "outputs": [
    {
     "data": {
      "text/plain": [
       "Region                Elsewhere\n",
       "Age                       65-80\n",
       "Gender                     Male\n",
       "Accommodation_Type          STA\n",
       "Name: 10, dtype: object"
      ]
     },
     "execution_count": 23,
     "metadata": {},
     "output_type": "execute_result"
    }
   ],
   "source": [
    "# Locate and display all data in row 10\n",
    "df.iloc[10]"
   ]
  },
  {
   "cell_type": "code",
   "execution_count": 24,
   "id": "60921e9d",
   "metadata": {},
   "outputs": [
    {
     "data": {
      "text/html": [
       "<div>\n",
       "<style scoped>\n",
       "    .dataframe tbody tr th:only-of-type {\n",
       "        vertical-align: middle;\n",
       "    }\n",
       "\n",
       "    .dataframe tbody tr th {\n",
       "        vertical-align: top;\n",
       "    }\n",
       "\n",
       "    .dataframe thead th {\n",
       "        text-align: right;\n",
       "    }\n",
       "</style>\n",
       "<table border=\"1\" class=\"dataframe\">\n",
       "  <thead>\n",
       "    <tr style=\"text-align: right;\">\n",
       "      <th></th>\n",
       "      <th>Region</th>\n",
       "      <th>Age</th>\n",
       "      <th>Gender</th>\n",
       "      <th>Accommodation_Type</th>\n",
       "    </tr>\n",
       "  </thead>\n",
       "  <tbody>\n",
       "    <tr>\n",
       "      <th>0</th>\n",
       "      <td>Dublin</td>\n",
       "      <td>25-44</td>\n",
       "      <td>Male</td>\n",
       "      <td>STA</td>\n",
       "    </tr>\n",
       "    <tr>\n",
       "      <th>1</th>\n",
       "      <td>Dublin</td>\n",
       "      <td>25-44</td>\n",
       "      <td>Female</td>\n",
       "      <td>STA</td>\n",
       "    </tr>\n",
       "    <tr>\n",
       "      <th>2</th>\n",
       "      <td>Dublin</td>\n",
       "      <td>25-44</td>\n",
       "      <td>Male</td>\n",
       "      <td>STA</td>\n",
       "    </tr>\n",
       "    <tr>\n",
       "      <th>3</th>\n",
       "      <td>Dublin</td>\n",
       "      <td>25-44</td>\n",
       "      <td>Female</td>\n",
       "      <td>PTA</td>\n",
       "    </tr>\n",
       "    <tr>\n",
       "      <th>4</th>\n",
       "      <td>Dublin</td>\n",
       "      <td>18-24</td>\n",
       "      <td>Female</td>\n",
       "      <td>STA</td>\n",
       "    </tr>\n",
       "  </tbody>\n",
       "</table>\n",
       "</div>"
      ],
      "text/plain": [
       "   Region    Age  Gender Accommodation_Type\n",
       "0  Dublin  25-44    Male                STA\n",
       "1  Dublin  25-44  Female                STA\n",
       "2  Dublin  25-44    Male                STA\n",
       "3  Dublin  25-44  Female                PTA\n",
       "4  Dublin  18-24  Female                STA"
      ]
     },
     "execution_count": 24,
     "metadata": {},
     "output_type": "execute_result"
    }
   ],
   "source": [
    "#  Returns the first 5 rows if a number is not specified\n",
    "df.head()"
   ]
  },
  {
   "cell_type": "code",
   "execution_count": 25,
   "id": "040b5ba7",
   "metadata": {},
   "outputs": [
    {
     "data": {
      "text/html": [
       "<div>\n",
       "<style scoped>\n",
       "    .dataframe tbody tr th:only-of-type {\n",
       "        vertical-align: middle;\n",
       "    }\n",
       "\n",
       "    .dataframe tbody tr th {\n",
       "        vertical-align: top;\n",
       "    }\n",
       "\n",
       "    .dataframe thead th {\n",
       "        text-align: right;\n",
       "    }\n",
       "</style>\n",
       "<table border=\"1\" class=\"dataframe\">\n",
       "  <thead>\n",
       "    <tr style=\"text-align: right;\">\n",
       "      <th></th>\n",
       "      <th>Region</th>\n",
       "      <th>Age</th>\n",
       "      <th>Gender</th>\n",
       "      <th>Accommodation_Type</th>\n",
       "    </tr>\n",
       "  </thead>\n",
       "  <tbody>\n",
       "    <tr>\n",
       "      <th>195</th>\n",
       "      <td>Dublin</td>\n",
       "      <td>45-64</td>\n",
       "      <td>Female</td>\n",
       "      <td>TEA</td>\n",
       "    </tr>\n",
       "    <tr>\n",
       "      <th>196</th>\n",
       "      <td>Dublin</td>\n",
       "      <td>25-44</td>\n",
       "      <td>Male</td>\n",
       "      <td>STA</td>\n",
       "    </tr>\n",
       "    <tr>\n",
       "      <th>197</th>\n",
       "      <td>Dublin</td>\n",
       "      <td>25-44</td>\n",
       "      <td>Male</td>\n",
       "      <td>STA</td>\n",
       "    </tr>\n",
       "    <tr>\n",
       "      <th>198</th>\n",
       "      <td>Dublin</td>\n",
       "      <td>18-24</td>\n",
       "      <td>Male</td>\n",
       "      <td>STA</td>\n",
       "    </tr>\n",
       "    <tr>\n",
       "      <th>199</th>\n",
       "      <td>Dublin</td>\n",
       "      <td>25-44</td>\n",
       "      <td>Female</td>\n",
       "      <td>STA</td>\n",
       "    </tr>\n",
       "  </tbody>\n",
       "</table>\n",
       "</div>"
      ],
      "text/plain": [
       "     Region    Age  Gender Accommodation_Type\n",
       "195  Dublin  45-64  Female                TEA\n",
       "196  Dublin  25-44    Male                STA\n",
       "197  Dublin  25-44    Male                STA\n",
       "198  Dublin  18-24    Male                STA\n",
       "199  Dublin  25-44  Female                STA"
      ]
     },
     "execution_count": 25,
     "metadata": {},
     "output_type": "execute_result"
    }
   ],
   "source": [
    "# Returns the last 5 rows if a number is not specified\n",
    "df.tail()"
   ]
  },
  {
   "cell_type": "code",
   "execution_count": 26,
   "id": "fd302d5f",
   "metadata": {},
   "outputs": [
    {
     "data": {
      "text/html": [
       "<div>\n",
       "<style scoped>\n",
       "    .dataframe tbody tr th:only-of-type {\n",
       "        vertical-align: middle;\n",
       "    }\n",
       "\n",
       "    .dataframe tbody tr th {\n",
       "        vertical-align: top;\n",
       "    }\n",
       "\n",
       "    .dataframe thead th {\n",
       "        text-align: right;\n",
       "    }\n",
       "</style>\n",
       "<table border=\"1\" class=\"dataframe\">\n",
       "  <thead>\n",
       "    <tr style=\"text-align: right;\">\n",
       "      <th></th>\n",
       "      <th>Region</th>\n",
       "      <th>Age</th>\n",
       "      <th>Gender</th>\n",
       "      <th>Accommodation_Type</th>\n",
       "    </tr>\n",
       "  </thead>\n",
       "  <tbody>\n",
       "    <tr>\n",
       "      <th>count</th>\n",
       "      <td>200</td>\n",
       "      <td>200</td>\n",
       "      <td>200</td>\n",
       "      <td>200</td>\n",
       "    </tr>\n",
       "    <tr>\n",
       "      <th>unique</th>\n",
       "      <td>2</td>\n",
       "      <td>4</td>\n",
       "      <td>2</td>\n",
       "      <td>4</td>\n",
       "    </tr>\n",
       "    <tr>\n",
       "      <th>top</th>\n",
       "      <td>Dublin</td>\n",
       "      <td>25-44</td>\n",
       "      <td>Male</td>\n",
       "      <td>STA</td>\n",
       "    </tr>\n",
       "    <tr>\n",
       "      <th>freq</th>\n",
       "      <td>151</td>\n",
       "      <td>109</td>\n",
       "      <td>119</td>\n",
       "      <td>106</td>\n",
       "    </tr>\n",
       "  </tbody>\n",
       "</table>\n",
       "</div>"
      ],
      "text/plain": [
       "        Region    Age Gender Accommodation_Type\n",
       "count      200    200    200                200\n",
       "unique       2      4      2                  4\n",
       "top     Dublin  25-44   Male                STA\n",
       "freq       151    109    119                106"
      ]
     },
     "execution_count": 26,
     "metadata": {},
     "output_type": "execute_result"
    }
   ],
   "source": [
    "# Returns description of the data in the DataFrame\n",
    "df.describe()"
   ]
  },
  {
   "cell_type": "markdown",
   "id": "7520e624",
   "metadata": {},
   "source": [
    "## References\n",
    "\n",
    "* https://numpy.org/doc/stable/reference/random/index.html\n",
    "\n",
    "* https://www.w3schools.com/python/numpy/numpy_random.asp#:~:text=Generate%20Random%20Number%20From%20Array,returns%20one%20of%20the%20values\n",
    "\n",
    "* https://www.irishtimes.com/politics/2023/11/20/homeless-costs-top-300m-in-dublin-as-council-agrees-134bn-budget/\n",
    "\n",
    "* https://www.focusireland.ie/focus-blog/why-are-the-numbers-of-people-homeless-at-record-level-and-what-can-be-done-to-stop-further-increases/\n",
    "\n",
    "* https://www.irishtimes.com/ireland/social-affairs/2023/11/24/number-of-homeless-people-surpasses-13000-mark/#:~:text=The%20number%20of%20homeless%20people,mark%2C%20including%20almost%204%2C000%20children.\n",
    "\n",
    "* https://www.breakingnews.ie/ireland/obroin-calls-for-wider-count-of-homelessness-to-reflect-true-numbers-1554122.html\n",
    "\n",
    "* https://www.irishtimes.com/ireland/social-affairs/2023/11/20/o-broin-calls-for-independent-monitoring-of-homeless-figures-to-understand-true-level/\n",
    "\n",
    "* https://housingireland.ie/homelessness-figures-increase/\n",
    "\n",
    "* https://github.com/npradaschnor/Programming-for-Data-Analysis-Project2018/blob/master/Programming-for-Data-Analytics-Project-2018.ipynb\n",
    "\n",
    "* https://campus.datacamp.com/courses/statistical-simulation-in-python/basics-of-randomness-simulation?ex=5\n",
    "\n",
    "* https://github.com/MarianneLawless/Programming-DA-Project/blob/master/Programming%20for%20Data%20Analysis%20Project%202018.ipynb\n",
    "\n",
    "* https://github.com/paulacduffy/simulatedatasetproject/blob/master/Simulated%20data%20set%20using%20numpy.random.ipynb\n",
    "\n",
    "* https://github.com/SimonMcLain/GMIT-Programming-for-Data-Analysis-Project/blob/master/PDA%20Project%202018.ipynb\n",
    "\n",
    "* https://www.sciencedirect.com/topics/mathematics/triangular-distribution#:~:text=The%20triangular%20distribution%20is%20when,conduct%20a%20full%20statistical%20analysis.\n",
    "\n",
    "* https://selectra.ie/moving/tips/housing-crisis-ireland#:~:text=Most%20experts%20agree%20that%20the,essentially%20stopped%20building%20social%20housing.\n",
    "\n",
    "* https://www.focusireland.ie/knowledge-hub/latest-figures/\n",
    "\n",
    "* https://www.focusireland.ie/wp-content/uploads/2021/10/Focus-On-Homelessness-Significant-2021.pdf\n",
    "\n",
    "* https://stats.oarc.ucla.edu/other/mult-pkg/whatstat/what-is-the-difference-between-categorical-ordinal-and-interval-variables/\n",
    "\n",
    "* https://www.cso.ie/en/releasesandpublications/ep/p-cp5hpi/cp5hpi/hpi/#:~:text=The%20homeless%20population%20tended%20to,of%20the%20total%20homeless%20count."
   ]
  },
  {
   "cell_type": "markdown",
   "id": "45dacc2b",
   "metadata": {},
   "source": [
    "### End"
   ]
  }
 ],
 "metadata": {
  "kernelspec": {
   "display_name": "Python 3 (ipykernel)",
   "language": "python",
   "name": "python3"
  },
  "language_info": {
   "codemirror_mode": {
    "name": "ipython",
    "version": 3
   },
   "file_extension": ".py",
   "mimetype": "text/x-python",
   "name": "python",
   "nbconvert_exporter": "python",
   "pygments_lexer": "ipython3",
   "version": "3.9.13"
  }
 },
 "nbformat": 4,
 "nbformat_minor": 5
}
