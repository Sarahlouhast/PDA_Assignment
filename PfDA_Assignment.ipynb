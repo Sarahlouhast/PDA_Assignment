{
 "cells": [
  {
   "cell_type": "markdown",
   "id": "95cf407c",
   "metadata": {},
   "source": [
    "# Programming for Data Analysis Assignment"
   ]
  },
  {
   "cell_type": "code",
   "execution_count": 1,
   "id": "572ac17e",
   "metadata": {},
   "outputs": [],
   "source": [
    "import numpy as np"
   ]
  },
  {
   "cell_type": "code",
   "execution_count": 2,
   "id": "32d9b7af",
   "metadata": {},
   "outputs": [],
   "source": [
    "rng = np.random.default_rng()\n",
    "x = rng.random(100000)"
   ]
  },
  {
   "cell_type": "code",
   "execution_count": 6,
   "id": "d169051d",
   "metadata": {},
   "outputs": [
    {
     "name": "stdout",
     "output_type": "stream",
     "text": [
      "[0.21838472 0.3429535  0.81144748 ... 0.25442567 0.25773619 0.88639499]\n"
     ]
    }
   ],
   "source": [
    "print(x)"
   ]
  },
  {
   "cell_type": "code",
   "execution_count": 4,
   "id": "fe7c69d6",
   "metadata": {},
   "outputs": [],
   "source": [
    "import matplotlib.pyplot as plt"
   ]
  },
  {
   "cell_type": "code",
   "execution_count": 5,
   "id": "a1f527b5",
   "metadata": {},
   "outputs": [
    {
     "data": {
      "image/png": "[encoded data removed]",
      "text/plain": [
       "<Figure size 640x480 with 1 Axes>"
      ]
     },
     "metadata": {},
     "output_type": "display_data"
    }
   ],
   "source": [
    "plt.hist(x)\n",
    "plt.show()"
   ]
  },
  {
   "cell_type": "code",
   "execution_count": 8,
   "id": "02429713",
   "metadata": {},
   "outputs": [
    {
     "name": "stdout",
     "output_type": "stream",
     "text": [
      "       Region  Total Adults  Male Adults  Female Adults  Adults Aged 18-24   \n",
      "0      Dublin          6425         3998           2427               1136  \\\n",
      "1    Mid-East           421          255            166                 78   \n",
      "2    Midlands           169           89             80                 27   \n",
      "3    Mid-West           411          237            174                 59   \n",
      "4  North-East           185           98             87                 28   \n",
      "\n",
      "   Adults Aged 25-44  Adults Aged 45-64  Adults Aged 65+   \n",
      "0               3411               1779               99  \\\n",
      "1                193                129               21   \n",
      "2                 80                 57                5   \n",
      "3                221                121               10   \n",
      "4                102                 45               10   \n",
      "\n",
      "   Number of people who accessed Private Emergency Accommodation   \n",
      "0                                               3975              \\\n",
      "1                                                258               \n",
      "2                                                123               \n",
      "3                                                128               \n",
      "4                                                 93               \n",
      "\n",
      "   Number of people who accessed Supported Temporary Accommodation   \n",
      "0                                               2413                \\\n",
      "1                                                155                 \n",
      "2                                                  0                 \n",
      "3                                                266                 \n",
      "4                                                 75                 \n",
      "\n",
      "   Number of people who accessed Temporary Emergency Accommodation   \n",
      "0                                                 37                \\\n",
      "1                                                  5                 \n",
      "2                                                 40                 \n",
      "3                                                 26                 \n",
      "4                                                  2                 \n",
      "\n",
      "   Number of people who accessed Other Accommodation   \n",
      "0                                                  0  \\\n",
      "1                                                  3   \n",
      "2                                                  6   \n",
      "3                                                  0   \n",
      "4                                                 18   \n",
      "\n",
      "   Number of people with citizenship Irish   \n",
      "0                                     3267  \\\n",
      "1                                      274   \n",
      "2                                      125   \n",
      "3                                      315   \n",
      "4                                      116   \n",
      "\n",
      "   Number of people with citizenship EEA/Uk   \n",
      "0                                      1635  \\\n",
      "1                                        87   \n",
      "2                                        23   \n",
      "3                                        58   \n",
      "4                                        33   \n",
      "\n",
      "   Number of people with citizenship Non-EEA  Number of Families   \n",
      "0                                       1523                1377  \\\n",
      "1                                         60                  98   \n",
      "2                                         21                  40   \n",
      "3                                         38                  87   \n",
      "4                                         36                  34   \n",
      "\n",
      "   Number of Adults in Families  Number of Single-Parent families   \n",
      "0                          2340                               761  \\\n",
      "1                           159                                57   \n",
      "2                            55                                26   \n",
      "3                           117                                61   \n",
      "4                            55                                22   \n",
      "\n",
      "   Number of Dependants in Families  \n",
      "0                              2966  \n",
      "1                               161  \n",
      "2                                57  \n",
      "3                               137  \n",
      "4                                83  \n"
     ]
    }
   ],
   "source": [
    "import pandas as pd\n",
    "\n",
    "# Replace \"your_data.csv\" with the actual path to your CSV file\n",
    "csv_file_path = \"homelessness-report-september-2023.csv\"\n",
    "\n",
    "# Read the CSV file into a DataFrame\n",
    "df = pd.read_csv(csv_file_path)\n",
    "\n",
    "# Display the first few rows of the DataFrame to verify the data has been loaded\n",
    "print(df.head())\n"
   ]
  },
  {
   "cell_type": "code",
   "execution_count": null,
   "metadata": {},
   "outputs": [],
   "source": []
  }
 ],
 "metadata": {
  "kernelspec": {
   "display_name": "Python 3 (ipykernel)",
   "language": "python",
   "name": "python3"
  },
  "language_info": {
   "codemirror_mode": {
    "name": "ipython",
    "version": 3
   },
   "file_extension": ".py",
   "mimetype": "text/x-python",
   "name": "python",
   "nbconvert_exporter": "python",
   "pygments_lexer": "ipython3",
   "version": "3.11.2"
  }
 },
 "nbformat": 4,
 "nbformat_minor": 5
}
