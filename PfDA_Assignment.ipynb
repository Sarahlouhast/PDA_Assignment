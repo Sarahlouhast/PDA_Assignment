{
 "cells": [
  {
   "cell_type": "markdown",
   "id": "95cf407c",
   "metadata": {},
   "source": [
    "# Programming for Data Analysis Assignment"
   ]
  },
  {
   "cell_type": "code",
   "execution_count": 1,
   "id": "572ac17e",
   "metadata": {},
   "outputs": [],
   "source": [
    "import numpy as np   "
   ]
  },
  {
   "cell_type": "code",
   "execution_count": null,
   "id": "32d9b7af",
   "metadata": {},
   "outputs": [],
   "source": [
    "rng = np.random.default_rng()\n",
    "x = rng.random(100000)"
   ]
  },
  {
   "cell_type": "code",
   "execution_count": 3,
   "id": "d169051d",
   "metadata": {},
   "outputs": [
    {
     "name": "stdout",
     "output_type": "stream",
     "text": [
      "[0.45507106 0.9877305  0.76576015 ... 0.33011638 0.21495899 0.75549294]\n"
     ]
    }
   ],
   "source": [
    "print(x)"
   ]
  },
  {
   "cell_type": "code",
   "execution_count": 4,
   "id": "fe7c69d6",
   "metadata": {},
   "outputs": [],
   "source": [
    "import matplotlib.pyplot as plt"
   ]
  },
  {
   "cell_type": "code",
   "execution_count": 5,
   "id": "a1f527b5",
   "metadata": {},
   "outputs": [
    {
     "data": {
      "image/png": "[encoded data removed]",
      "text/plain": [
       "<Figure size 640x480 with 1 Axes>"
      ]
     },
     "metadata": {},
     "output_type": "display_data"
    }
   ],
   "source": [
    "plt.hist(x)\n",
    "plt.show()"
   ]
  },
  {
   "cell_type": "code",
   "execution_count": 6,
   "id": "02429713",
   "metadata": {},
   "outputs": [],
   "source": [
    "import pandas as pd\n",
    "\n",
    "# Replace \"your_data.csv\" with the actual path to your CSV file\n",
    "csv_file_path = \"homelessness-report-september-2023.csv\"\n",
    "\n",
    "# Read the CSV file into a DataFrame\n",
    "df = pd.read_csv(csv_file_path)\n",
    "\n",
    "# Display the first few rows of the DataFrame to verify the data has been loaded\n",
    "#print(df.head())\n"
   ]
  },
  {
   "cell_type": "code",
   "execution_count": 7,
   "id": "b4d0291b",
   "metadata": {},
   "outputs": [],
   "source": [
    "import pandas as pd\n",
    "import numpy as np\n",
    "import matplotlib.pyplot as plt"
   ]
  },
  {
   "cell_type": "code",
   "execution_count": 8,
   "id": "bfd7009e",
   "metadata": {},
   "outputs": [],
   "source": [
    "df = pd.read_csv(\"homelessness-report-october-2023.csv\")\n",
    "#print(df.head())"
   ]
  },
  {
   "cell_type": "code",
   "execution_count": 9,
   "id": "60263626",
   "metadata": {},
   "outputs": [
    {
     "data": {
      "text/html": [
       "<div>\n",
       "<style scoped>\n",
       "    .dataframe tbody tr th:only-of-type {\n",
       "        vertical-align: middle;\n",
       "    }\n",
       "\n",
       "    .dataframe tbody tr th {\n",
       "        vertical-align: top;\n",
       "    }\n",
       "\n",
       "    .dataframe thead th {\n",
       "        text-align: right;\n",
       "    }\n",
       "</style>\n",
       "<table border=\"1\" class=\"dataframe\">\n",
       "  <thead>\n",
       "    <tr style=\"text-align: right;\">\n",
       "      <th></th>\n",
       "      <th>Region</th>\n",
       "      <th>Total Adults</th>\n",
       "      <th>Male Adults</th>\n",
       "      <th>Female Adults</th>\n",
       "      <th>Adults Aged 18-24</th>\n",
       "      <th>Adults Aged 25-44</th>\n",
       "      <th>Adults Aged 45-64</th>\n",
       "      <th>Adults Aged 65+</th>\n",
       "      <th>Number of people who accessed Private Emergency Accommodation</th>\n",
       "      <th>Number of people who accessed Supported Temporary Accommodation</th>\n",
       "      <th>Number of people who accessed Temporary Emergency Accommodation</th>\n",
       "      <th>Number of people who accessed Other Accommodation</th>\n",
       "      <th>Number of people with citizenship Irish</th>\n",
       "      <th>Number of people with citizenship EEA/Uk</th>\n",
       "      <th>Number of people with citizenship Non-EEA</th>\n",
       "      <th>Number of Families</th>\n",
       "      <th>Number of Adults in Families</th>\n",
       "      <th>Number of Single-Parent families</th>\n",
       "      <th>Number of Dependants in Families</th>\n",
       "    </tr>\n",
       "  </thead>\n",
       "  <tbody>\n",
       "    <tr>\n",
       "      <th>0</th>\n",
       "      <td>Dublin</td>\n",
       "      <td>6653</td>\n",
       "      <td>4176</td>\n",
       "      <td>2477</td>\n",
       "      <td>1168</td>\n",
       "      <td>3534</td>\n",
       "      <td>1847</td>\n",
       "      <td>104</td>\n",
       "      <td>4197</td>\n",
       "      <td>2419</td>\n",
       "      <td>37</td>\n",
       "      <td>0</td>\n",
       "      <td>3332</td>\n",
       "      <td>1724</td>\n",
       "      <td>1597</td>\n",
       "      <td>1419</td>\n",
       "      <td>2415</td>\n",
       "      <td>776</td>\n",
       "      <td>3060</td>\n",
       "    </tr>\n",
       "    <tr>\n",
       "      <th>1</th>\n",
       "      <td>Mid-East</td>\n",
       "      <td>416</td>\n",
       "      <td>251</td>\n",
       "      <td>165</td>\n",
       "      <td>70</td>\n",
       "      <td>187</td>\n",
       "      <td>135</td>\n",
       "      <td>24</td>\n",
       "      <td>258</td>\n",
       "      <td>152</td>\n",
       "      <td>3</td>\n",
       "      <td>3</td>\n",
       "      <td>278</td>\n",
       "      <td>88</td>\n",
       "      <td>50</td>\n",
       "      <td>92</td>\n",
       "      <td>144</td>\n",
       "      <td>57</td>\n",
       "      <td>147</td>\n",
       "    </tr>\n",
       "    <tr>\n",
       "      <th>2</th>\n",
       "      <td>Midlands</td>\n",
       "      <td>166</td>\n",
       "      <td>86</td>\n",
       "      <td>80</td>\n",
       "      <td>26</td>\n",
       "      <td>76</td>\n",
       "      <td>59</td>\n",
       "      <td>5</td>\n",
       "      <td>90</td>\n",
       "      <td>0</td>\n",
       "      <td>70</td>\n",
       "      <td>6</td>\n",
       "      <td>120</td>\n",
       "      <td>26</td>\n",
       "      <td>20</td>\n",
       "      <td>35</td>\n",
       "      <td>46</td>\n",
       "      <td>24</td>\n",
       "      <td>55</td>\n",
       "    </tr>\n",
       "    <tr>\n",
       "      <th>3</th>\n",
       "      <td>Mid-West</td>\n",
       "      <td>406</td>\n",
       "      <td>233</td>\n",
       "      <td>173</td>\n",
       "      <td>62</td>\n",
       "      <td>206</td>\n",
       "      <td>128</td>\n",
       "      <td>10</td>\n",
       "      <td>125</td>\n",
       "      <td>265</td>\n",
       "      <td>29</td>\n",
       "      <td>0</td>\n",
       "      <td>322</td>\n",
       "      <td>53</td>\n",
       "      <td>31</td>\n",
       "      <td>80</td>\n",
       "      <td>104</td>\n",
       "      <td>59</td>\n",
       "      <td>122</td>\n",
       "    </tr>\n",
       "    <tr>\n",
       "      <th>4</th>\n",
       "      <td>North-East</td>\n",
       "      <td>198</td>\n",
       "      <td>106</td>\n",
       "      <td>92</td>\n",
       "      <td>33</td>\n",
       "      <td>106</td>\n",
       "      <td>49</td>\n",
       "      <td>10</td>\n",
       "      <td>110</td>\n",
       "      <td>88</td>\n",
       "      <td>3</td>\n",
       "      <td>0</td>\n",
       "      <td>114</td>\n",
       "      <td>37</td>\n",
       "      <td>47</td>\n",
       "      <td>42</td>\n",
       "      <td>75</td>\n",
       "      <td>24</td>\n",
       "      <td>89</td>\n",
       "    </tr>\n",
       "    <tr>\n",
       "      <th>5</th>\n",
       "      <td>North-West</td>\n",
       "      <td>130</td>\n",
       "      <td>88</td>\n",
       "      <td>42</td>\n",
       "      <td>16</td>\n",
       "      <td>73</td>\n",
       "      <td>34</td>\n",
       "      <td>7</td>\n",
       "      <td>82</td>\n",
       "      <td>32</td>\n",
       "      <td>16</td>\n",
       "      <td>0</td>\n",
       "      <td>104</td>\n",
       "      <td>18</td>\n",
       "      <td>8</td>\n",
       "      <td>13</td>\n",
       "      <td>20</td>\n",
       "      <td>8</td>\n",
       "      <td>29</td>\n",
       "    </tr>\n",
       "    <tr>\n",
       "      <th>6</th>\n",
       "      <td>South-East</td>\n",
       "      <td>275</td>\n",
       "      <td>178</td>\n",
       "      <td>97</td>\n",
       "      <td>33</td>\n",
       "      <td>153</td>\n",
       "      <td>82</td>\n",
       "      <td>7</td>\n",
       "      <td>85</td>\n",
       "      <td>190</td>\n",
       "      <td>0</td>\n",
       "      <td>0</td>\n",
       "      <td>226</td>\n",
       "      <td>31</td>\n",
       "      <td>18</td>\n",
       "      <td>45</td>\n",
       "      <td>58</td>\n",
       "      <td>33</td>\n",
       "      <td>62</td>\n",
       "    </tr>\n",
       "    <tr>\n",
       "      <th>7</th>\n",
       "      <td>South-West</td>\n",
       "      <td>584</td>\n",
       "      <td>367</td>\n",
       "      <td>217</td>\n",
       "      <td>73</td>\n",
       "      <td>338</td>\n",
       "      <td>161</td>\n",
       "      <td>12</td>\n",
       "      <td>387</td>\n",
       "      <td>198</td>\n",
       "      <td>0</td>\n",
       "      <td>0</td>\n",
       "      <td>411</td>\n",
       "      <td>82</td>\n",
       "      <td>91</td>\n",
       "      <td>105</td>\n",
       "      <td>162</td>\n",
       "      <td>67</td>\n",
       "      <td>207</td>\n",
       "    </tr>\n",
       "    <tr>\n",
       "      <th>8</th>\n",
       "      <td>West</td>\n",
       "      <td>360</td>\n",
       "      <td>198</td>\n",
       "      <td>162</td>\n",
       "      <td>76</td>\n",
       "      <td>177</td>\n",
       "      <td>96</td>\n",
       "      <td>11</td>\n",
       "      <td>266</td>\n",
       "      <td>94</td>\n",
       "      <td>0</td>\n",
       "      <td>0</td>\n",
       "      <td>280</td>\n",
       "      <td>46</td>\n",
       "      <td>34</td>\n",
       "      <td>108</td>\n",
       "      <td>164</td>\n",
       "      <td>59</td>\n",
       "      <td>220</td>\n",
       "    </tr>\n",
       "  </tbody>\n",
       "</table>\n",
       "</div>"
      ],
      "text/plain": [
       "       Region  Total Adults  Male Adults  Female Adults  Adults Aged 18-24  \\\n",
       "0      Dublin          6653         4176           2477               1168   \n",
       "1    Mid-East           416          251            165                 70   \n",
       "2    Midlands           166           86             80                 26   \n",
       "3    Mid-West           406          233            173                 62   \n",
       "4  North-East           198          106             92                 33   \n",
       "5  North-West           130           88             42                 16   \n",
       "6  South-East           275          178             97                 33   \n",
       "7  South-West           584          367            217                 73   \n",
       "8        West           360          198            162                 76   \n",
       "\n",
       "   Adults Aged 25-44  Adults Aged 45-64  Adults Aged 65+  \\\n",
       "0               3534               1847              104   \n",
       "1                187                135               24   \n",
       "2                 76                 59                5   \n",
       "3                206                128               10   \n",
       "4                106                 49               10   \n",
       "5                 73                 34                7   \n",
       "6                153                 82                7   \n",
       "7                338                161               12   \n",
       "8                177                 96               11   \n",
       "\n",
       "   Number of people who accessed Private Emergency Accommodation  \\\n",
       "0                                               4197               \n",
       "1                                                258               \n",
       "2                                                 90               \n",
       "3                                                125               \n",
       "4                                                110               \n",
       "5                                                 82               \n",
       "6                                                 85               \n",
       "7                                                387               \n",
       "8                                                266               \n",
       "\n",
       "   Number of people who accessed Supported Temporary Accommodation  \\\n",
       "0                                               2419                 \n",
       "1                                                152                 \n",
       "2                                                  0                 \n",
       "3                                                265                 \n",
       "4                                                 88                 \n",
       "5                                                 32                 \n",
       "6                                                190                 \n",
       "7                                                198                 \n",
       "8                                                 94                 \n",
       "\n",
       "   Number of people who accessed Temporary Emergency Accommodation  \\\n",
       "0                                                 37                 \n",
       "1                                                  3                 \n",
       "2                                                 70                 \n",
       "3                                                 29                 \n",
       "4                                                  3                 \n",
       "5                                                 16                 \n",
       "6                                                  0                 \n",
       "7                                                  0                 \n",
       "8                                                  0                 \n",
       "\n",
       "   Number of people who accessed Other Accommodation  \\\n",
       "0                                                  0   \n",
       "1                                                  3   \n",
       "2                                                  6   \n",
       "3                                                  0   \n",
       "4                                                  0   \n",
       "5                                                  0   \n",
       "6                                                  0   \n",
       "7                                                  0   \n",
       "8                                                  0   \n",
       "\n",
       "   Number of people with citizenship Irish  \\\n",
       "0                                     3332   \n",
       "1                                      278   \n",
       "2                                      120   \n",
       "3                                      322   \n",
       "4                                      114   \n",
       "5                                      104   \n",
       "6                                      226   \n",
       "7                                      411   \n",
       "8                                      280   \n",
       "\n",
       "   Number of people with citizenship EEA/Uk  \\\n",
       "0                                      1724   \n",
       "1                                        88   \n",
       "2                                        26   \n",
       "3                                        53   \n",
       "4                                        37   \n",
       "5                                        18   \n",
       "6                                        31   \n",
       "7                                        82   \n",
       "8                                        46   \n",
       "\n",
       "   Number of people with citizenship Non-EEA  Number of Families  \\\n",
       "0                                       1597                1419   \n",
       "1                                         50                  92   \n",
       "2                                         20                  35   \n",
       "3                                         31                  80   \n",
       "4                                         47                  42   \n",
       "5                                          8                  13   \n",
       "6                                         18                  45   \n",
       "7                                         91                 105   \n",
       "8                                         34                 108   \n",
       "\n",
       "   Number of Adults in Families  Number of Single-Parent families  \\\n",
       "0                          2415                               776   \n",
       "1                           144                                57   \n",
       "2                            46                                24   \n",
       "3                           104                                59   \n",
       "4                            75                                24   \n",
       "5                            20                                 8   \n",
       "6                            58                                33   \n",
       "7                           162                                67   \n",
       "8                           164                                59   \n",
       "\n",
       "   Number of Dependants in Families  \n",
       "0                              3060  \n",
       "1                               147  \n",
       "2                                55  \n",
       "3                               122  \n",
       "4                                89  \n",
       "5                                29  \n",
       "6                                62  \n",
       "7                               207  \n",
       "8                               220  "
      ]
     },
     "execution_count": 9,
     "metadata": {},
     "output_type": "execute_result"
    }
   ],
   "source": [
    "df"
   ]
  },
  {
   "cell_type": "markdown",
   "id": "94e14079",
   "metadata": {},
   "source": [
    "The Department of Housing statistics relate to the number of homeless people in emergency accommodation and overseen by housing authorities during a specific week, typically the last full week of the month."
   ]
  },
  {
   "cell_type": "markdown",
   "id": "d22beeb9",
   "metadata": {},
   "source": [
    "With the most recent homelessness figures released, Sinn Féin TD Eoin Ó Broin, has called for the independent monitoring of homeless figures to understand ‘true level’. The current figures include -------. These do not reflect the true numbers, such as rough sleepers and people in accommodation not funded by the State, as ‘the forgotten homeless'\n",
    "\n",
    "another frightening figure is that children now represent more than one-third of those in emergency accommodation, some of which are babies and will be experiencing their chirstmas homeless"
   ]
  },
  {
   "cell_type": "markdown",
   "id": "4663cfc8",
   "metadata": {},
   "source": [
    "In March 2022 the number of homeless people across Ireland was estimated at 9,825, a sobering statistic and nearly triple 2014 numbers"
   ]
  },
  {
   "cell_type": "markdown",
   "id": "d726c33f",
   "metadata": {},
   "source": [
    "The above official homelessness data published by the Department of Housing identifies the number of people utilising State-funded emergency homeless accommodation on a regional and county basis in the last week of every month. The official figures only record those in state emergency homeless accommodation, but discounts those that are in ‘own-door’ temporary accommodation, domestic violence refuges, asylum seekers, people who are sleeping rough, and the very many who are ‘hidden homeless’ and staying with family or friends in insecure housing. No official homeless data was published between Aug-Oct 2014 so a gap exists in the above graph for this period. In August 2023, the figures for single adults was reduced by 308 individuals to correct a data error in the PASS system."
   ]
  },
  {
   "cell_type": "markdown",
   "id": "11203919",
   "metadata": {},
   "source": [
    "Data available here looks at homelessness on a national level with information provided by the Department of Housing, Heritage, and Local Government. This data includes people living in Section 10 funded emergency homeless accommodation and does not include other forms of homelessness such as people living in domestic abuse refuges, in overcrowded accommodation, or those couch surfing."
   ]
  },
  {
   "cell_type": "markdown",
   "id": "aa0412bf",
   "metadata": {},
   "source": [
    "![image](./Data/total-number-of-people-in-emergency-homeless-accommodation-in-ireland.png)"
   ]
  },
  {
   "cell_type": "markdown",
   "id": "fad38518",
   "metadata": {},
   "source": [
    "![image](./Data/adult-women-and-men-living-in-emergency-homeless-accommodation.png)"
   ]
  },
  {
   "cell_type": "markdown",
   "id": "b3b5fc9e",
   "metadata": {},
   "source": [
    "![image](./Data/number-of-families-in-emergency-homeless-accommodation.png)"
   ]
  },
  {
   "cell_type": "markdown",
   "id": "937cdd60",
   "metadata": {},
   "source": [
    "![image](./Data/adults-and-children-living-in-emergency-homeless-accommodation-in-ireland.png)"
   ]
  },
  {
   "cell_type": "markdown",
   "id": "b42fb38b",
   "metadata": {},
   "source": [
    "![image](./Data/age-breakdown-of-adults-living-in-emergency-homeless-accommodation.png)"
   ]
  },
  {
   "cell_type": "markdown",
   "id": "0615f2f8",
   "metadata": {},
   "source": [
    "![image](./Data/number-of-people-accessing-different-emergency-homeless-accommodation-types.png)"
   ]
  },
  {
   "cell_type": "code",
   "execution_count": 34,
   "id": "f6b3b46b",
   "metadata": {},
   "outputs": [],
   "source": [
    "df = pd.read_csv('homelessness-report-october-2023.csv')"
   ]
  },
  {
   "cell_type": "code",
   "execution_count": 11,
   "id": "428c40ff",
   "metadata": {},
   "outputs": [
    {
     "name": "stdout",
     "output_type": "stream",
     "text": [
      "       Region  Total Adults  Male Adults  Female Adults  Adults Aged 18-24  \\\n",
      "0      Dublin          6653         4176           2477               1168   \n",
      "1    Mid-East           416          251            165                 70   \n",
      "2    Midlands           166           86             80                 26   \n",
      "3    Mid-West           406          233            173                 62   \n",
      "4  North-East           198          106             92                 33   \n",
      "\n",
      "   Adults Aged 25-44  Adults Aged 45-64  Adults Aged 65+  \\\n",
      "0               3534               1847              104   \n",
      "1                187                135               24   \n",
      "2                 76                 59                5   \n",
      "3                206                128               10   \n",
      "4                106                 49               10   \n",
      "\n",
      "   Number of people who accessed Private Emergency Accommodation  \\\n",
      "0                                               4197               \n",
      "1                                                258               \n",
      "2                                                 90               \n",
      "3                                                125               \n",
      "4                                                110               \n",
      "\n",
      "   Number of people who accessed Supported Temporary Accommodation  \\\n",
      "0                                               2419                 \n",
      "1                                                152                 \n",
      "2                                                  0                 \n",
      "3                                                265                 \n",
      "4                                                 88                 \n",
      "\n",
      "   Number of people who accessed Temporary Emergency Accommodation  \\\n",
      "0                                                 37                 \n",
      "1                                                  3                 \n",
      "2                                                 70                 \n",
      "3                                                 29                 \n",
      "4                                                  3                 \n",
      "\n",
      "   Number of people who accessed Other Accommodation  \\\n",
      "0                                                  0   \n",
      "1                                                  3   \n",
      "2                                                  6   \n",
      "3                                                  0   \n",
      "4                                                  0   \n",
      "\n",
      "   Number of people with citizenship Irish  \\\n",
      "0                                     3332   \n",
      "1                                      278   \n",
      "2                                      120   \n",
      "3                                      322   \n",
      "4                                      114   \n",
      "\n",
      "   Number of people with citizenship EEA/Uk  \\\n",
      "0                                      1724   \n",
      "1                                        88   \n",
      "2                                        26   \n",
      "3                                        53   \n",
      "4                                        37   \n",
      "\n",
      "   Number of people with citizenship Non-EEA  Number of Families  \\\n",
      "0                                       1597                1419   \n",
      "1                                         50                  92   \n",
      "2                                         20                  35   \n",
      "3                                         31                  80   \n",
      "4                                         47                  42   \n",
      "\n",
      "   Number of Adults in Families  Number of Single-Parent families  \\\n",
      "0                          2415                               776   \n",
      "1                           144                                57   \n",
      "2                            46                                24   \n",
      "3                           104                                59   \n",
      "4                            75                                24   \n",
      "\n",
      "   Number of Dependants in Families  \n",
      "0                              3060  \n",
      "1                               147  \n",
      "2                                55  \n",
      "3                               122  \n",
      "4                                89  \n"
     ]
    }
   ],
   "source": [
    "print(df.head())"
   ]
  },
  {
   "cell_type": "code",
   "execution_count": 40,
   "id": "7068b0da",
   "metadata": {},
   "outputs": [
    {
     "name": "stdout",
     "output_type": "stream",
     "text": [
      "       Total Adults  Male Adults  Female Adults  Adults Aged 18-24  \\\n",
      "count      9.000000     9.000000       9.000000           9.000000   \n",
      "mean    1020.888889   631.444444     389.444444         173.000000   \n",
      "std     2116.905610  1332.278135     784.781038         373.801752   \n",
      "min      130.000000    86.000000      42.000000          16.000000   \n",
      "25%      198.000000   106.000000      92.000000          33.000000   \n",
      "50%      360.000000   198.000000     162.000000          62.000000   \n",
      "75%      416.000000   251.000000     173.000000          73.000000   \n",
      "max     6653.000000  4176.000000    2477.000000        1168.000000   \n",
      "\n",
      "       Adults Aged 25-44  Adults Aged 45-64  Adults Aged 65+  \\\n",
      "count           9.000000           9.000000         9.000000   \n",
      "mean          538.888889         287.888889        21.111111   \n",
      "std          1126.070207         586.195028        31.561228   \n",
      "min            73.000000          34.000000         5.000000   \n",
      "25%           106.000000          59.000000         7.000000   \n",
      "50%           177.000000          96.000000        10.000000   \n",
      "75%           206.000000         135.000000        12.000000   \n",
      "max          3534.000000        1847.000000       104.000000   \n",
      "\n",
      "       Number of people who accessed Private Emergency Accommodation  \\\n",
      "count                                           9.000000               \n",
      "mean                                          622.222222               \n",
      "std                                          1344.768919               \n",
      "min                                            82.000000               \n",
      "25%                                            90.000000               \n",
      "50%                                           125.000000               \n",
      "75%                                           266.000000               \n",
      "max                                          4197.000000               \n",
      "\n",
      "       Number of people who accessed Supported Temporary Accommodation  \\\n",
      "count                                            9.00000                 \n",
      "mean                                           382.00000                 \n",
      "std                                            768.47918                 \n",
      "min                                              0.00000                 \n",
      "25%                                             88.00000                 \n",
      "50%                                            152.00000                 \n",
      "75%                                            198.00000                 \n",
      "max                                           2419.00000                 \n",
      "\n",
      "       Number of people who accessed Temporary Emergency Accommodation  \\\n",
      "count                                           9.000000                 \n",
      "mean                                           17.555556                 \n",
      "std                                            24.005786                 \n",
      "min                                             0.000000                 \n",
      "25%                                             0.000000                 \n",
      "50%                                             3.000000                 \n",
      "75%                                            29.000000                 \n",
      "max                                            70.000000                 \n",
      "\n",
      "       Number of people who accessed Other Accommodation  \\\n",
      "count                                            9.00000   \n",
      "mean                                             1.00000   \n",
      "std                                              2.12132   \n",
      "min                                              0.00000   \n",
      "25%                                              0.00000   \n",
      "50%                                              0.00000   \n",
      "75%                                              0.00000   \n",
      "max                                              6.00000   \n",
      "\n",
      "       Number of people with citizenship Irish  \\\n",
      "count                                 9.000000   \n",
      "mean                                576.333333   \n",
      "std                                1038.650567   \n",
      "min                                 104.000000   \n",
      "25%                                 120.000000   \n",
      "50%                                 278.000000   \n",
      "75%                                 322.000000   \n",
      "max                                3332.000000   \n",
      "\n",
      "       Number of people with citizenship EEA/Uk  \\\n",
      "count                                  9.000000   \n",
      "mean                                 233.888889   \n",
      "std                                  559.303461   \n",
      "min                                   18.000000   \n",
      "25%                                   31.000000   \n",
      "50%                                   46.000000   \n",
      "75%                                   82.000000   \n",
      "max                                 1724.000000   \n",
      "\n",
      "       Number of people with citizenship Non-EEA  Number of Families  \\\n",
      "count                                   9.000000            9.000000   \n",
      "mean                                  210.666667          215.444444   \n",
      "std                                   520.442120          452.569086   \n",
      "min                                     8.000000           13.000000   \n",
      "25%                                    20.000000           42.000000   \n",
      "50%                                    34.000000           80.000000   \n",
      "75%                                    50.000000          105.000000   \n",
      "max                                  1597.000000         1419.000000   \n",
      "\n",
      "       Number of Adults in Families  Number of Single-Parent families  \\\n",
      "count                      9.000000                          9.000000   \n",
      "mean                     354.222222                        123.000000   \n",
      "std                      774.529015                        245.718335   \n",
      "min                       20.000000                          8.000000   \n",
      "25%                       58.000000                         24.000000   \n",
      "50%                      104.000000                         57.000000   \n",
      "75%                      162.000000                         59.000000   \n",
      "max                     2415.000000                        776.000000   \n",
      "\n",
      "       Number of Dependants in Families  \n",
      "count                          9.000000  \n",
      "mean                         443.444444  \n",
      "std                          983.436972  \n",
      "min                           29.000000  \n",
      "25%                           62.000000  \n",
      "50%                          122.000000  \n",
      "75%                          207.000000  \n",
      "max                         3060.000000  \n"
     ]
    }
   ],
   "source": [
    "summary_stats = df.describe()\n",
    "print(summary_stats)"
   ]
  },
  {
   "cell_type": "code",
   "execution_count": null,
   "id": "7f76acc8",
   "metadata": {},
   "outputs": [],
   "source": []
  },
  {
   "cell_type": "code",
   "execution_count": null,
   "id": "ac1344f6",
   "metadata": {},
   "outputs": [],
   "source": []
  },
  {
   "cell_type": "code",
   "execution_count": null,
   "id": "33e83f67",
   "metadata": {},
   "outputs": [],
   "source": [
    "missing_values = df.isnull().sum()\n",
    "print(missing_values)"
   ]
  },
  {
   "cell_type": "code",
   "execution_count": null,
   "id": "56ca978d",
   "metadata": {},
   "outputs": [],
   "source": []
  },
  {
   "cell_type": "code",
   "execution_count": 14,
   "id": "ed7b4dc9",
   "metadata": {},
   "outputs": [
    {
     "name": "stdout",
     "output_type": "stream",
     "text": [
      "       Male Adults  Female Adults  Total Adults\n",
      "count     9.000000       9.000000      9.000000\n",
      "mean    631.444444     389.444444   1020.888889\n",
      "std    1332.278135     784.781038   2116.905610\n",
      "min      86.000000      42.000000    130.000000\n",
      "25%     106.000000      92.000000    198.000000\n",
      "50%     198.000000     162.000000    360.000000\n",
      "75%     251.000000     173.000000    416.000000\n",
      "max    4176.000000    2477.000000   6653.000000\n"
     ]
    }
   ],
   "source": [
    "selected_columns = ['Male Adults', 'Female Adults', 'Total Adults']\n",
    "summary_stats = df[selected_columns].describe()\n",
    "print(summary_stats)"
   ]
  },
  {
   "cell_type": "code",
   "execution_count": 15,
   "id": "b81faf3e",
   "metadata": {},
   "outputs": [
    {
     "name": "stdout",
     "output_type": "stream",
     "text": [
      "Total Count:\n",
      "Male Adults      5683\n",
      "Female Adults    3505\n",
      "Total Adults     9188\n",
      "dtype: int64\n"
     ]
    }
   ],
   "source": [
    "total_count = df[selected_columns].sum()\n",
    "\n",
    "# Display the results\n",
    "print(\"Total Count:\")\n",
    "print(total_count)"
   ]
  },
  {
   "cell_type": "code",
   "execution_count": 16,
   "id": "c4f33f61",
   "metadata": {},
   "outputs": [
    {
     "name": "stdout",
     "output_type": "stream",
     "text": [
      "Total Count:\n",
      "Region                                                             DublinMid-EastMidlandsMid-WestNorth-EastNorth-...\n",
      "Total Adults                                                                                                    9188\n",
      "Male Adults                                                                                                     5683\n",
      "Female Adults                                                                                                   3505\n",
      "Adults Aged 18-24                                                                                               1557\n",
      "Adults Aged 25-44                                                                                               4850\n",
      "Adults Aged 45-64                                                                                               2591\n",
      "Adults Aged 65+                                                                                                  190\n",
      "Number of people who accessed Private Emergency Accommodation                                                   5600\n",
      "Number of people who accessed Supported Temporary Accommodation                                                 3438\n",
      "Number of people who accessed Temporary Emergency Accommodation                                                  158\n",
      "Number of people who accessed Other Accommodation                                                                  9\n",
      "Number of people with citizenship Irish                                                                         5187\n",
      "Number of people with citizenship EEA/Uk                                                                        2105\n",
      "Number of people with citizenship Non-EEA                                                                       1896\n",
      "Number of Families                                                                                              1939\n",
      "Number of Adults in Families                                                                                    3188\n",
      "Number of Single-Parent families                                                                                1107\n",
      "Number of Dependants in Families                                                                                3991\n",
      "dtype: object\n"
     ]
    }
   ],
   "source": [
    "total_count = df.sum()\n",
    "\n",
    "# Display the results\n",
    "print(\"Total Count:\")\n",
    "print(total_count)"
   ]
  },
  {
   "cell_type": "code",
   "execution_count": 17,
   "id": "8823b88d",
   "metadata": {},
   "outputs": [
    {
     "name": "stdout",
     "output_type": "stream",
     "text": [
      "       Total Adults  Male Adults  Female Adults  Adults Aged 18-24  \\\n",
      "count      9.000000     9.000000       9.000000           9.000000   \n",
      "mean    1020.888889   631.444444     389.444444         173.000000   \n",
      "std     2116.905610  1332.278135     784.781038         373.801752   \n",
      "min      130.000000    86.000000      42.000000          16.000000   \n",
      "25%      198.000000   106.000000      92.000000          33.000000   \n",
      "50%      360.000000   198.000000     162.000000          62.000000   \n",
      "75%      416.000000   251.000000     173.000000          73.000000   \n",
      "max     6653.000000  4176.000000    2477.000000        1168.000000   \n",
      "\n",
      "       Adults Aged 25-44  Adults Aged 45-64  Adults Aged 65+  \\\n",
      "count           9.000000           9.000000         9.000000   \n",
      "mean          538.888889         287.888889        21.111111   \n",
      "std          1126.070207         586.195028        31.561228   \n",
      "min            73.000000          34.000000         5.000000   \n",
      "25%           106.000000          59.000000         7.000000   \n",
      "50%           177.000000          96.000000        10.000000   \n",
      "75%           206.000000         135.000000        12.000000   \n",
      "max          3534.000000        1847.000000       104.000000   \n",
      "\n",
      "       Number of people who accessed Private Emergency Accommodation  \\\n",
      "count                                           9.000000               \n",
      "mean                                          622.222222               \n",
      "std                                          1344.768919               \n",
      "min                                            82.000000               \n",
      "25%                                            90.000000               \n",
      "50%                                           125.000000               \n",
      "75%                                           266.000000               \n",
      "max                                          4197.000000               \n",
      "\n",
      "       Number of people who accessed Supported Temporary Accommodation  \\\n",
      "count                                            9.00000                 \n",
      "mean                                           382.00000                 \n",
      "std                                            768.47918                 \n",
      "min                                              0.00000                 \n",
      "25%                                             88.00000                 \n",
      "50%                                            152.00000                 \n",
      "75%                                            198.00000                 \n",
      "max                                           2419.00000                 \n",
      "\n",
      "       Number of people who accessed Temporary Emergency Accommodation  \\\n",
      "count                                           9.000000                 \n",
      "mean                                           17.555556                 \n",
      "std                                            24.005786                 \n",
      "min                                             0.000000                 \n",
      "25%                                             0.000000                 \n",
      "50%                                             3.000000                 \n",
      "75%                                            29.000000                 \n",
      "max                                            70.000000                 \n",
      "\n",
      "       Number of people who accessed Other Accommodation  \\\n",
      "count                                            9.00000   \n",
      "mean                                             1.00000   \n",
      "std                                              2.12132   \n",
      "min                                              0.00000   \n",
      "25%                                              0.00000   \n",
      "50%                                              0.00000   \n",
      "75%                                              0.00000   \n",
      "max                                              6.00000   \n",
      "\n",
      "       Number of people with citizenship Irish  \\\n",
      "count                                 9.000000   \n",
      "mean                                576.333333   \n",
      "std                                1038.650567   \n",
      "min                                 104.000000   \n",
      "25%                                 120.000000   \n",
      "50%                                 278.000000   \n",
      "75%                                 322.000000   \n",
      "max                                3332.000000   \n",
      "\n",
      "       Number of people with citizenship EEA/Uk  \\\n",
      "count                                  9.000000   \n",
      "mean                                 233.888889   \n",
      "std                                  559.303461   \n",
      "min                                   18.000000   \n",
      "25%                                   31.000000   \n",
      "50%                                   46.000000   \n",
      "75%                                   82.000000   \n",
      "max                                 1724.000000   \n",
      "\n",
      "       Number of people with citizenship Non-EEA  Number of Families  \\\n",
      "count                                   9.000000            9.000000   \n",
      "mean                                  210.666667          215.444444   \n",
      "std                                   520.442120          452.569086   \n",
      "min                                     8.000000           13.000000   \n",
      "25%                                    20.000000           42.000000   \n",
      "50%                                    34.000000           80.000000   \n",
      "75%                                    50.000000          105.000000   \n",
      "max                                  1597.000000         1419.000000   \n",
      "\n",
      "       Number of Adults in Families  Number of Single-Parent families  \\\n",
      "count                      9.000000                          9.000000   \n",
      "mean                     354.222222                        123.000000   \n",
      "std                      774.529015                        245.718335   \n",
      "min                       20.000000                          8.000000   \n",
      "25%                       58.000000                         24.000000   \n",
      "50%                      104.000000                         57.000000   \n",
      "75%                      162.000000                         59.000000   \n",
      "max                     2415.000000                        776.000000   \n",
      "\n",
      "       Number of Dependants in Families  \n",
      "count                          9.000000  \n",
      "mean                         443.444444  \n",
      "std                          983.436972  \n",
      "min                           29.000000  \n",
      "25%                           62.000000  \n",
      "50%                          122.000000  \n",
      "75%                          207.000000  \n",
      "max                         3060.000000  \n"
     ]
    }
   ],
   "source": [
    "summary_stats_all = df.describe()\n",
    "\n",
    "# Display the results\n",
    "print(summary_stats_all)"
   ]
  },
  {
   "cell_type": "code",
   "execution_count": 48,
   "id": "8b17b6f6",
   "metadata": {},
   "outputs": [
    {
     "name": "stdout",
     "output_type": "stream",
     "text": [
      "Percentage of Females: 38.15%\n",
      "Percentage of Females: 38%\n",
      "Percentage of Males: 61.85%\n",
      "Percentage of Males: 62%\n"
     ]
    }
   ],
   "source": [
    "total_adults = df['Total Adults'].sum()\n",
    "female_count = df['Female Adults'].sum()\n",
    "male_count = df['Male Adults'].sum()\n",
    "\n",
    "percentage_female = (female_count / total_adults) * 100\n",
    "percentage_male = (male_count / total_adults) * 100\n",
    "\n",
    "print(f\"Percentage of Females: {percentage_female:.2f}%\")\n",
    "print(f\"Percentage of Females: {round(percentage_female)}%\")\n",
    "print(f\"Percentage of Males: {percentage_male:.2f}%\")\n",
    "print(f\"Percentage of Males: {round(percentage_male)}%\")"
   ]
  },
  {
   "cell_type": "code",
   "execution_count": 72,
   "id": "fb0a2505",
   "metadata": {},
   "outputs": [
    {
     "name": "stdout",
     "output_type": "stream",
     "text": [
      "Statistics for Adults Aged 18-24:\n",
      "Mean: 173.0\n",
      "Standard Deviation: 373.8017522698362\n",
      "\n",
      "Statistics for Adults Aged 25-44:\n",
      "Mean: 538.8888888888889\n",
      "Standard Deviation: 1126.0702070080317\n",
      "\n",
      "Statistics for Adults Aged 45-64:\n",
      "Mean: 287.8888888888889\n",
      "Standard Deviation: 586.1950282210786\n",
      "\n",
      "Statistics for Adults Aged 65+:\n",
      "Mean: 21.11111111111111\n",
      "Standard Deviation: 31.561227972167227\n",
      "\n"
     ]
    }
   ],
   "source": [
    "# Display the basic statistics for the 'Age' column\n",
    "age_columns = ['Adults Aged 18-24', 'Adults Aged 25-44', 'Adults Aged 45-64', 'Adults Aged 65+']\n",
    "\n",
    "# Calculate mean and standard deviation for each age group\n",
    "age_stats = {}\n",
    "for column in age_columns:\n",
    "    age_stats[column] = {\n",
    "        'mean': df[column].mean(),\n",
    "        'std': df[column].std()\n",
    "    }\n",
    "\n",
    "# Display the statistics for each age group\n",
    "for column, stats in age_stats.items():\n",
    "    print(f\"Statistics for {column}:\")\n",
    "    print(f\"Mean: {stats['mean']}\")\n",
    "    print(f\"Standard Deviation: {stats['std']}\\n\")"
   ]
  },
  {
   "cell_type": "code",
   "execution_count": 80,
   "id": "e2e68319",
   "metadata": {},
   "outputs": [
    {
     "data": {
      "text/plain": [
       "array([52., 62., 55., 52., 44., 58., 45., 73., 78., 42., 67., 51., 53.,\n",
       "       75., 22., 23., 19., 70., 66., 72., 79., 68., 47., 66., 25., 58.,\n",
       "       27., 77., 50., 44., 34., 66., 46., 53., 19., 56., 56., 56., 77.,\n",
       "       60., 40., 45., 61., 22., 59., 60., 31., 26., 38., 41., 53., 45.,\n",
       "       79., 24., 31., 28., 58., 34., 47., 33., 28., 25., 59., 27., 30.,\n",
       "       41., 69., 24., 70., 24., 79., 47., 79., 56., 64., 20., 36., 25.,\n",
       "       36., 25., 38., 44., 22., 61., 53., 34., 50., 24., 54., 76., 38.,\n",
       "       59., 26., 62., 36., 29., 54., 19., 69., 18., 60., 35., 64., 78.,\n",
       "       33., 54., 55., 53., 32., 77., 46., 70., 61., 36., 68., 43., 73.,\n",
       "       54., 73., 61., 63., 49., 77., 58., 44., 56., 19., 37., 59., 36.,\n",
       "       56., 45., 26., 36., 53., 55., 54., 58., 58., 45., 74., 41., 45.,\n",
       "       73., 68., 62., 24., 75., 62., 80., 27., 72., 28., 56., 26., 71.,\n",
       "       68., 53., 43., 22., 61., 46., 63., 72., 78., 71., 19., 40., 63.,\n",
       "       29., 50., 21., 30., 19., 67., 32., 39., 76., 62., 20., 28., 57.,\n",
       "       54., 33., 76., 56., 51., 55., 63., 37., 43., 31., 30., 77., 64.,\n",
       "       48., 32., 34., 22., 45.])"
      ]
     },
     "execution_count": 80,
     "metadata": {},
     "output_type": "execute_result"
    }
   ],
   "source": [
    "np.random.seed(0)\n",
    "age = np.random.uniform(18,80,200)# Adults aged beween 18 -80  yrs old\n",
    "age.round()"
   ]
  },
  {
   "cell_type": "code",
   "execution_count": 81,
   "id": "149feff2",
   "metadata": {},
   "outputs": [
    {
     "data": {
      "text/plain": [
       "200"
      ]
     },
     "execution_count": 81,
     "metadata": {},
     "output_type": "execute_result"
    }
   ],
   "source": [
    "len(age)"
   ]
  },
  {
   "cell_type": "code",
   "execution_count": 85,
   "id": "494426aa",
   "metadata": {},
   "outputs": [
    {
     "data": {
      "text/plain": [
       "49.02714347011869"
      ]
     },
     "execution_count": 85,
     "metadata": {},
     "output_type": "execute_result"
    }
   ],
   "source": [
    "np.mean(age)"
   ]
  },
  {
   "cell_type": "code",
   "execution_count": 86,
   "id": "aab93956",
   "metadata": {},
   "outputs": [
    {
     "data": {
      "text/plain": [
       "51.49599556667751"
      ]
     },
     "execution_count": 86,
     "metadata": {},
     "output_type": "execute_result"
    }
   ],
   "source": [
    "np.median(age)"
   ]
  },
  {
   "cell_type": "code",
   "execution_count": 94,
   "id": "9329bef7",
   "metadata": {},
   "outputs": [
    {
     "data": {
      "image/png": "[encoded data removed]",
      "text/plain": [
       "<Figure size 640x480 with 1 Axes>"
      ]
     },
     "metadata": {},
     "output_type": "display_data"
    }
   ],
   "source": [
    "x = np.random.randint(18,80,200)\n",
    "plt.hist(x)\n",
    "plt.ylabel('Homeless Adults')\n",
    "plt.xlabel('Age')\n",
    "plt.title('Homelessness Report October 2023')\n",
    "plt.show()"
   ]
  },
  {
   "cell_type": "code",
   "execution_count": 49,
   "id": "c2c05ac8",
   "metadata": {},
   "outputs": [],
   "source": [
    "import pandas as pd\n",
    "import numpy as np\n",
    "import matplotlib.pyplot as plt"
   ]
  },
  {
   "cell_type": "code",
   "execution_count": 95,
   "id": "f86ddfae",
   "metadata": {},
   "outputs": [
    {
     "data": {
      "text/plain": [
       "array([19., 22., 23., 19., 22., 22., 24., 23., 23., 21., 19., 24., 19.,\n",
       "       21., 18., 24., 24., 22., 20., 20., 20., 19., 21., 19., 20., 22.,\n",
       "       22., 18., 21., 22., 23., 21., 24., 20., 18., 21., 20., 23., 19.,\n",
       "       20., 23., 22., 21., 22., 21., 18., 18., 21., 18., 18., 43., 41.,\n",
       "       28., 25., 43., 30., 29., 38., 27., 30., 44., 37., 35., 33., 40.,\n",
       "       28., 43., 41., 37., 26., 38., 42., 35., 32., 27., 39., 42., 27.,\n",
       "       39., 25., 43., 37., 35., 31., 43., 30., 41., 44., 40., 35., 26.,\n",
       "       34., 33., 29., 33., 32., 28., 33., 30., 35., 46., 62., 61., 55.,\n",
       "       61., 63., 47., 57., 64., 64., 56., 47., 56., 45., 49., 63., 51.,\n",
       "       57., 50., 63., 59., 51., 60., 47., 52., 49., 58., 47., 53., 50.,\n",
       "       55., 52., 58., 45., 57., 49., 50., 60., 63., 51., 61., 47., 57.,\n",
       "       59., 48., 53., 62., 47., 45., 56., 72., 77., 79., 69., 71., 72.,\n",
       "       74., 80., 75., 71., 69., 79., 67., 76., 79., 75., 71., 68., 71.,\n",
       "       76., 75., 79., 78., 77., 79., 69., 71., 71., 73., 75., 69., 65.,\n",
       "       71., 70., 79., 78., 78., 75., 70., 73., 77., 66., 77., 66., 77.,\n",
       "       77., 66., 74., 73., 68.])"
      ]
     },
     "execution_count": 95,
     "metadata": {},
     "output_type": "execute_result"
    }
   ],
   "source": [
    "GP1 = np.random.uniform(18,24,50)# Group 1 (18-24yrs)\n",
    "GP2 = np.random.uniform(25,44,50)# Group 2 (25-44yrs)\n",
    "GP3 = np.random.uniform(45,64,50)# Group 3(45-64yrs)\n",
    "GP4 = np.random.uniform(65,80,50)# Group 4(65-80yrs)\n",
    "GP = np.concatenate((GP1,GP2,GP3,GP4))\n",
    "GP.round()"
   ]
  },
  {
   "cell_type": "code",
   "execution_count": 96,
   "id": "508cca82",
   "metadata": {},
   "outputs": [
    {
     "data": {
      "text/plain": [
       "200"
      ]
     },
     "execution_count": 96,
     "metadata": {},
     "output_type": "execute_result"
    }
   ],
   "source": [
    "len(GP)"
   ]
  },
  {
   "cell_type": "code",
   "execution_count": 97,
   "id": "8cd0af6e",
   "metadata": {},
   "outputs": [
    {
     "data": {
      "text/plain": [
       "45.83247573214343"
      ]
     },
     "execution_count": 97,
     "metadata": {},
     "output_type": "execute_result"
    }
   ],
   "source": [
    "np.mean(GP)"
   ]
  },
  {
   "cell_type": "code",
   "execution_count": 98,
   "id": "219b0f1e",
   "metadata": {},
   "outputs": [
    {
     "data": {
      "text/plain": [
       "20.42822665932791"
      ]
     },
     "execution_count": 98,
     "metadata": {},
     "output_type": "execute_result"
    }
   ],
   "source": [
    "np.std(GP)"
   ]
  },
  {
   "cell_type": "code",
   "execution_count": 99,
   "id": "7d6a5a31",
   "metadata": {},
   "outputs": [
    {
     "data": {
      "image/png": "[encoded data removed]",
      "text/plain": [
       "<Figure size 640x480 with 1 Axes>"
      ]
     },
     "metadata": {},
     "output_type": "display_data"
    }
   ],
   "source": [
    "plt.hist([GP1,GP2,GP3,GP4], label=['Group1','Group2','Group3','Group4'])\n",
    "plt.legend()\n",
    "plt.ylabel('Homeless Adults')\n",
    "plt.xlabel('Age Groups')\n",
    "plt.title('Homelessness Report October 2023')\n",
    "\n",
    "plt.show()"
   ]
  },
  {
   "cell_type": "code",
   "execution_count": 57,
   "id": "cbb8506c",
   "metadata": {},
   "outputs": [
    {
     "data": {
      "text/plain": [
       "array([64., 73., 67., 64., 56., 70., 57., 84., 90., 54., 77., 63., 65.,\n",
       "       86., 23., 26., 12., 80., 76., 82., 93., 78., 59., 77., 30., 69.,\n",
       "       33., 88., 63., 56., 45., 76., 58., 65., 12., 68., 68., 68., 88.,\n",
       "       72., 52., 57., 72., 21., 71., 71., 40., 31., 49., 52., 65., 57.,\n",
       "       95., 28., 40., 35., 70., 44., 59., 43., 35., 29., 70., 32., 38.,\n",
       "       53., 79., 27., 80., 27., 92., 59., 92., 67., 74., 17., 46., 30.,\n",
       "       47., 30., 49., 56., 22., 72., 65., 45., 63., 27., 66., 87., 49.,\n",
       "       71., 31., 73., 47., 37., 66., 12., 79.,  6., 51., 26., 55., 83.,\n",
       "       25., 44., 45., 43., 24., 81., 36., 66., 53., 27., 63., 33., 70.,\n",
       "       44., 70., 52., 55., 39., 82., 48., 34., 46.,  7., 28., 50., 27.,\n",
       "       46., 35., 18., 27., 43., 45., 43., 49., 49., 35., 72., 31., 35.,\n",
       "       72., 62., 53., 16., 75., 54., 97., 19., 69., 20., 46., 18., 66.,\n",
       "       62., 43., 33., 13., 52., 36., 54., 68., 86., 67.,  5., 31., 55.,\n",
       "       21., 40., 12., 22.,  7., 61., 24., 30., 77., 53.,  9., 20., 47.,\n",
       "       44., 24., 78., 46., 41., 45., 55., 28., 33., 23., 22., 80., 56.,\n",
       "       38., 24., 25., 12., 35.])"
      ]
     },
     "execution_count": 57,
     "metadata": {},
     "output_type": "execute_result"
    }
   ],
   "source": [
    "np.random.seed(0)\n",
    "Reg1 = np.random.triangular(0, 75, 100, 100)# Dublin Region\n",
    "Reg2 = np.random.triangular(0, 25, 100, 100)# Elsewhere\n",
    "Reg = np.concatenate((Reg1,Reg2))\n",
    "Reg.round()"
   ]
  },
  {
   "cell_type": "code",
   "execution_count": 58,
   "id": "48d2d496",
   "metadata": {},
   "outputs": [
    {
     "data": {
      "text/plain": [
       "200"
      ]
     },
     "execution_count": 58,
     "metadata": {},
     "output_type": "execute_result"
    }
   ],
   "source": [
    "len(Reg)"
   ]
  },
  {
   "cell_type": "code",
   "execution_count": 59,
   "id": "487ae65c",
   "metadata": {},
   "outputs": [
    {
     "data": {
      "image/png": "[encoded data removed]",
      "text/plain": [
       "<Figure size 640x480 with 1 Axes>"
      ]
     },
     "metadata": {},
     "output_type": "display_data"
    }
   ],
   "source": [
    "plt.hist([Reg1,Reg2], label=['Reg1','Reg2'])\n",
    "plt.legend()\n",
    "plt.ylabel('Homeless Adults')\n",
    "plt.xlabel('Region')\n",
    "plt.title('Homelessness Report October 2023')\n",
    "\n",
    "plt.show()"
   ]
  },
  {
   "cell_type": "code",
   "execution_count": null,
   "id": "79fdab1a",
   "metadata": {},
   "outputs": [],
   "source": []
  },
  {
   "cell_type": "code",
   "execution_count": 61,
   "id": "4ae284b2",
   "metadata": {},
   "outputs": [
    {
     "data": {
      "text/plain": [
       "array([1, 2, 2, 1, 2, 2, 2, 2, 2, 2, 2, 1, 1, 2, 1, 1, 1, 1, 1, 2, 1, 2,\n",
       "       2, 1, 1, 2, 2, 2, 2, 1, 2, 1, 2, 1, 2, 2, 1, 2, 2, 1, 1, 2, 1, 2,\n",
       "       2, 2, 2, 2, 1, 2, 1, 2, 2, 2, 2, 1, 2, 1, 1, 2, 2, 1, 2, 1, 2, 1,\n",
       "       1, 1, 1, 1, 2, 2, 1, 1, 1, 2, 2, 1, 2, 1, 1, 2, 1, 2, 2, 2, 2, 2,\n",
       "       2, 1, 2, 2, 1, 1, 2, 1, 1, 2, 2, 1, 2, 1, 1, 2, 1, 1, 1, 2, 2, 1,\n",
       "       2, 1, 1, 1, 1, 1, 2, 1, 2, 1, 2, 2, 2, 2, 2, 1, 2, 2, 2, 2, 1, 2,\n",
       "       2, 1, 1, 2, 1, 1, 1, 1, 2, 2, 1, 1, 2, 1, 2, 2, 2, 2, 1, 1, 1, 2,\n",
       "       1, 2, 2, 2, 1, 2, 1, 1, 2, 1, 2, 2, 1, 1, 2, 1, 2, 1, 2, 1, 2, 1,\n",
       "       2, 1, 1, 1, 2, 1, 2, 1, 2, 1, 1, 1, 1, 1, 2, 1, 1, 2, 1, 1, 1, 2,\n",
       "       1, 1])"
      ]
     },
     "execution_count": 61,
     "metadata": {},
     "output_type": "execute_result"
    }
   ],
   "source": [
    "Male = 1\n",
    "Female = 2\n",
    "np.random.seed(0)\n",
    "Gender = np.random.randint(1,3, 200)# 200 Homeless Adults\n",
    "Gender"
   ]
  },
  {
   "cell_type": "code",
   "execution_count": 62,
   "id": "56499679",
   "metadata": {},
   "outputs": [
    {
     "data": {
      "text/plain": [
       "200"
      ]
     },
     "execution_count": 62,
     "metadata": {},
     "output_type": "execute_result"
    }
   ],
   "source": [
    "len(Gender)"
   ]
  },
  {
   "cell_type": "code",
   "execution_count": 63,
   "id": "8ec8865a",
   "metadata": {},
   "outputs": [
    {
     "data": {
      "image/png": "[encoded data removed]",
      "text/plain": [
       "<Figure size 640x480 with 1 Axes>"
      ]
     },
     "metadata": {},
     "output_type": "display_data"
    }
   ],
   "source": [
    "x = np.random.randint(1,3, 400)\n",
    "plt.hist(x)\n",
    "plt.ylabel('Homeless Adults')\n",
    "plt.xlabel('Gender,  Male = 1 , Female = 2')\n",
    "plt.title('Homelessness Report October 2023')\n",
    "plt.show()"
   ]
  },
  {
   "cell_type": "code",
   "execution_count": 65,
   "id": "6f0ae5fb",
   "metadata": {},
   "outputs": [
    {
     "data": {
      "image/png": "[encoded data removed]",
      "text/plain": [
       "<Figure size 640x480 with 1 Axes>"
      ]
     },
     "metadata": {},
     "output_type": "display_data"
    }
   ],
   "source": [
    "gender = [] # empty list created\n",
    "for i in range(500): # iterates 500 times\n",
    "    gender.append(0) # a male and female is added on each iteration\n",
    "    gender.append(1)\n",
    "    \n",
    "gender = pd.DataFrame(gender) # List converted to dataset\n",
    "gender.columns = ['Gender']\n",
    "\n",
    "sns.countplot(x=\"Gender\", data=gender)\n",
    "bars = ('Male', 'Female')\n",
    "plt.title('Gender Ratio')\n",
    "plt.xlabel('Gender')\n",
    "plt.ylabel('Number of')\n",
    "y_pos = np.arange(2)\n",
    "plt.xticks(y_pos, bars) # The bars are named after the two levels of the categorical variable: https://python-graph-gallery.com/4-add-title-and-axis-label/\n",
    "\n",
    "plt.show()"
   ]
  },
  {
   "cell_type": "code",
   "execution_count": null,
   "id": "0387ad45",
   "metadata": {},
   "outputs": [],
   "source": []
  },
  {
   "cell_type": "code",
   "execution_count": null,
   "id": "2b7d7454",
   "metadata": {},
   "outputs": [],
   "source": []
  },
  {
   "cell_type": "code",
   "execution_count": null,
   "id": "3c27fe77",
   "metadata": {},
   "outputs": [],
   "source": []
  },
  {
   "cell_type": "markdown",
   "id": "7520e624",
   "metadata": {},
   "source": [
    "References\n",
    "\n",
    "https://www.irishtimes.com/politics/2023/11/20/homeless-costs-top-300m-in-dublin-as-council-agrees-134bn-budget/\n",
    "\n",
    "\n",
    "https://www.irishtimes.com/ireland/social-affairs/2023/11/24/number-of-homeless-people-surpasses-13000-mark/#:~:text=The%20number%20of%20homeless%20people,mark%2C%20including%20almost%204%2C000%20children.\n",
    "\n",
    "\n",
    "https://www.breakingnews.ie/ireland/obroin-calls-for-wider-count-of-homelessness-to-reflect-true-numbers-1554122.html\n",
    "\n",
    "https://www.irishtimes.com/ireland/social-affairs/2023/11/20/o-broin-calls-for-independent-monitoring-of-homeless-figures-to-understand-true-level/\n",
    "\n",
    "\n",
    "https://housingireland.ie/homelessness-figures-increase/\n",
    "\n",
    "\n",
    "https://www.sciencedirect.com/topics/mathematics/triangular-distribution#:~:text=The%20triangular%20distribution%20is%20when,conduct%20a%20full%20statistical%20analysis.\n",
    "\n",
    "https://selectra.ie/moving/tips/housing-crisis-ireland#:~:text=Most%20experts%20agree%20that%20the,essentially%20stopped%20building%20social%20housing.\n",
    "\n",
    "https://www.focusireland.ie/knowledge-hub/latest-figures/\n",
    "\n",
    "https://www.focusireland.ie/wp-content/uploads/2021/10/Focus-On-Homelessness-Significant-2021.pdf\n"
   ]
  },
  {
   "cell_type": "code",
   "execution_count": null,
   "id": "e2eb6061",
   "metadata": {},
   "outputs": [],
   "source": []
  },
  {
   "cell_type": "code",
   "execution_count": null,
   "id": "4d2f8ddb",
   "metadata": {},
   "outputs": [],
   "source": []
  },
  {
   "cell_type": "code",
   "execution_count": null,
   "id": "5ddca6de",
   "metadata": {},
   "outputs": [],
   "source": []
  },
  {
   "cell_type": "markdown",
   "id": "06b9ed70",
   "metadata": {},
   "source": []
  },
  {
   "cell_type": "code",
   "execution_count": null,
   "id": "204df933",
   "metadata": {},
   "outputs": [],
   "source": []
  },
  {
   "cell_type": "code",
   "execution_count": null,
   "id": "5fd66601",
   "metadata": {},
   "outputs": [],
   "source": []
  }
 ],
 "metadata": {
  "kernelspec": {
   "display_name": "Python 3 (ipykernel)",
   "language": "python",
   "name": "python3"
  },
  "language_info": {
   "codemirror_mode": {
    "name": "ipython",
    "version": 3
   },
   "file_extension": ".py",
   "mimetype": "text/x-python",
   "name": "python",
   "nbconvert_exporter": "python",
   "pygments_lexer": "ipython3",
   "version": "3.9.13"
  }
 },
 "nbformat": 4,
 "nbformat_minor": 5
}
