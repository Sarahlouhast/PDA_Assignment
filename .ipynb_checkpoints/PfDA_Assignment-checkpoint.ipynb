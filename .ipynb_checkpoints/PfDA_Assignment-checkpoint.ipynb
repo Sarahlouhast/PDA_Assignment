{
 "cells": [
  {
   "cell_type": "markdown",
   "id": "95cf407c",
   "metadata": {},
   "source": [
    "# Programming for Data Analysis Project 1"
   ]
  },
  {
   "cell_type": "markdown",
   "id": "a64080fe",
   "metadata": {},
   "source": [
    "## Introduction\n",
    "\n",
    "The aim of this project is to create a data set by simulating a real-world phenomenon of your choosing.\n",
    "Rather than collect data related to the phenomenon model and synthesise such data using Python, numpy.random package.\n",
    "\n",
    "• Choose a real-world phenomenon that can be measured and for which you could collect at least one-hundred data points across at least four different variables.\n",
    "\n",
    "• Investigate the types of variables involved, their likely distributions, and their relationships with each other.\n",
    "\n",
    "• Synthesise/simulate a data set as closely matching their properties as possible.\n",
    "\n",
    "• Detail your research and implement the simulation in a Jupyter notebook – the data set itself can simply be displayed in an output cell within the notebook.\n",
    "\n",
    "***"
   ]
  },
  {
   "cell_type": "code",
   "execution_count": null,
   "id": "6e647fd4",
   "metadata": {},
   "outputs": [],
   "source": [
    "\n",
    "\n",
    "I will create a dataset of xx people across xx variables: Region, Adult age, Adult Gender, Accomodation Type.\n",
    "\n",
    "Homelessness is a major problem in Ireland, a continually worsening sitation and statistics. "
   ]
  },
  {
   "cell_type": "code",
   "execution_count": 2,
   "id": "02429713",
   "metadata": {},
   "outputs": [],
   "source": [
    "# Replace \"your_data.csv\" with the actual path to your CSV file\n",
    "df = pd.read_csv(\"homelessness-report-october-2023.csv\")\n",
    "\n",
    "# Display the first few rows of the DataFrame to verify the data has been loaded\n",
    "#print(df.head())\n"
   ]
  },
  {
   "cell_type": "code",
   "execution_count": 3,
   "id": "60263626",
   "metadata": {},
   "outputs": [
    {
     "data": {
      "text/html": [
       "<div>\n",
       "<style scoped>\n",
       "    .dataframe tbody tr th:only-of-type {\n",
       "        vertical-align: middle;\n",
       "    }\n",
       "\n",
       "    .dataframe tbody tr th {\n",
       "        vertical-align: top;\n",
       "    }\n",
       "\n",
       "    .dataframe thead th {\n",
       "        text-align: right;\n",
       "    }\n",
       "</style>\n",
       "<table border=\"1\" class=\"dataframe\">\n",
       "  <thead>\n",
       "    <tr style=\"text-align: right;\">\n",
       "      <th></th>\n",
       "      <th>Region</th>\n",
       "      <th>Total Adults</th>\n",
       "      <th>Male Adults</th>\n",
       "      <th>Female Adults</th>\n",
       "      <th>Adults Aged 18-24</th>\n",
       "      <th>Adults Aged 25-44</th>\n",
       "      <th>Adults Aged 45-64</th>\n",
       "      <th>Adults Aged 65+</th>\n",
       "      <th>Number of people who accessed Private Emergency Accommodation</th>\n",
       "      <th>Number of people who accessed Supported Temporary Accommodation</th>\n",
       "      <th>Number of people who accessed Temporary Emergency Accommodation</th>\n",
       "      <th>Number of people who accessed Other Accommodation</th>\n",
       "      <th>Number of people with citizenship Irish</th>\n",
       "      <th>Number of people with citizenship EEA/Uk</th>\n",
       "      <th>Number of people with citizenship Non-EEA</th>\n",
       "      <th>Number of Families</th>\n",
       "      <th>Number of Adults in Families</th>\n",
       "      <th>Number of Single-Parent families</th>\n",
       "      <th>Number of Dependants in Families</th>\n",
       "    </tr>\n",
       "  </thead>\n",
       "  <tbody>\n",
       "    <tr>\n",
       "      <th>0</th>\n",
       "      <td>Dublin</td>\n",
       "      <td>6653</td>\n",
       "      <td>4176</td>\n",
       "      <td>2477</td>\n",
       "      <td>1168</td>\n",
       "      <td>3534</td>\n",
       "      <td>1847</td>\n",
       "      <td>104</td>\n",
       "      <td>4197</td>\n",
       "      <td>2419</td>\n",
       "      <td>37</td>\n",
       "      <td>0</td>\n",
       "      <td>3332</td>\n",
       "      <td>1724</td>\n",
       "      <td>1597</td>\n",
       "      <td>1419</td>\n",
       "      <td>2415</td>\n",
       "      <td>776</td>\n",
       "      <td>3060</td>\n",
       "    </tr>\n",
       "    <tr>\n",
       "      <th>1</th>\n",
       "      <td>Mid-East</td>\n",
       "      <td>416</td>\n",
       "      <td>251</td>\n",
       "      <td>165</td>\n",
       "      <td>70</td>\n",
       "      <td>187</td>\n",
       "      <td>135</td>\n",
       "      <td>24</td>\n",
       "      <td>258</td>\n",
       "      <td>152</td>\n",
       "      <td>3</td>\n",
       "      <td>3</td>\n",
       "      <td>278</td>\n",
       "      <td>88</td>\n",
       "      <td>50</td>\n",
       "      <td>92</td>\n",
       "      <td>144</td>\n",
       "      <td>57</td>\n",
       "      <td>147</td>\n",
       "    </tr>\n",
       "    <tr>\n",
       "      <th>2</th>\n",
       "      <td>Midlands</td>\n",
       "      <td>166</td>\n",
       "      <td>86</td>\n",
       "      <td>80</td>\n",
       "      <td>26</td>\n",
       "      <td>76</td>\n",
       "      <td>59</td>\n",
       "      <td>5</td>\n",
       "      <td>90</td>\n",
       "      <td>0</td>\n",
       "      <td>70</td>\n",
       "      <td>6</td>\n",
       "      <td>120</td>\n",
       "      <td>26</td>\n",
       "      <td>20</td>\n",
       "      <td>35</td>\n",
       "      <td>46</td>\n",
       "      <td>24</td>\n",
       "      <td>55</td>\n",
       "    </tr>\n",
       "    <tr>\n",
       "      <th>3</th>\n",
       "      <td>Mid-West</td>\n",
       "      <td>406</td>\n",
       "      <td>233</td>\n",
       "      <td>173</td>\n",
       "      <td>62</td>\n",
       "      <td>206</td>\n",
       "      <td>128</td>\n",
       "      <td>10</td>\n",
       "      <td>125</td>\n",
       "      <td>265</td>\n",
       "      <td>29</td>\n",
       "      <td>0</td>\n",
       "      <td>322</td>\n",
       "      <td>53</td>\n",
       "      <td>31</td>\n",
       "      <td>80</td>\n",
       "      <td>104</td>\n",
       "      <td>59</td>\n",
       "      <td>122</td>\n",
       "    </tr>\n",
       "    <tr>\n",
       "      <th>4</th>\n",
       "      <td>North-East</td>\n",
       "      <td>198</td>\n",
       "      <td>106</td>\n",
       "      <td>92</td>\n",
       "      <td>33</td>\n",
       "      <td>106</td>\n",
       "      <td>49</td>\n",
       "      <td>10</td>\n",
       "      <td>110</td>\n",
       "      <td>88</td>\n",
       "      <td>3</td>\n",
       "      <td>0</td>\n",
       "      <td>114</td>\n",
       "      <td>37</td>\n",
       "      <td>47</td>\n",
       "      <td>42</td>\n",
       "      <td>75</td>\n",
       "      <td>24</td>\n",
       "      <td>89</td>\n",
       "    </tr>\n",
       "    <tr>\n",
       "      <th>5</th>\n",
       "      <td>North-West</td>\n",
       "      <td>130</td>\n",
       "      <td>88</td>\n",
       "      <td>42</td>\n",
       "      <td>16</td>\n",
       "      <td>73</td>\n",
       "      <td>34</td>\n",
       "      <td>7</td>\n",
       "      <td>82</td>\n",
       "      <td>32</td>\n",
       "      <td>16</td>\n",
       "      <td>0</td>\n",
       "      <td>104</td>\n",
       "      <td>18</td>\n",
       "      <td>8</td>\n",
       "      <td>13</td>\n",
       "      <td>20</td>\n",
       "      <td>8</td>\n",
       "      <td>29</td>\n",
       "    </tr>\n",
       "    <tr>\n",
       "      <th>6</th>\n",
       "      <td>South-East</td>\n",
       "      <td>275</td>\n",
       "      <td>178</td>\n",
       "      <td>97</td>\n",
       "      <td>33</td>\n",
       "      <td>153</td>\n",
       "      <td>82</td>\n",
       "      <td>7</td>\n",
       "      <td>85</td>\n",
       "      <td>190</td>\n",
       "      <td>0</td>\n",
       "      <td>0</td>\n",
       "      <td>226</td>\n",
       "      <td>31</td>\n",
       "      <td>18</td>\n",
       "      <td>45</td>\n",
       "      <td>58</td>\n",
       "      <td>33</td>\n",
       "      <td>62</td>\n",
       "    </tr>\n",
       "    <tr>\n",
       "      <th>7</th>\n",
       "      <td>South-West</td>\n",
       "      <td>584</td>\n",
       "      <td>367</td>\n",
       "      <td>217</td>\n",
       "      <td>73</td>\n",
       "      <td>338</td>\n",
       "      <td>161</td>\n",
       "      <td>12</td>\n",
       "      <td>387</td>\n",
       "      <td>198</td>\n",
       "      <td>0</td>\n",
       "      <td>0</td>\n",
       "      <td>411</td>\n",
       "      <td>82</td>\n",
       "      <td>91</td>\n",
       "      <td>105</td>\n",
       "      <td>162</td>\n",
       "      <td>67</td>\n",
       "      <td>207</td>\n",
       "    </tr>\n",
       "    <tr>\n",
       "      <th>8</th>\n",
       "      <td>West</td>\n",
       "      <td>360</td>\n",
       "      <td>198</td>\n",
       "      <td>162</td>\n",
       "      <td>76</td>\n",
       "      <td>177</td>\n",
       "      <td>96</td>\n",
       "      <td>11</td>\n",
       "      <td>266</td>\n",
       "      <td>94</td>\n",
       "      <td>0</td>\n",
       "      <td>0</td>\n",
       "      <td>280</td>\n",
       "      <td>46</td>\n",
       "      <td>34</td>\n",
       "      <td>108</td>\n",
       "      <td>164</td>\n",
       "      <td>59</td>\n",
       "      <td>220</td>\n",
       "    </tr>\n",
       "  </tbody>\n",
       "</table>\n",
       "</div>"
      ],
      "text/plain": [
       "       Region  Total Adults  Male Adults  Female Adults  Adults Aged 18-24  \\\n",
       "0      Dublin          6653         4176           2477               1168   \n",
       "1    Mid-East           416          251            165                 70   \n",
       "2    Midlands           166           86             80                 26   \n",
       "3    Mid-West           406          233            173                 62   \n",
       "4  North-East           198          106             92                 33   \n",
       "5  North-West           130           88             42                 16   \n",
       "6  South-East           275          178             97                 33   \n",
       "7  South-West           584          367            217                 73   \n",
       "8        West           360          198            162                 76   \n",
       "\n",
       "   Adults Aged 25-44  Adults Aged 45-64  Adults Aged 65+  \\\n",
       "0               3534               1847              104   \n",
       "1                187                135               24   \n",
       "2                 76                 59                5   \n",
       "3                206                128               10   \n",
       "4                106                 49               10   \n",
       "5                 73                 34                7   \n",
       "6                153                 82                7   \n",
       "7                338                161               12   \n",
       "8                177                 96               11   \n",
       "\n",
       "   Number of people who accessed Private Emergency Accommodation  \\\n",
       "0                                               4197               \n",
       "1                                                258               \n",
       "2                                                 90               \n",
       "3                                                125               \n",
       "4                                                110               \n",
       "5                                                 82               \n",
       "6                                                 85               \n",
       "7                                                387               \n",
       "8                                                266               \n",
       "\n",
       "   Number of people who accessed Supported Temporary Accommodation  \\\n",
       "0                                               2419                 \n",
       "1                                                152                 \n",
       "2                                                  0                 \n",
       "3                                                265                 \n",
       "4                                                 88                 \n",
       "5                                                 32                 \n",
       "6                                                190                 \n",
       "7                                                198                 \n",
       "8                                                 94                 \n",
       "\n",
       "   Number of people who accessed Temporary Emergency Accommodation  \\\n",
       "0                                                 37                 \n",
       "1                                                  3                 \n",
       "2                                                 70                 \n",
       "3                                                 29                 \n",
       "4                                                  3                 \n",
       "5                                                 16                 \n",
       "6                                                  0                 \n",
       "7                                                  0                 \n",
       "8                                                  0                 \n",
       "\n",
       "   Number of people who accessed Other Accommodation  \\\n",
       "0                                                  0   \n",
       "1                                                  3   \n",
       "2                                                  6   \n",
       "3                                                  0   \n",
       "4                                                  0   \n",
       "5                                                  0   \n",
       "6                                                  0   \n",
       "7                                                  0   \n",
       "8                                                  0   \n",
       "\n",
       "   Number of people with citizenship Irish  \\\n",
       "0                                     3332   \n",
       "1                                      278   \n",
       "2                                      120   \n",
       "3                                      322   \n",
       "4                                      114   \n",
       "5                                      104   \n",
       "6                                      226   \n",
       "7                                      411   \n",
       "8                                      280   \n",
       "\n",
       "   Number of people with citizenship EEA/Uk  \\\n",
       "0                                      1724   \n",
       "1                                        88   \n",
       "2                                        26   \n",
       "3                                        53   \n",
       "4                                        37   \n",
       "5                                        18   \n",
       "6                                        31   \n",
       "7                                        82   \n",
       "8                                        46   \n",
       "\n",
       "   Number of people with citizenship Non-EEA  Number of Families  \\\n",
       "0                                       1597                1419   \n",
       "1                                         50                  92   \n",
       "2                                         20                  35   \n",
       "3                                         31                  80   \n",
       "4                                         47                  42   \n",
       "5                                          8                  13   \n",
       "6                                         18                  45   \n",
       "7                                         91                 105   \n",
       "8                                         34                 108   \n",
       "\n",
       "   Number of Adults in Families  Number of Single-Parent families  \\\n",
       "0                          2415                               776   \n",
       "1                           144                                57   \n",
       "2                            46                                24   \n",
       "3                           104                                59   \n",
       "4                            75                                24   \n",
       "5                            20                                 8   \n",
       "6                            58                                33   \n",
       "7                           162                                67   \n",
       "8                           164                                59   \n",
       "\n",
       "   Number of Dependants in Families  \n",
       "0                              3060  \n",
       "1                               147  \n",
       "2                                55  \n",
       "3                               122  \n",
       "4                                89  \n",
       "5                                29  \n",
       "6                                62  \n",
       "7                               207  \n",
       "8                               220  "
      ]
     },
     "execution_count": 3,
     "metadata": {},
     "output_type": "execute_result"
    }
   ],
   "source": [
    "df"
   ]
  },
  {
   "cell_type": "markdown",
   "id": "94e14079",
   "metadata": {},
   "source": [
    "The Department’s official homelessness statistics are published on a monthly basis and refer to the \n",
    "number of homeless persons accommodated in emergency accommodation funded and overseen by \n",
    "housing authorities during a specific count week, typically the last full week of the month. The reports \n",
    "are produced through the Pathway Accommodation & Support System (PASS), collated on a regional \n",
    "basis and compiled and published by the Department. Homelessness reporting commenced in this\n",
    "format in 2014.\n",
    "\n",
    "Monthly homelessness data are published to www.housing.gov.ie on the last working Friday of every \n",
    "month. These data are also available in open format on www.data.gov.ie\n",
    "\n",
    "\n",
    "The Department of Housing statistics relate to the number of homeless people in emergency accommodation and overseen by housing authorities during a specific week, typically the last full week of the month."
   ]
  },
  {
   "cell_type": "markdown",
   "id": "d22beeb9",
   "metadata": {},
   "source": [
    "With the most recent homelessness figures released, Sinn Féin TD Eoin Ó Broin, has called for the independent monitoring of homeless figures to understand ‘true level’. The current figures include -------. These do not reflect the true numbers, such as rough sleepers and people in accommodation not funded by the State, as ‘the forgotten homeless'\n",
    "\n",
    "another frightening figure is that children now represent more than one-third of those in emergency accommodation, some of which are babies and will be experiencing their chirstmas homeless"
   ]
  },
  {
   "cell_type": "markdown",
   "id": "4663cfc8",
   "metadata": {},
   "source": [
    "In March 2022 the number of homeless people across Ireland was estimated at 9,825, a sobering statistic and nearly triple 2014 numbers"
   ]
  },
  {
   "cell_type": "markdown",
   "id": "d726c33f",
   "metadata": {},
   "source": [
    "The above official homelessness data published by the Department of Housing identifies the number of people utilising State-funded emergency homeless accommodation on a regional and county basis in the last week of every month. The official figures only record those in state emergency homeless accommodation, but discounts those that are in ‘own-door’ temporary accommodation, domestic violence refuges, asylum seekers, people who are sleeping rough, and the very many who are ‘hidden homeless’ and staying with family or friends in insecure housing. No official homeless data was published between Aug-Oct 2014 so a gap exists in the above graph for this period. In August 2023, the figures for single adults was reduced by 308 individuals to correct a data error in the PASS system."
   ]
  },
  {
   "cell_type": "markdown",
   "id": "11203919",
   "metadata": {},
   "source": [
    "Data available here looks at homelessness on a national level with information provided by the Department of Housing, Heritage, and Local Government. This data includes people living in Section 10 funded emergency homeless accommodation and does not include other forms of homelessness such as people living in domestic abuse refuges, in overcrowded accommodation, or those couch surfing."
   ]
  },
  {
   "cell_type": "markdown",
   "id": "82f8754c",
   "metadata": {},
   "source": [
    "Details of adults accessing local authority managed emergency \n",
    "accommodation during the week of 23–29 October 2023 9,188 Adult 6,000 (65%) single adults  5,683 (62%) males 3,505 (38%) females. \n",
    "Highest volumes Adults in emergency accommodation by region in Dublin 6653\n",
    "\n",
    "Region 6,653 (72%) Dublin\n",
    "\n",
    "Age \n",
    "Ages 18-24 Ages 25-44 Ages 45-64 Ages 65+\n",
    "1,557 (17%) 4,850 (53%) 2591 (28%) 190 (2%)\n",
    "\n",
    "Accom type\n",
    "PEA STA TEA\n",
    "5,600 3,438 158\n",
    "clients may have accessed multiple accommodation types during the week\n",
    "\n",
    "\n",
    "PEA - Private Emergency Accommodation: include hotels, B&Bs and other residential facilities that \n",
    "are used on an emergency basis. Supports are provided to services users on a visiting supports \n",
    "basis.\n",
    "STA - Supported Temporary Accommodation: accommodation, including family hubs, hostels, with \n",
    "onsite professional support.\n",
    "TEA - Temporary Emergency Accommodation: emergency accommodation with no (or minimal) \n",
    "support\n",
    "\n",
    "\n",
    "Other aspects that can be considered are \n",
    "\n",
    "Citizenship\n",
    "Irish EEA/UK Non-EEA\n",
    "5187 (56%) 2,105 (23%) 1,896 (21%)\n",
    "\n",
    "Total Families (of which) single \n",
    "parent families Total Adults\n",
    "Total child \n",
    "dependants\n",
    "1,939 1,107 (57%) 3,188 3,99\n"
   ]
  },
  {
   "cell_type": "code",
   "execution_count": null,
   "id": "f5ba57e7",
   "metadata": {},
   "outputs": [],
   "source": [
    "At the end of October 2023:\n",
    "There were over 3991 children living in emergency homeless accommodation\n",
    "This represents a 3% increase from just one year before\n",
    "77% of these living in Dublin"
   ]
  },
  {
   "cell_type": "code",
   "execution_count": null,
   "id": "959a6435",
   "metadata": {},
   "outputs": [],
   "source": []
  },
  {
   "cell_type": "markdown",
   "id": "aa0412bf",
   "metadata": {},
   "source": [
    "![image](./Data/total-number-of-people-in-emergency-homeless-accommodation-in-ireland.png)"
   ]
  },
  {
   "cell_type": "markdown",
   "id": "fad38518",
   "metadata": {},
   "source": [
    "![image](./Data/adult-women-and-men-living-in-emergency-homeless-accommodation.png)"
   ]
  },
  {
   "cell_type": "markdown",
   "id": "b3b5fc9e",
   "metadata": {},
   "source": [
    "![image](./Data/number-of-families-in-emergency-homeless-accommodation.png)"
   ]
  },
  {
   "cell_type": "markdown",
   "id": "937cdd60",
   "metadata": {},
   "source": [
    "![image](./Data/adults-and-children-living-in-emergency-homeless-accommodation-in-ireland.png)"
   ]
  },
  {
   "cell_type": "markdown",
   "id": "b42fb38b",
   "metadata": {},
   "source": [
    "![image](./Data/age-breakdown-of-adults-living-in-emergency-homeless-accommodation.png)"
   ]
  },
  {
   "cell_type": "markdown",
   "id": "0615f2f8",
   "metadata": {},
   "source": [
    "![image](./Data/number-of-people-accessing-different-emergency-homeless-accommodation-types.png)"
   ]
  },
  {
   "cell_type": "markdown",
   "id": "03105a3f",
   "metadata": {},
   "source": [
    "Investigate the types of variables involved, their likely distributions, and their\n",
    "relationships with each other.\n",
    "\n",
    "The variables I have chosen are as follows:\n",
    "\n",
    "Region (Categorical : Location, Dublin / Elsewhere)\n",
    "Adults (Continuous: 18 - 80 )\n",
    "Adult Gender ( Continuous: Male / Female )\n",
    "Accomodation Type ( Categorical: PEA, STA, TEA, Other)\n",
    "\n",
    "The below represent each for the Accomodation Type:\n",
    "PEA - Private Emergency Accommodation: include hotels, B&Bs and other residential facilities that \n",
    "are used on an emergency basis. Supports are provided to services users on a visiting supports \n",
    "basis.\n",
    "STA - Supported Temporary Accommodation: accommodation, including family hubs, hostels, with \n",
    "onsite professional support.\n",
    "TEA - Temporary Emergency Accommodation: emergency accommodation with no (or minimal) \n",
    "support\n"
   ]
  },
  {
   "cell_type": "markdown",
   "id": "9f68fc39",
   "metadata": {},
   "source": [
    "To get started I will import the necessary libraries\n",
    "It is important to run the below cell first as it loads up the various libraries required and used to generate the data. \n",
    "If you see errors further down the notebook, return to this cell."
   ]
  },
  {
   "cell_type": "code",
   "execution_count": 88,
   "id": "0037010c",
   "metadata": {},
   "outputs": [],
   "source": [
    "# Importing libraries\n",
    "import pandas as pd\n",
    "import numpy as np\n",
    "import matplotlib.pyplot as plt\n",
    "import seaborn as sns"
   ]
  },
  {
   "cell_type": "markdown",
   "id": "ba7f683b",
   "metadata": {},
   "source": [
    "## Region Variable (Categorical : Location, Dublin / Elsewhere)"
   ]
  },
  {
   "cell_type": "markdown",
   "id": "69988edd",
   "metadata": {},
   "source": [
    "For the region variable I have chosen to split the data in two regions - Dublin and Elsewhere. This is a cateogircal variable with two options. From my research and the most recent homelessness report October 2023, the latest figures show 72% in Dublin and the rest of the country combined is 28%, no other area is in anyway near as high or close to the capital figures. \n",
    "\n",
    "\n",
    "Dublin consistently has the highest figures\n",
    "This suggests a significant concentration of homeless adults in Dublin compared to other regions.\n",
    "\n",
    "\n",
    "As there is a known relationship between the variable data but when there is relatively little data available to conduct a full statistical analysis.\n",
    "\n",
    "The triangular distribution is when there is a known relationship between the variable data but when there is relatively little data available to conduct a full statistical analysis. It is often used in simulations when there is very little known about the data-generating process and is often referred to as a “lack of knowledge” distribution. The triangular distribution is an ideal distribution when the only data on hand are the maximum and minimum values, and the most likely outcom\n",
    "\n",
    "\n",
    "The first variable we will look at will be the Region variable, this is a categorical variable which comprises of two options. From the imported Homelessness Report September 2018 on which I am basing this project data on, I have condensed the reions into two options, which are, \"Dublin\" and \"Elsewhere\", as the majority of the split lies in Dublin at 68% and the rest of the country coming in at 32%. The triangular distribution deemed the most suitable for this sample, as the triangular distribution is a continuous probability distribution with lower limit left, peak at mode, and upper limit right. Unlike the other distributions, these parameters directly define the shape of the pdf. The triangular distribution also features a mode, which is the value the most appears. The triangular distribution is often used in ill-defined problems where the underlying distribution is not known, but some knowledge of the limits and mode exists. Often it is used in simulations.\n",
    "\n",
    "\n"
   ]
  },
  {
   "cell_type": "code",
   "execution_count": 27,
   "id": "80d4be17",
   "metadata": {},
   "outputs": [
    {
     "data": {
      "text/plain": [
       "array([49., 12., 67., 19., 30., 26., 81., 63., 13., 46.,  7., 66., 54.,\n",
       "       80., 12., 52., 33., 80., 18., 68., 45., 70., 47., 24., 71., 83.,\n",
       "       78., 79., 66., 53., 21., 70., 34., 23., 33., 65., 36., 46., 69.,\n",
       "       33., 63., 40., 28., 63., 46., 73., 27., 27., 52., 55., 22., 40.,\n",
       "       16., 62., 18., 65., 82.,  7., 27., 26., 47., 25., 68., 76., 78.,\n",
       "       24., 77., 31., 62., 17., 35., 53., 72., 64., 24., 68., 54., 51.,\n",
       "       54., 66., 20., 27., 65., 56., 88., 37., 44., 43., 36., 40., 45.,\n",
       "       35., 39., 53.,  9., 77., 70., 24., 35., 79., 43., 65., 59., 67.,\n",
       "       57.,  6., 27., 28., 30., 66., 46., 84., 49., 90., 72., 88., 46.,\n",
       "       31., 71., 55., 44., 52., 43., 68., 72., 49., 43., 20., 49., 28.,\n",
       "       92., 55., 49., 35.,  5., 72., 12., 44., 35., 41., 56., 95., 74.,\n",
       "       33., 25., 56., 35., 30., 64., 70., 31., 29., 45., 38., 82., 59.,\n",
       "       80., 93., 45., 23., 58., 69., 38., 53., 55., 56., 59., 86., 22.,\n",
       "       92., 75., 52., 27., 48., 22., 71., 43., 57., 70., 30., 47., 86.,\n",
       "       45., 12., 32., 50., 44., 63., 67., 87., 97., 61., 73., 57., 77.,\n",
       "       72., 21., 31., 76., 12.])"
      ]
     },
     "execution_count": 27,
     "metadata": {},
     "output_type": "execute_result"
    }
   ],
   "source": [
    "np.random.seed(0)\n",
    "Reg1 = np.random.triangular(0, 75, 100, 100)# Dublin Region\n",
    "Reg2 = np.random.triangular(0, 25, 100, 100)# Elsewhere\n",
    "Reg = np.concatenate((Reg1,Reg2))\n",
    "np.random.shuffle(Reg)\n",
    "Reg.round()"
   ]
  },
  {
   "cell_type": "code",
   "execution_count": 28,
   "id": "7c41894d",
   "metadata": {},
   "outputs": [
    {
     "data": {
      "image/png": "[encoded data removed]",
      "text/plain": [
       "<Figure size 640x480 with 1 Axes>"
      ]
     },
     "metadata": {},
     "output_type": "display_data"
    }
   ],
   "source": [
    "plt.hist([Reg1,Reg2], label=['Dublin', 'Elsewhere'])\n",
    "plt.legend()\n",
    "plt.ylabel('Homeless Adults')\n",
    "plt.xlabel('Region')\n",
    "plt.title('Homelessness Report October 2023')\n",
    "\n",
    "plt.show()"
   ]
  },
  {
   "cell_type": "code",
   "execution_count": 24,
   "id": "223d1051",
   "metadata": {},
   "outputs": [
    {
     "data": {
      "image/png": "[encoded data removed]",
      "text/plain": [
       "<Figure size 640x480 with 1 Axes>"
      ]
     },
     "metadata": {},
     "output_type": "display_data"
    }
   ],
   "source": [
    "np.random.seed(0)\n",
    "\n",
    "# Percentage split\n",
    "percentage_dublin = 75\n",
    "percentage_elsewhere = 25\n",
    "\n",
    "# Total number of data points\n",
    "total_points = 100\n",
    "\n",
    "# Generate random data for Dublin Region\n",
    "Reg1 = np.random.uniform(0, 100, int(total_points * (percentage_dublin / 100)))\n",
    "\n",
    "# Generate random data for Elsewhere\n",
    "Reg2 = np.random.uniform(0, 100, int(total_points * (percentage_elsewhere / 100)))\n",
    "\n",
    "# Concatenate the two sets of data\n",
    "Reg = np.concatenate((Reg1, Reg2))\n",
    "\n",
    "# Shuffle the combined data\n",
    "np.random.shuffle(Reg)\n",
    "\n",
    "# Round the values to whole numbers\n",
    "Reg = Reg.round()\n",
    "\n",
    "# Create a histogram\n",
    "plt.hist([Reg1, Reg2], label=['Dublin', 'Elsewhere'])\n",
    "plt.legend()\n",
    "plt.ylabel('Homeless Adults')\n",
    "plt.xlabel('Region')\n",
    "plt.title('Homelessness Report October 2023')\n",
    "\n",
    "plt.show()\n"
   ]
  },
  {
   "cell_type": "markdown",
   "id": "24aedf7f",
   "metadata": {},
   "source": [
    "## Adult Age Variable (Continuous: 18 - 80 Age Group )"
   ]
  },
  {
   "cell_type": "markdown",
   "id": "6267a531",
   "metadata": {},
   "source": [
    "The next Variable, in the dataset I will simulate, will be the Adult Age Group. The age variable is a continuous numerical variable. From intensive research online, and reading of countless of reports and articles regarding Homelessness in Ireland. If anything, there seems to be a constant age group where the majority of Homeless Adults fit into. This age group is , ages between 25 -44yrs, with 45 -64yrs being the second largest group. Therefore I will simulate data of a general age from 18 - 80yrs, hoping that any person over the age of 80yrs is been cared for age appropiately, and additional data showcasing the age breakdown. I intend to use samples from a uniform distribution, as this distribution will allow me to set both the lower and upper ranges for the age group, subesequently this is why I will proceed to break down the age range into smaller groups also, on doing this I can then see , which group will fit my data set best.\n",
    "\n",
    "\n",
    " uniform distribution is flexible and can be adapted to various scenarios within the specified bounds."
   ]
  },
  {
   "cell_type": "code",
   "execution_count": 32,
   "id": "e2e68319",
   "metadata": {},
   "outputs": [
    {
     "data": {
      "text/plain": [
       "array([52., 62., 55., 52., 44., 58., 45., 73., 78., 42., 67., 51., 53.,\n",
       "       75., 22., 23., 19., 70., 66., 72., 79., 68., 47., 66., 25., 58.,\n",
       "       27., 77., 50., 44., 34., 66., 46., 53., 19., 56., 56., 56., 77.,\n",
       "       60., 40., 45., 61., 22., 59., 60., 31., 26., 38., 41., 53., 45.,\n",
       "       79., 24., 31., 28., 58., 34., 47., 33., 28., 25., 59., 27., 30.,\n",
       "       41., 69., 24., 70., 24., 79., 47., 79., 56., 64., 20., 36., 25.,\n",
       "       36., 25., 38., 44., 22., 61., 53., 34., 50., 24., 54., 76., 38.,\n",
       "       59., 26., 62., 36., 29., 54., 19., 69., 18., 60., 35., 64., 78.,\n",
       "       33., 54., 55., 53., 32., 77., 46., 70., 61., 36., 68., 43., 73.,\n",
       "       54., 73., 61., 63., 49., 77., 58., 44., 56., 19., 37., 59., 36.,\n",
       "       56., 45., 26., 36., 53., 55., 54., 58., 58., 45., 74., 41., 45.,\n",
       "       73., 68., 62., 24., 75., 62., 80., 27., 72., 28., 56., 26., 71.,\n",
       "       68., 53., 43., 22., 61., 46., 63., 72., 78., 71., 19., 40., 63.,\n",
       "       29., 50., 21., 30., 19., 67., 32., 39., 76., 62., 20., 28., 57.,\n",
       "       54., 33., 76., 56., 51., 55., 63., 37., 43., 31., 30., 77., 64.,\n",
       "       48., 32., 34., 22., 45.])"
      ]
     },
     "execution_count": 32,
     "metadata": {},
     "output_type": "execute_result"
    }
   ],
   "source": [
    "np.random.seed(0)\n",
    "age = np.random.uniform(18,80,200)# Adults aged beween 18 -80  yrs old\n",
    "age.round()"
   ]
  },
  {
   "cell_type": "code",
   "execution_count": 33,
   "id": "149feff2",
   "metadata": {},
   "outputs": [
    {
     "data": {
      "text/plain": [
       "200"
      ]
     },
     "execution_count": 33,
     "metadata": {},
     "output_type": "execute_result"
    }
   ],
   "source": [
    "len(age)"
   ]
  },
  {
   "cell_type": "code",
   "execution_count": 34,
   "id": "494426aa",
   "metadata": {},
   "outputs": [
    {
     "data": {
      "text/plain": [
       "49.02714347011869"
      ]
     },
     "execution_count": 34,
     "metadata": {},
     "output_type": "execute_result"
    }
   ],
   "source": [
    "np.mean(age)"
   ]
  },
  {
   "cell_type": "code",
   "execution_count": 35,
   "id": "aab93956",
   "metadata": {},
   "outputs": [
    {
     "data": {
      "text/plain": [
       "51.49599556667751"
      ]
     },
     "execution_count": 35,
     "metadata": {},
     "output_type": "execute_result"
    }
   ],
   "source": [
    "np.median(age)"
   ]
  },
  {
   "cell_type": "code",
   "execution_count": 36,
   "id": "9329bef7",
   "metadata": {},
   "outputs": [
    {
     "data": {
      "image/png": "[encoded data removed]",
      "text/plain": [
       "<Figure size 640x480 with 1 Axes>"
      ]
     },
     "metadata": {},
     "output_type": "display_data"
    }
   ],
   "source": [
    "x = np.random.randint(18,80,200)\n",
    "plt.hist(x)\n",
    "plt.ylabel('Homeless Adults')\n",
    "plt.xlabel('Age')\n",
    "plt.title('Homelessness Report October 2023')\n",
    "plt.show()"
   ]
  },
  {
   "cell_type": "code",
   "execution_count": 46,
   "id": "f86ddfae",
   "metadata": {},
   "outputs": [
    {
     "data": {
      "text/plain": [
       "array([31., 25., 22., 67., 27., 19., 63., 21., 66., 74., 45., 36., 76.,\n",
       "       23., 66., 20., 53., 79., 67., 22., 30., 37., 74., 49., 22., 63.,\n",
       "       23., 41., 36., 58., 68., 62., 53., 68., 71., 36., 53., 74., 78.,\n",
       "       71., 35., 19., 51., 60., 30., 22., 27., 51., 58., 59., 26., 73.,\n",
       "       47., 60., 48., 21., 23., 65., 27., 50., 31., 50., 78., 23., 79.,\n",
       "       68., 23., 19., 77., 26., 53., 32., 22., 21., 68., 22., 59., 58.,\n",
       "       20., 61., 67., 51., 21., 20., 24., 28., 30., 74., 72., 29., 20.,\n",
       "       53., 55., 58., 65., 23., 37., 69., 28., 41., 56., 36., 34., 78.,\n",
       "       21., 25., 51., 70., 27., 78., 57., 23., 57., 24., 22., 24., 57.,\n",
       "       70., 22., 76., 74., 20., 56., 22., 62., 31., 30., 67., 20., 27.,\n",
       "       44., 76., 57., 28., 65., 62., 18., 56., 72., 73., 76., 44., 39.,\n",
       "       19., 69., 21., 53., 70., 21., 22., 52., 27., 56., 72., 63., 21.,\n",
       "       41., 24., 74., 18., 21., 22., 29., 76., 59., 33., 34., 24., 68.,\n",
       "       44., 62., 75., 27., 57., 68., 38., 56., 33., 62., 19., 30., 80.,\n",
       "       56., 18., 28., 58., 56., 21., 36., 43., 64., 77., 39., 21., 79.,\n",
       "       38., 18., 28., 23., 66.])"
      ]
     },
     "execution_count": 46,
     "metadata": {},
     "output_type": "execute_result"
    }
   ],
   "source": [
    "np.random.seed(0)\n",
    "GP1 = np.random.uniform(18,24,50)# Group 1 (18-24yrs)\n",
    "GP2 = np.random.uniform(25,44,50)# Group 2 (25-44yrs)\n",
    "GP3 = np.random.uniform(45,64,50)# Group 3(45-64yrs)\n",
    "GP4 = np.random.uniform(65,80,50)# Group 4(65-80yrs)\n",
    "GP = np.concatenate((GP1,GP2,GP3,GP4))\n",
    "np.random.shuffle(GP)\n",
    "GP.round()"
   ]
  },
  {
   "cell_type": "code",
   "execution_count": 64,
   "id": "508cca82",
   "metadata": {},
   "outputs": [
    {
     "data": {
      "text/plain": [
       "200"
      ]
     },
     "execution_count": 64,
     "metadata": {},
     "output_type": "execute_result"
    }
   ],
   "source": [
    "len(GP)"
   ]
  },
  {
   "cell_type": "code",
   "execution_count": 65,
   "id": "8cd0af6e",
   "metadata": {},
   "outputs": [
    {
     "data": {
      "text/plain": [
       "45.53902325132873"
      ]
     },
     "execution_count": 65,
     "metadata": {},
     "output_type": "execute_result"
    }
   ],
   "source": [
    "np.mean(GP)"
   ]
  },
  {
   "cell_type": "code",
   "execution_count": 66,
   "id": "219b0f1e",
   "metadata": {},
   "outputs": [
    {
     "data": {
      "text/plain": [
       "20.27456406592925"
      ]
     },
     "execution_count": 66,
     "metadata": {},
     "output_type": "execute_result"
    }
   ],
   "source": [
    "np.std(GP)"
   ]
  },
  {
   "cell_type": "code",
   "execution_count": 67,
   "id": "7d6a5a31",
   "metadata": {},
   "outputs": [
    {
     "data": {
      "image/png": "[encoded data removed]",
      "text/plain": [
       "<Figure size 640x480 with 1 Axes>"
      ]
     },
     "metadata": {},
     "output_type": "display_data"
    }
   ],
   "source": [
    "plt.hist([GP1,GP2,GP3,GP4], label=['18-24yrs','25-44yrs','45-64yrs','65-80yrs'])\n",
    "plt.legend()\n",
    "plt.ylabel('Homeless Adults')\n",
    "plt.xlabel('Age Groups')\n",
    "plt.title('Homelessness Report October 2023')\n",
    "\n",
    "plt.show()"
   ]
  },
  {
   "cell_type": "markdown",
   "id": "bb2607d4",
   "metadata": {},
   "source": [
    "On plotting the two different selections for age, I tend to agree that the second selection, as per above, leans more favourably to my research, as the largest age group can be seen to Group 1 & Group 2, in comparison to the first histogram, which shows the majority age group count to be in and around 60 -70 yrs old. Taking the second group range, that is with the four groups, I think this is a more adequate representation of the majority age group of Adults of whom are Homeless."
   ]
  },
  {
   "cell_type": "markdown",
   "id": "e5973e6a",
   "metadata": {},
   "source": [
    "## Adult Gender Variable ( Continuous: Male / Female )"
   ]
  },
  {
   "cell_type": "markdown",
   "id": "d6dc015d",
   "metadata": {},
   "source": [
    "I used np.random.choice to generate the data on gender, giving a 40%, 60% female/male breakdown as per the July 2018 HEA Institutional Staff Profiles by Gender report. This function generates a random sample from a given one dimensional array, the parameters entered being gender, size of output, and probabilities associated with each entry of gender, i.e. 54% male, 46% female."
   ]
  },
  {
   "cell_type": "code",
   "execution_count": 129,
   "id": "6245d1e8",
   "metadata": {},
   "outputs": [
    {
     "data": {
      "image/png": "[encoded data removed]",
      "text/plain": [
       "<Figure size 640x480 with 1 Axes>"
      ]
     },
     "metadata": {},
     "output_type": "display_data"
    }
   ],
   "source": [
    "np.random.seed(0)\n",
    "\n",
    "# Simulate gender with a split of 60% Male and 40% Female\n",
    "gender_data = np.random.choice([1, 2], size=200, p=[0.6, 0.4])\n",
    "\n",
    "# Plot histogram for simulated gender data\n",
    "plt.hist(gender_data)\n",
    "plt.ylabel('Homeless Adults')\n",
    "plt.xlabel('Gender, Male = 1, Female = 2')\n",
    "plt.title('Homelessness Report October 2023')\n",
    "plt.show()"
   ]
  },
  {
   "cell_type": "code",
   "execution_count": 83,
   "id": "4ae284b2",
   "metadata": {},
   "outputs": [
    {
     "data": {
      "text/plain": [
       "array([1, 2, 2, 1, 2, 2, 2, 2, 2, 2, 2, 1, 1, 2, 1, 1, 1, 1, 1, 2, 1, 2,\n",
       "       2, 1, 1, 2, 2, 2, 2, 1, 2, 1, 2, 1, 2, 2, 1, 2, 2, 1, 1, 2, 1, 2,\n",
       "       2, 2, 2, 2, 1, 2, 1, 2, 2, 2, 2, 1, 2, 1, 1, 2, 2, 1, 2, 1, 2, 1,\n",
       "       1, 1, 1, 1, 2, 2, 1, 1, 1, 2, 2, 1, 2, 1, 1, 2, 1, 2, 2, 2, 2, 2,\n",
       "       2, 1, 2, 2, 1, 1, 2, 1, 1, 2, 2, 1, 2, 1, 1, 2, 1, 1, 1, 2, 2, 1,\n",
       "       2, 1, 1, 1, 1, 1, 2, 1, 2, 1, 2, 2, 2, 2, 2, 1, 2, 2, 2, 2, 1, 2,\n",
       "       2, 1, 1, 2, 1, 1, 1, 1, 2, 2, 1, 1, 2, 1, 2, 2, 2, 2, 1, 1, 1, 2,\n",
       "       1, 2, 2, 2, 1, 2, 1, 1, 2, 1, 2, 2, 1, 1, 2, 1, 2, 1, 2, 1, 2, 1,\n",
       "       2, 1, 1, 1, 2, 1, 2, 1, 2, 1, 1, 1, 1, 1, 2, 1, 1, 2, 1, 1, 1, 2,\n",
       "       1, 1])"
      ]
     },
     "execution_count": 83,
     "metadata": {},
     "output_type": "execute_result"
    }
   ],
   "source": [
    "Male = 1\n",
    "Female = 2\n",
    "np.random.seed(0)\n",
    "Gender = np.random.randint(1,3, 200)# 200 Homeless Adults\n",
    "Gender"
   ]
  },
  {
   "cell_type": "code",
   "execution_count": 77,
   "id": "56499679",
   "metadata": {},
   "outputs": [
    {
     "data": {
      "text/plain": [
       "200"
      ]
     },
     "execution_count": 77,
     "metadata": {},
     "output_type": "execute_result"
    }
   ],
   "source": [
    "len(Gender)"
   ]
  },
  {
   "cell_type": "code",
   "execution_count": 84,
   "id": "8ec8865a",
   "metadata": {},
   "outputs": [
    {
     "data": {
      "image/png": "[encoded data removed]",
      "text/plain": [
       "<Figure size 640x480 with 1 Axes>"
      ]
     },
     "metadata": {},
     "output_type": "display_data"
    }
   ],
   "source": [
    "x = Gender\n",
    "plt.hist(x)\n",
    "plt.ylabel('Homeless Adults')\n",
    "plt.xlabel('Gender,  Male = 1 , Female = 2')\n",
    "plt.title('Homelessness Report October 2023')\n",
    "plt.show()"
   ]
  },
  {
   "cell_type": "code",
   "execution_count": null,
   "id": "e861bd5a",
   "metadata": {},
   "outputs": [],
   "source": [
    "\n"
   ]
  },
  {
   "cell_type": "markdown",
   "id": "fe989b6c",
   "metadata": {},
   "source": [
    "## Accomodation Type ( Categorical: PEA, STA, TEA, Other)"
   ]
  },
  {
   "cell_type": "markdown",
   "id": "36fae820",
   "metadata": {},
   "source": [
    "The below represent each for the Accomodation Type:\n",
    "\n",
    "PEA - Private Emergency Accommodation: include hotels, B&Bs and other residential facilities that \n",
    "are used on an emergency basis. Supports are provided to services users on a visiting supports \n",
    "basis.\n",
    "\n",
    "STA - Supported Temporary Accommodation: accommodation, including family hubs, hostels, with \n",
    "onsite professional support.\n",
    "\n",
    "TEA - Temporary Emergency Accommodation: emergency accommodation with no (or minimal) \n",
    "support\n",
    "\n",
    "Other\n"
   ]
  },
  {
   "cell_type": "markdown",
   "id": "86787b34",
   "metadata": {},
   "source": [
    "Because of the varies types of accomodation, I can group them into four distinct options, which are Accomodation Type ( Categorical: PEA, STA, TEA, Other), but because the % accounted for, shows the majority figure supported and a small amount , that is other , whom seem to receive no support. the distribution I deemed fit for this selectionis numpy.random.randn, this will return a sample (or samples) from the “standard normal” distribution.If positive, int_like or int-convertible arguments are provided, randn generates an array of shape (d0, d1, ..., dn), filled with random floats sampled from a univariate “normal” (Gaussian) distribution of mean 0 and variance 1 (if any of the d_i are floats, they are first converted to integers by truncation). A single float randomly sampled from the distribution is returned if no argument is provided."
   ]
  },
  {
   "cell_type": "code",
   "execution_count": 98,
   "id": "2b7d7454",
   "metadata": {},
   "outputs": [
    {
     "data": {
      "text/plain": [
       "array([3, 4, 3, 1, 4, 4, 2, 2, 2, 3, 2, 2, 2, 3, 1, 4, 2, 1, 4, 2, 2, 3,\n",
       "       1, 3, 4, 1, 3, 1, 3, 1, 1, 4, 4, 4, 1, 1, 4, 2, 4, 3, 4, 1, 4, 1,\n",
       "       4, 4, 2, 3, 2, 1, 1, 4, 1, 4, 1, 1, 2, 1, 3, 3, 3, 1, 1, 3, 1, 3,\n",
       "       4, 3, 4, 4, 1, 2, 2, 2, 1, 1, 4, 4, 2, 4, 1, 4, 1, 2, 3, 3, 1, 3,\n",
       "       2, 4, 4, 4, 2, 3, 2, 3, 4, 3, 2, 3, 4, 4, 1, 1, 3, 2, 4, 2, 3, 3,\n",
       "       2, 1, 3, 4, 1, 3, 1, 4, 3, 2, 3, 2, 1, 2, 2, 3, 3, 4, 1, 2, 1, 4,\n",
       "       1, 1, 3, 1, 4, 2, 1, 4, 3, 2, 4, 1, 2, 3, 1, 1, 1, 3, 2, 4, 1, 1,\n",
       "       1, 1, 2, 4, 3, 3, 2, 1, 2, 2, 2, 4, 4, 2, 2, 4, 2, 4, 4, 3, 3, 4,\n",
       "       2, 2, 2, 3, 1, 4, 1, 1, 2, 1, 2, 1, 4, 3, 3, 2, 1, 1, 1, 1, 1, 4,\n",
       "       3, 2])"
      ]
     },
     "execution_count": 98,
     "metadata": {},
     "output_type": "execute_result"
    }
   ],
   "source": [
    "AccTyp = np.random.randint(1,5,200)\n",
    "AccTyp"
   ]
  },
  {
   "cell_type": "code",
   "execution_count": 99,
   "id": "3c27fe77",
   "metadata": {},
   "outputs": [
    {
     "data": {
      "image/png": "[encoded data removed]",
      "text/plain": [
       "<Figure size 640x480 with 1 Axes>"
      ]
     },
     "metadata": {},
     "output_type": "display_data"
    }
   ],
   "source": [
    "x = np.random.randint(1,5,200)\n",
    "plt.hist(x)\n",
    "plt.ylabel('Homeless Adults')\n",
    "plt.xlabel('Accomodation Type')\n",
    "plt.title('Homelessness Report October 2023')\n",
    "plt.show()"
   ]
  },
  {
   "cell_type": "code",
   "execution_count": 97,
   "id": "ad013dc2",
   "metadata": {},
   "outputs": [
    {
     "data": {
      "image/png": "[encoded data removed]",
      "text/plain": [
       "<Figure size 640x480 with 1 Axes>"
      ]
     },
     "metadata": {},
     "output_type": "display_data"
    }
   ],
   "source": [
    "np.random.seed(0)\n",
    "\n",
    "# Observed percentages of different accommodation types\n",
    "observed_percentages = {'Private Emergency': 60, 'Supported Temporary': 37, 'Temporary Emergency': 2, 'Other': 1}\n",
    "\n",
    "# Convert percentages to proportions\n",
    "total_percentage = sum(observed_percentages.values())\n",
    "proportions = {key: value / total_percentage for key, value in observed_percentages.items()}\n",
    "\n",
    "# Simulate accommodation type based on observed proportions\n",
    "accommodation_data = np.random.choice(list(proportions.keys()), size=200, p=list(proportions.values()))\n",
    "\n",
    "# Plot histogram for simulated accommodation data\n",
    "plt.hist(accommodation_data, edgecolor='black', align='mid')\n",
    "plt.xlabel('Accommodation Type')\n",
    "plt.ylabel('Number of Homeless Adults')\n",
    "plt.title('Simulated Accommodation Type Distribution')\n",
    "plt.show()\n"
   ]
  },
  {
   "cell_type": "markdown",
   "id": "0aa6c659",
   "metadata": {},
   "source": [
    "## Simulation"
   ]
  },
  {
   "cell_type": "code",
   "execution_count": null,
   "id": "cc3f3f00",
   "metadata": {},
   "outputs": [],
   "source": []
  },
  {
   "cell_type": "code",
   "execution_count": 100,
   "id": "9e5c711c",
   "metadata": {},
   "outputs": [
    {
     "data": {
      "text/html": [
       "<div>\n",
       "<style scoped>\n",
       "    .dataframe tbody tr th:only-of-type {\n",
       "        vertical-align: middle;\n",
       "    }\n",
       "\n",
       "    .dataframe tbody tr th {\n",
       "        vertical-align: top;\n",
       "    }\n",
       "\n",
       "    .dataframe thead th {\n",
       "        text-align: right;\n",
       "    }\n",
       "</style>\n",
       "<table border=\"1\" class=\"dataframe\">\n",
       "  <thead>\n",
       "    <tr style=\"text-align: right;\">\n",
       "      <th></th>\n",
       "      <th>PieChart % Region</th>\n",
       "      <th>Age</th>\n",
       "      <th>Gender</th>\n",
       "      <th>Accomodation Type</th>\n",
       "    </tr>\n",
       "  </thead>\n",
       "  <tbody>\n",
       "    <tr>\n",
       "      <th>0</th>\n",
       "      <td>49.0</td>\n",
       "      <td>31.0</td>\n",
       "      <td>1</td>\n",
       "      <td>2</td>\n",
       "    </tr>\n",
       "    <tr>\n",
       "      <th>1</th>\n",
       "      <td>12.0</td>\n",
       "      <td>25.0</td>\n",
       "      <td>2</td>\n",
       "      <td>3</td>\n",
       "    </tr>\n",
       "    <tr>\n",
       "      <th>2</th>\n",
       "      <td>67.0</td>\n",
       "      <td>22.0</td>\n",
       "      <td>2</td>\n",
       "      <td>4</td>\n",
       "    </tr>\n",
       "    <tr>\n",
       "      <th>3</th>\n",
       "      <td>19.0</td>\n",
       "      <td>67.0</td>\n",
       "      <td>1</td>\n",
       "      <td>3</td>\n",
       "    </tr>\n",
       "    <tr>\n",
       "      <th>4</th>\n",
       "      <td>30.0</td>\n",
       "      <td>27.0</td>\n",
       "      <td>2</td>\n",
       "      <td>3</td>\n",
       "    </tr>\n",
       "    <tr>\n",
       "      <th>...</th>\n",
       "      <td>...</td>\n",
       "      <td>...</td>\n",
       "      <td>...</td>\n",
       "      <td>...</td>\n",
       "    </tr>\n",
       "    <tr>\n",
       "      <th>195</th>\n",
       "      <td>72.0</td>\n",
       "      <td>38.0</td>\n",
       "      <td>1</td>\n",
       "      <td>4</td>\n",
       "    </tr>\n",
       "    <tr>\n",
       "      <th>196</th>\n",
       "      <td>21.0</td>\n",
       "      <td>18.0</td>\n",
       "      <td>1</td>\n",
       "      <td>4</td>\n",
       "    </tr>\n",
       "    <tr>\n",
       "      <th>197</th>\n",
       "      <td>31.0</td>\n",
       "      <td>28.0</td>\n",
       "      <td>2</td>\n",
       "      <td>3</td>\n",
       "    </tr>\n",
       "    <tr>\n",
       "      <th>198</th>\n",
       "      <td>76.0</td>\n",
       "      <td>23.0</td>\n",
       "      <td>1</td>\n",
       "      <td>3</td>\n",
       "    </tr>\n",
       "    <tr>\n",
       "      <th>199</th>\n",
       "      <td>12.0</td>\n",
       "      <td>66.0</td>\n",
       "      <td>1</td>\n",
       "      <td>2</td>\n",
       "    </tr>\n",
       "  </tbody>\n",
       "</table>\n",
       "<p>200 rows × 4 columns</p>\n",
       "</div>"
      ],
      "text/plain": [
       "     PieChart % Region   Age  Gender  Accomodation Type\n",
       "0                 49.0  31.0       1                  2\n",
       "1                 12.0  25.0       2                  3\n",
       "2                 67.0  22.0       2                  4\n",
       "3                 19.0  67.0       1                  3\n",
       "4                 30.0  27.0       2                  3\n",
       "..                 ...   ...     ...                ...\n",
       "195               72.0  38.0       1                  4\n",
       "196               21.0  18.0       1                  4\n",
       "197               31.0  28.0       2                  3\n",
       "198               76.0  23.0       1                  3\n",
       "199               12.0  66.0       1                  2\n",
       "\n",
       "[200 rows x 4 columns]"
      ]
     },
     "execution_count": 100,
     "metadata": {},
     "output_type": "execute_result"
    }
   ],
   "source": [
    "np.random.seed(0)\n",
    "df = pd.DataFrame({'PieChart % Region': Reg.round(), 'Age': GP.round(), 'Gender': np.random.randint(1,3, 200), 'Accomodation Type': np.random.randint(1,5,200).round()})\n",
    "df"
   ]
  },
  {
   "cell_type": "markdown",
   "id": "ec47a7fc",
   "metadata": {},
   "source": [
    "Now I must convert the Accomodation Type from numbers into string values, convert Gender type values into strings this can be done as follows:"
   ]
  },
  {
   "cell_type": "code",
   "execution_count": 106,
   "id": "876da667",
   "metadata": {},
   "outputs": [
    {
     "data": {
      "text/html": [
       "<div>\n",
       "<style scoped>\n",
       "    .dataframe tbody tr th:only-of-type {\n",
       "        vertical-align: middle;\n",
       "    }\n",
       "\n",
       "    .dataframe tbody tr th {\n",
       "        vertical-align: top;\n",
       "    }\n",
       "\n",
       "    .dataframe thead th {\n",
       "        text-align: right;\n",
       "    }\n",
       "</style>\n",
       "<table border=\"1\" class=\"dataframe\">\n",
       "  <thead>\n",
       "    <tr style=\"text-align: right;\">\n",
       "      <th></th>\n",
       "      <th>PieChart % Region</th>\n",
       "      <th>Age</th>\n",
       "      <th>Gender</th>\n",
       "      <th>Accomodation Type</th>\n",
       "    </tr>\n",
       "  </thead>\n",
       "  <tbody>\n",
       "    <tr>\n",
       "      <th>0</th>\n",
       "      <td>49.0</td>\n",
       "      <td>31.0</td>\n",
       "      <td>Male</td>\n",
       "      <td>STA</td>\n",
       "    </tr>\n",
       "    <tr>\n",
       "      <th>1</th>\n",
       "      <td>12.0</td>\n",
       "      <td>25.0</td>\n",
       "      <td>Female</td>\n",
       "      <td>Other</td>\n",
       "    </tr>\n",
       "    <tr>\n",
       "      <th>2</th>\n",
       "      <td>67.0</td>\n",
       "      <td>22.0</td>\n",
       "      <td>Female</td>\n",
       "      <td>TEA</td>\n",
       "    </tr>\n",
       "    <tr>\n",
       "      <th>3</th>\n",
       "      <td>19.0</td>\n",
       "      <td>67.0</td>\n",
       "      <td>Male</td>\n",
       "      <td>Other</td>\n",
       "    </tr>\n",
       "    <tr>\n",
       "      <th>4</th>\n",
       "      <td>30.0</td>\n",
       "      <td>27.0</td>\n",
       "      <td>Female</td>\n",
       "      <td>Other</td>\n",
       "    </tr>\n",
       "    <tr>\n",
       "      <th>...</th>\n",
       "      <td>...</td>\n",
       "      <td>...</td>\n",
       "      <td>...</td>\n",
       "      <td>...</td>\n",
       "    </tr>\n",
       "    <tr>\n",
       "      <th>195</th>\n",
       "      <td>72.0</td>\n",
       "      <td>38.0</td>\n",
       "      <td>Male</td>\n",
       "      <td>TEA</td>\n",
       "    </tr>\n",
       "    <tr>\n",
       "      <th>196</th>\n",
       "      <td>21.0</td>\n",
       "      <td>18.0</td>\n",
       "      <td>Male</td>\n",
       "      <td>TEA</td>\n",
       "    </tr>\n",
       "    <tr>\n",
       "      <th>197</th>\n",
       "      <td>31.0</td>\n",
       "      <td>28.0</td>\n",
       "      <td>Female</td>\n",
       "      <td>Other</td>\n",
       "    </tr>\n",
       "    <tr>\n",
       "      <th>198</th>\n",
       "      <td>76.0</td>\n",
       "      <td>23.0</td>\n",
       "      <td>Male</td>\n",
       "      <td>Other</td>\n",
       "    </tr>\n",
       "    <tr>\n",
       "      <th>199</th>\n",
       "      <td>12.0</td>\n",
       "      <td>66.0</td>\n",
       "      <td>Male</td>\n",
       "      <td>STA</td>\n",
       "    </tr>\n",
       "  </tbody>\n",
       "</table>\n",
       "<p>200 rows × 4 columns</p>\n",
       "</div>"
      ],
      "text/plain": [
       "     PieChart % Region   Age  Gender Accomodation Type\n",
       "0                 49.0  31.0    Male               STA\n",
       "1                 12.0  25.0  Female             Other\n",
       "2                 67.0  22.0  Female               TEA\n",
       "3                 19.0  67.0    Male             Other\n",
       "4                 30.0  27.0  Female             Other\n",
       "..                 ...   ...     ...               ...\n",
       "195               72.0  38.0    Male               TEA\n",
       "196               21.0  18.0    Male               TEA\n",
       "197               31.0  28.0  Female             Other\n",
       "198               76.0  23.0    Male             Other\n",
       "199               12.0  66.0    Male               STA\n",
       "\n",
       "[200 rows x 4 columns]"
      ]
     },
     "execution_count": 106,
     "metadata": {},
     "output_type": "execute_result"
    }
   ],
   "source": [
    "df['Accomodation Type'].replace({1:'PEA', 2:'STA', 3:'Other', 4:'TEA'}, inplace=True)\n",
    "df['Gender'].replace({1:'Male', 2:'Female'}, inplace=True)\n",
    "df"
   ]
  },
  {
   "cell_type": "code",
   "execution_count": 107,
   "id": "106beacf",
   "metadata": {},
   "outputs": [
    {
     "data": {
      "text/plain": [
       "<seaborn.axisgrid.PairGrid at 0x2bf68c93340>"
      ]
     },
     "execution_count": 107,
     "metadata": {},
     "output_type": "execute_result"
    },
    {
     "data": {
      "image/png": "[encoded data removed]",
      "text/plain": [
       "<Figure size 646.736x500 with 6 Axes>"
      ]
     },
     "metadata": {},
     "output_type": "display_data"
    }
   ],
   "source": [
    "\n",
    "sns.pairplot(df, hue=\"Accomodation Type\")\n"
   ]
  },
  {
   "cell_type": "code",
   "execution_count": 108,
   "id": "f08666bd",
   "metadata": {},
   "outputs": [
    {
     "data": {
      "text/plain": [
       "Female    101\n",
       "Male       99\n",
       "Name: Gender, dtype: int64"
      ]
     },
     "execution_count": 108,
     "metadata": {},
     "output_type": "execute_result"
    }
   ],
   "source": [
    "df['Gender'].value_counts()"
   ]
  },
  {
   "cell_type": "code",
   "execution_count": 109,
   "id": "29961e10",
   "metadata": {},
   "outputs": [
    {
     "data": {
      "text/plain": [
       "STA      58\n",
       "TEA      53\n",
       "PEA      49\n",
       "Other    40\n",
       "Name: Accomodation Type, dtype: int64"
      ]
     },
     "execution_count": 109,
     "metadata": {},
     "output_type": "execute_result"
    }
   ],
   "source": [
    "df['Accomodation Type'].value_counts()"
   ]
  },
  {
   "cell_type": "code",
   "execution_count": 110,
   "id": "23c7ed44",
   "metadata": {},
   "outputs": [
    {
     "data": {
      "text/plain": [
       "0        STA\n",
       "1      Other\n",
       "2        TEA\n",
       "3      Other\n",
       "4      Other\n",
       "       ...  \n",
       "195      TEA\n",
       "196      TEA\n",
       "197    Other\n",
       "198    Other\n",
       "199      STA\n",
       "Name: Accomodation Type, Length: 200, dtype: object"
      ]
     },
     "execution_count": 110,
     "metadata": {},
     "output_type": "execute_result"
    }
   ],
   "source": [
    "df['Accomodation Type']"
   ]
  },
  {
   "cell_type": "code",
   "execution_count": 111,
   "id": "412a6b5a",
   "metadata": {},
   "outputs": [
    {
     "data": {
      "text/html": [
       "<div>\n",
       "<style scoped>\n",
       "    .dataframe tbody tr th:only-of-type {\n",
       "        vertical-align: middle;\n",
       "    }\n",
       "\n",
       "    .dataframe tbody tr th {\n",
       "        vertical-align: top;\n",
       "    }\n",
       "\n",
       "    .dataframe thead th {\n",
       "        text-align: right;\n",
       "    }\n",
       "</style>\n",
       "<table border=\"1\" class=\"dataframe\">\n",
       "  <thead>\n",
       "    <tr style=\"text-align: right;\">\n",
       "      <th></th>\n",
       "      <th>Gender</th>\n",
       "      <th>Age</th>\n",
       "    </tr>\n",
       "  </thead>\n",
       "  <tbody>\n",
       "    <tr>\n",
       "      <th>0</th>\n",
       "      <td>Male</td>\n",
       "      <td>31.0</td>\n",
       "    </tr>\n",
       "    <tr>\n",
       "      <th>1</th>\n",
       "      <td>Female</td>\n",
       "      <td>25.0</td>\n",
       "    </tr>\n",
       "    <tr>\n",
       "      <th>2</th>\n",
       "      <td>Female</td>\n",
       "      <td>22.0</td>\n",
       "    </tr>\n",
       "    <tr>\n",
       "      <th>3</th>\n",
       "      <td>Male</td>\n",
       "      <td>67.0</td>\n",
       "    </tr>\n",
       "    <tr>\n",
       "      <th>4</th>\n",
       "      <td>Female</td>\n",
       "      <td>27.0</td>\n",
       "    </tr>\n",
       "    <tr>\n",
       "      <th>...</th>\n",
       "      <td>...</td>\n",
       "      <td>...</td>\n",
       "    </tr>\n",
       "    <tr>\n",
       "      <th>195</th>\n",
       "      <td>Male</td>\n",
       "      <td>38.0</td>\n",
       "    </tr>\n",
       "    <tr>\n",
       "      <th>196</th>\n",
       "      <td>Male</td>\n",
       "      <td>18.0</td>\n",
       "    </tr>\n",
       "    <tr>\n",
       "      <th>197</th>\n",
       "      <td>Female</td>\n",
       "      <td>28.0</td>\n",
       "    </tr>\n",
       "    <tr>\n",
       "      <th>198</th>\n",
       "      <td>Male</td>\n",
       "      <td>23.0</td>\n",
       "    </tr>\n",
       "    <tr>\n",
       "      <th>199</th>\n",
       "      <td>Male</td>\n",
       "      <td>66.0</td>\n",
       "    </tr>\n",
       "  </tbody>\n",
       "</table>\n",
       "<p>200 rows × 2 columns</p>\n",
       "</div>"
      ],
      "text/plain": [
       "     Gender   Age\n",
       "0      Male  31.0\n",
       "1    Female  25.0\n",
       "2    Female  22.0\n",
       "3      Male  67.0\n",
       "4    Female  27.0\n",
       "..      ...   ...\n",
       "195    Male  38.0\n",
       "196    Male  18.0\n",
       "197  Female  28.0\n",
       "198    Male  23.0\n",
       "199    Male  66.0\n",
       "\n",
       "[200 rows x 2 columns]"
      ]
     },
     "execution_count": 111,
     "metadata": {},
     "output_type": "execute_result"
    }
   ],
   "source": [
    "df[['Gender','Age']]"
   ]
  },
  {
   "cell_type": "code",
   "execution_count": 112,
   "id": "1a7bd8d6",
   "metadata": {},
   "outputs": [
    {
     "data": {
      "text/html": [
       "<div>\n",
       "<style scoped>\n",
       "    .dataframe tbody tr th:only-of-type {\n",
       "        vertical-align: middle;\n",
       "    }\n",
       "\n",
       "    .dataframe tbody tr th {\n",
       "        vertical-align: top;\n",
       "    }\n",
       "\n",
       "    .dataframe thead th {\n",
       "        text-align: right;\n",
       "    }\n",
       "</style>\n",
       "<table border=\"1\" class=\"dataframe\">\n",
       "  <thead>\n",
       "    <tr style=\"text-align: right;\">\n",
       "      <th></th>\n",
       "      <th>PieChart % Region</th>\n",
       "      <th>Age</th>\n",
       "      <th>Gender</th>\n",
       "      <th>Accomodation Type</th>\n",
       "    </tr>\n",
       "  </thead>\n",
       "  <tbody>\n",
       "    <tr>\n",
       "      <th>0</th>\n",
       "      <td>49.0</td>\n",
       "      <td>31.0</td>\n",
       "      <td>Male</td>\n",
       "      <td>STA</td>\n",
       "    </tr>\n",
       "    <tr>\n",
       "      <th>1</th>\n",
       "      <td>12.0</td>\n",
       "      <td>25.0</td>\n",
       "      <td>Female</td>\n",
       "      <td>Other</td>\n",
       "    </tr>\n",
       "    <tr>\n",
       "      <th>2</th>\n",
       "      <td>67.0</td>\n",
       "      <td>22.0</td>\n",
       "      <td>Female</td>\n",
       "      <td>TEA</td>\n",
       "    </tr>\n",
       "    <tr>\n",
       "      <th>3</th>\n",
       "      <td>19.0</td>\n",
       "      <td>67.0</td>\n",
       "      <td>Male</td>\n",
       "      <td>Other</td>\n",
       "    </tr>\n",
       "    <tr>\n",
       "      <th>4</th>\n",
       "      <td>30.0</td>\n",
       "      <td>27.0</td>\n",
       "      <td>Female</td>\n",
       "      <td>Other</td>\n",
       "    </tr>\n",
       "  </tbody>\n",
       "</table>\n",
       "</div>"
      ],
      "text/plain": [
       "   PieChart % Region   Age  Gender Accomodation Type\n",
       "0               49.0  31.0    Male               STA\n",
       "1               12.0  25.0  Female             Other\n",
       "2               67.0  22.0  Female               TEA\n",
       "3               19.0  67.0    Male             Other\n",
       "4               30.0  27.0  Female             Other"
      ]
     },
     "execution_count": 112,
     "metadata": {},
     "output_type": "execute_result"
    }
   ],
   "source": [
    "df[0:5]# First five Rows"
   ]
  },
  {
   "cell_type": "code",
   "execution_count": 113,
   "id": "574c0083",
   "metadata": {},
   "outputs": [
    {
     "data": {
      "text/html": [
       "<div>\n",
       "<style scoped>\n",
       "    .dataframe tbody tr th:only-of-type {\n",
       "        vertical-align: middle;\n",
       "    }\n",
       "\n",
       "    .dataframe tbody tr th {\n",
       "        vertical-align: top;\n",
       "    }\n",
       "\n",
       "    .dataframe thead th {\n",
       "        text-align: right;\n",
       "    }\n",
       "</style>\n",
       "<table border=\"1\" class=\"dataframe\">\n",
       "  <thead>\n",
       "    <tr style=\"text-align: right;\">\n",
       "      <th></th>\n",
       "      <th>Gender</th>\n",
       "      <th>Age</th>\n",
       "    </tr>\n",
       "  </thead>\n",
       "  <tbody>\n",
       "    <tr>\n",
       "      <th>0</th>\n",
       "      <td>Male</td>\n",
       "      <td>31.0</td>\n",
       "    </tr>\n",
       "    <tr>\n",
       "      <th>1</th>\n",
       "      <td>Female</td>\n",
       "      <td>25.0</td>\n",
       "    </tr>\n",
       "    <tr>\n",
       "      <th>2</th>\n",
       "      <td>Female</td>\n",
       "      <td>22.0</td>\n",
       "    </tr>\n",
       "    <tr>\n",
       "      <th>3</th>\n",
       "      <td>Male</td>\n",
       "      <td>67.0</td>\n",
       "    </tr>\n",
       "    <tr>\n",
       "      <th>4</th>\n",
       "      <td>Female</td>\n",
       "      <td>27.0</td>\n",
       "    </tr>\n",
       "  </tbody>\n",
       "</table>\n",
       "</div>"
      ],
      "text/plain": [
       "   Gender   Age\n",
       "0    Male  31.0\n",
       "1  Female  25.0\n",
       "2  Female  22.0\n",
       "3    Male  67.0\n",
       "4  Female  27.0"
      ]
     },
     "execution_count": 113,
     "metadata": {},
     "output_type": "execute_result"
    }
   ],
   "source": [
    "df[['Gender','Age']][0:5]# First Five Rows with just Gender & Age"
   ]
  },
  {
   "cell_type": "code",
   "execution_count": 114,
   "id": "249dd7fb",
   "metadata": {},
   "outputs": [
    {
     "data": {
      "text/html": [
       "<div>\n",
       "<style scoped>\n",
       "    .dataframe tbody tr th:only-of-type {\n",
       "        vertical-align: middle;\n",
       "    }\n",
       "\n",
       "    .dataframe tbody tr th {\n",
       "        vertical-align: top;\n",
       "    }\n",
       "\n",
       "    .dataframe thead th {\n",
       "        text-align: right;\n",
       "    }\n",
       "</style>\n",
       "<table border=\"1\" class=\"dataframe\">\n",
       "  <thead>\n",
       "    <tr style=\"text-align: right;\">\n",
       "      <th></th>\n",
       "      <th>Gender</th>\n",
       "      <th>Age</th>\n",
       "    </tr>\n",
       "  </thead>\n",
       "  <tbody>\n",
       "    <tr>\n",
       "      <th>0</th>\n",
       "      <td>Male</td>\n",
       "      <td>31.0</td>\n",
       "    </tr>\n",
       "    <tr>\n",
       "      <th>1</th>\n",
       "      <td>Female</td>\n",
       "      <td>25.0</td>\n",
       "    </tr>\n",
       "    <tr>\n",
       "      <th>2</th>\n",
       "      <td>Female</td>\n",
       "      <td>22.0</td>\n",
       "    </tr>\n",
       "    <tr>\n",
       "      <th>3</th>\n",
       "      <td>Male</td>\n",
       "      <td>67.0</td>\n",
       "    </tr>\n",
       "    <tr>\n",
       "      <th>4</th>\n",
       "      <td>Female</td>\n",
       "      <td>27.0</td>\n",
       "    </tr>\n",
       "    <tr>\n",
       "      <th>5</th>\n",
       "      <td>Female</td>\n",
       "      <td>19.0</td>\n",
       "    </tr>\n",
       "  </tbody>\n",
       "</table>\n",
       "</div>"
      ],
      "text/plain": [
       "   Gender   Age\n",
       "0    Male  31.0\n",
       "1  Female  25.0\n",
       "2  Female  22.0\n",
       "3    Male  67.0\n",
       "4  Female  27.0\n",
       "5  Female  19.0"
      ]
     },
     "execution_count": 114,
     "metadata": {},
     "output_type": "execute_result"
    }
   ],
   "source": [
    "df.loc[0:5, ['Gender', 'Age']]"
   ]
  },
  {
   "cell_type": "code",
   "execution_count": 115,
   "id": "f716f8b1",
   "metadata": {},
   "outputs": [
    {
     "data": {
      "text/plain": [
       "PieChart % Region       7.0\n",
       "Age                    45.0\n",
       "Gender               Female\n",
       "Accomodation Type       TEA\n",
       "Name: 10, dtype: object"
      ]
     },
     "execution_count": 115,
     "metadata": {},
     "output_type": "execute_result"
    }
   ],
   "source": [
    "df.iloc[10]# locates and displays all data in row 10"
   ]
  },
  {
   "cell_type": "code",
   "execution_count": 116,
   "id": "60921e9d",
   "metadata": {},
   "outputs": [
    {
     "data": {
      "text/html": [
       "<div>\n",
       "<style scoped>\n",
       "    .dataframe tbody tr th:only-of-type {\n",
       "        vertical-align: middle;\n",
       "    }\n",
       "\n",
       "    .dataframe tbody tr th {\n",
       "        vertical-align: top;\n",
       "    }\n",
       "\n",
       "    .dataframe thead th {\n",
       "        text-align: right;\n",
       "    }\n",
       "</style>\n",
       "<table border=\"1\" class=\"dataframe\">\n",
       "  <thead>\n",
       "    <tr style=\"text-align: right;\">\n",
       "      <th></th>\n",
       "      <th>PieChart % Region</th>\n",
       "      <th>Age</th>\n",
       "      <th>Gender</th>\n",
       "      <th>Accomodation Type</th>\n",
       "    </tr>\n",
       "  </thead>\n",
       "  <tbody>\n",
       "    <tr>\n",
       "      <th>0</th>\n",
       "      <td>49.0</td>\n",
       "      <td>31.0</td>\n",
       "      <td>Male</td>\n",
       "      <td>STA</td>\n",
       "    </tr>\n",
       "    <tr>\n",
       "      <th>1</th>\n",
       "      <td>12.0</td>\n",
       "      <td>25.0</td>\n",
       "      <td>Female</td>\n",
       "      <td>Other</td>\n",
       "    </tr>\n",
       "    <tr>\n",
       "      <th>2</th>\n",
       "      <td>67.0</td>\n",
       "      <td>22.0</td>\n",
       "      <td>Female</td>\n",
       "      <td>TEA</td>\n",
       "    </tr>\n",
       "    <tr>\n",
       "      <th>3</th>\n",
       "      <td>19.0</td>\n",
       "      <td>67.0</td>\n",
       "      <td>Male</td>\n",
       "      <td>Other</td>\n",
       "    </tr>\n",
       "    <tr>\n",
       "      <th>4</th>\n",
       "      <td>30.0</td>\n",
       "      <td>27.0</td>\n",
       "      <td>Female</td>\n",
       "      <td>Other</td>\n",
       "    </tr>\n",
       "  </tbody>\n",
       "</table>\n",
       "</div>"
      ],
      "text/plain": [
       "   PieChart % Region   Age  Gender Accomodation Type\n",
       "0               49.0  31.0    Male               STA\n",
       "1               12.0  25.0  Female             Other\n",
       "2               67.0  22.0  Female               TEA\n",
       "3               19.0  67.0    Male             Other\n",
       "4               30.0  27.0  Female             Other"
      ]
     },
     "execution_count": 116,
     "metadata": {},
     "output_type": "execute_result"
    }
   ],
   "source": [
    "df.head()"
   ]
  },
  {
   "cell_type": "code",
   "execution_count": 117,
   "id": "040b5ba7",
   "metadata": {},
   "outputs": [
    {
     "data": {
      "text/html": [
       "<div>\n",
       "<style scoped>\n",
       "    .dataframe tbody tr th:only-of-type {\n",
       "        vertical-align: middle;\n",
       "    }\n",
       "\n",
       "    .dataframe tbody tr th {\n",
       "        vertical-align: top;\n",
       "    }\n",
       "\n",
       "    .dataframe thead th {\n",
       "        text-align: right;\n",
       "    }\n",
       "</style>\n",
       "<table border=\"1\" class=\"dataframe\">\n",
       "  <thead>\n",
       "    <tr style=\"text-align: right;\">\n",
       "      <th></th>\n",
       "      <th>PieChart % Region</th>\n",
       "      <th>Age</th>\n",
       "      <th>Gender</th>\n",
       "      <th>Accomodation Type</th>\n",
       "    </tr>\n",
       "  </thead>\n",
       "  <tbody>\n",
       "    <tr>\n",
       "      <th>195</th>\n",
       "      <td>72.0</td>\n",
       "      <td>38.0</td>\n",
       "      <td>Male</td>\n",
       "      <td>TEA</td>\n",
       "    </tr>\n",
       "    <tr>\n",
       "      <th>196</th>\n",
       "      <td>21.0</td>\n",
       "      <td>18.0</td>\n",
       "      <td>Male</td>\n",
       "      <td>TEA</td>\n",
       "    </tr>\n",
       "    <tr>\n",
       "      <th>197</th>\n",
       "      <td>31.0</td>\n",
       "      <td>28.0</td>\n",
       "      <td>Female</td>\n",
       "      <td>Other</td>\n",
       "    </tr>\n",
       "    <tr>\n",
       "      <th>198</th>\n",
       "      <td>76.0</td>\n",
       "      <td>23.0</td>\n",
       "      <td>Male</td>\n",
       "      <td>Other</td>\n",
       "    </tr>\n",
       "    <tr>\n",
       "      <th>199</th>\n",
       "      <td>12.0</td>\n",
       "      <td>66.0</td>\n",
       "      <td>Male</td>\n",
       "      <td>STA</td>\n",
       "    </tr>\n",
       "  </tbody>\n",
       "</table>\n",
       "</div>"
      ],
      "text/plain": [
       "     PieChart % Region   Age  Gender Accomodation Type\n",
       "195               72.0  38.0    Male               TEA\n",
       "196               21.0  18.0    Male               TEA\n",
       "197               31.0  28.0  Female             Other\n",
       "198               76.0  23.0    Male             Other\n",
       "199               12.0  66.0    Male               STA"
      ]
     },
     "execution_count": 117,
     "metadata": {},
     "output_type": "execute_result"
    }
   ],
   "source": [
    "\n",
    "df.tail()"
   ]
  },
  {
   "cell_type": "code",
   "execution_count": 118,
   "id": "fd302d5f",
   "metadata": {},
   "outputs": [
    {
     "data": {
      "text/html": [
       "<div>\n",
       "<style scoped>\n",
       "    .dataframe tbody tr th:only-of-type {\n",
       "        vertical-align: middle;\n",
       "    }\n",
       "\n",
       "    .dataframe tbody tr th {\n",
       "        vertical-align: top;\n",
       "    }\n",
       "\n",
       "    .dataframe thead th {\n",
       "        text-align: right;\n",
       "    }\n",
       "</style>\n",
       "<table border=\"1\" class=\"dataframe\">\n",
       "  <thead>\n",
       "    <tr style=\"text-align: right;\">\n",
       "      <th></th>\n",
       "      <th>PieChart % Region</th>\n",
       "      <th>Age</th>\n",
       "    </tr>\n",
       "  </thead>\n",
       "  <tbody>\n",
       "    <tr>\n",
       "      <th>count</th>\n",
       "      <td>200.000000</td>\n",
       "      <td>200.000000</td>\n",
       "    </tr>\n",
       "    <tr>\n",
       "      <th>mean</th>\n",
       "      <td>49.865000</td>\n",
       "      <td>45.560000</td>\n",
       "    </tr>\n",
       "    <tr>\n",
       "      <th>std</th>\n",
       "      <td>22.037583</td>\n",
       "      <td>20.310069</td>\n",
       "    </tr>\n",
       "    <tr>\n",
       "      <th>min</th>\n",
       "      <td>5.000000</td>\n",
       "      <td>18.000000</td>\n",
       "    </tr>\n",
       "    <tr>\n",
       "      <th>25%</th>\n",
       "      <td>31.000000</td>\n",
       "      <td>24.750000</td>\n",
       "    </tr>\n",
       "    <tr>\n",
       "      <th>50%</th>\n",
       "      <td>49.000000</td>\n",
       "      <td>44.500000</td>\n",
       "    </tr>\n",
       "    <tr>\n",
       "      <th>75%</th>\n",
       "      <td>68.000000</td>\n",
       "      <td>64.250000</td>\n",
       "    </tr>\n",
       "    <tr>\n",
       "      <th>max</th>\n",
       "      <td>97.000000</td>\n",
       "      <td>80.000000</td>\n",
       "    </tr>\n",
       "  </tbody>\n",
       "</table>\n",
       "</div>"
      ],
      "text/plain": [
       "       PieChart % Region         Age\n",
       "count         200.000000  200.000000\n",
       "mean           49.865000   45.560000\n",
       "std            22.037583   20.310069\n",
       "min             5.000000   18.000000\n",
       "25%            31.000000   24.750000\n",
       "50%            49.000000   44.500000\n",
       "75%            68.000000   64.250000\n",
       "max            97.000000   80.000000"
      ]
     },
     "execution_count": 118,
     "metadata": {},
     "output_type": "execute_result"
    }
   ],
   "source": [
    "df.describe()"
   ]
  },
  {
   "cell_type": "code",
   "execution_count": null,
   "id": "70e44356",
   "metadata": {},
   "outputs": [],
   "source": []
  },
  {
   "cell_type": "code",
   "execution_count": 122,
   "id": "365e2746",
   "metadata": {},
   "outputs": [
    {
     "name": "stderr",
     "output_type": "stream",
     "text": [
      "C:\\Users\\sarah\\AppData\\Local\\Temp\\ipykernel_1280\\3622196284.py:1: FutureWarning: Dropping of nuisance columns in DataFrame reductions (with 'numeric_only=None') is deprecated; in a future version this will raise TypeError.  Select only valid columns before calling the reduction.\n",
      "  df.std()# Standard Deviation\n"
     ]
    },
    {
     "data": {
      "text/plain": [
       "PieChart % Region    22.037583\n",
       "Age                  20.310069\n",
       "dtype: float64"
      ]
     },
     "execution_count": 122,
     "metadata": {},
     "output_type": "execute_result"
    }
   ],
   "source": [
    "df.std()# Standard Deviation"
   ]
  },
  {
   "cell_type": "code",
   "execution_count": 134,
   "id": "4825a2a1",
   "metadata": {},
   "outputs": [
    {
     "name": "stdout",
     "output_type": "stream",
     "text": [
      "     Age  Gender    AccommodationType     Region\n",
      "0     45    male  Supported Temporary  Elsewhere\n",
      "1     70  female  Supported Temporary  Elsewhere\n",
      "2     68    male  Supported Temporary  Elsewhere\n",
      "3     32    male    Private Emergency  Elsewhere\n",
      "4     33    male    Private Emergency  Elsewhere\n",
      "..   ...     ...                  ...        ...\n",
      "495   45    male                Other     Dublin\n",
      "496   46  female                Other  Elsewhere\n",
      "497   23    male    Private Emergency  Elsewhere\n",
      "498   43    male    Private Emergency  Elsewhere\n",
      "499   21  female    Private Emergency     Dublin\n",
      "\n",
      "[500 rows x 4 columns]\n"
     ]
    }
   ],
   "source": [
    "import numpy as np\n",
    "import pandas as pd\n",
    "\n",
    "gender = ['male', 'female']\n",
    "accommodation_types = ['Private Emergency', 'Supported Temporary', 'Temporary Emergency', 'Other']\n",
    "\n",
    "# Create the base DataFrame\n",
    "df_homelessness = pd.DataFrame({\n",
    "    'Age': np.random.randint(18, 80, 500),\n",
    "    'Gender': np.random.choice(gender, 500, p=[0.5, 0.5]),\n",
    "    'AccommodationType': np.random.choice(accommodation_types, 500, p=[0.3, 0.2, 0.1, 0.4]),\n",
    "    'Region': np.random.choice(['Dublin', 'Elsewhere'], 500, p=[0.3, 0.7])  # Adjust probabilities accordingly\n",
    "})\n",
    "\n",
    "# Display the DataFrame\n",
    "print(df_homelessness)\n"
   ]
  },
  {
   "cell_type": "code",
   "execution_count": null,
   "id": "a8efa03e",
   "metadata": {},
   "outputs": [],
   "source": []
  },
  {
   "cell_type": "markdown",
   "id": "7520e624",
   "metadata": {},
   "source": [
    "References\n",
    "\n",
    "https://www.irishtimes.com/politics/2023/11/20/homeless-costs-top-300m-in-dublin-as-council-agrees-134bn-budget/\n",
    "\n",
    "\n",
    "https://www.irishtimes.com/ireland/social-affairs/2023/11/24/number-of-homeless-people-surpasses-13000-mark/#:~:text=The%20number%20of%20homeless%20people,mark%2C%20including%20almost%204%2C000%20children.\n",
    "\n",
    "\n",
    "https://www.breakingnews.ie/ireland/obroin-calls-for-wider-count-of-homelessness-to-reflect-true-numbers-1554122.html\n",
    "\n",
    "https://www.irishtimes.com/ireland/social-affairs/2023/11/20/o-broin-calls-for-independent-monitoring-of-homeless-figures-to-understand-true-level/\n",
    "\n",
    "\n",
    "https://housingireland.ie/homelessness-figures-increase/\n",
    "\n",
    "\n",
    "https://www.sciencedirect.com/topics/mathematics/triangular-distribution#:~:text=The%20triangular%20distribution%20is%20when,conduct%20a%20full%20statistical%20analysis.\n",
    "\n",
    "https://selectra.ie/moving/tips/housing-crisis-ireland#:~:text=Most%20experts%20agree%20that%20the,essentially%20stopped%20building%20social%20housing.\n",
    "\n",
    "https://www.focusireland.ie/knowledge-hub/latest-figures/\n",
    "\n",
    "https://www.focusireland.ie/wp-content/uploads/2021/10/Focus-On-Homelessness-Significant-2021.pdf\n",
    "\n",
    "\n",
    "https://stats.oarc.ucla.edu/other/mult-pkg/whatstat/what-is-the-difference-between-categorical-ordinal-and-interval-variables/\n",
    "\n",
    "https://www.sciencedirect.com/topics/mathematics/triangular-distribution#:~:text=The%20triangular%20distribution%20is%20when,conduct%20a%20full%20statistical%20analysis."
   ]
  },
  {
   "cell_type": "code",
   "execution_count": null,
   "id": "f5dacf6a",
   "metadata": {},
   "outputs": [],
   "source": []
  },
  {
   "cell_type": "code",
   "execution_count": null,
   "id": "e241c4e5",
   "metadata": {},
   "outputs": [],
   "source": []
  },
  {
   "cell_type": "code",
   "execution_count": null,
   "id": "04381efc",
   "metadata": {},
   "outputs": [],
   "source": []
  },
  {
   "cell_type": "code",
   "execution_count": null,
   "id": "cfb69436",
   "metadata": {},
   "outputs": [],
   "source": []
  }
 ],
 "metadata": {
  "kernelspec": {
   "display_name": "Python 3 (ipykernel)",
   "language": "python",
   "name": "python3"
  },
  "language_info": {
   "codemirror_mode": {
    "name": "ipython",
    "version": 3
   },
   "file_extension": ".py",
   "mimetype": "text/x-python",
   "name": "python",
   "nbconvert_exporter": "python",
   "pygments_lexer": "ipython3",
   "version": "3.9.13"
  }
 },
 "nbformat": 4,
 "nbformat_minor": 5
}
